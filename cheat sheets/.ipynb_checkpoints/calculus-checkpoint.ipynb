{
 "cells": [
  {
   "cell_type": "markdown",
   "metadata": {},
   "source": [
    "### Derivative Formulas\n",
    "\n",
    "$\\newcommand{\\dv}{\\displaystyle \\frac{d}{dx}}$\n",
    "$\\newcommand{\\ds}{\\displaystyle}$\n",
    "   \n",
    "| Formula Rule | Formula Example Formula Example | Related Derivative Formula | Where Condition |\n",
    "| -- | -- | -- | -- |\n",
    "| | $\\ds f(x) = ax^b + c$ | $\\ds \\frac{d}{dx}f(x) = abx^{b-1} dx $ |\n",
    "| | $\\ds f(x) = a_1x^b_1 + a_2x^b_2 + c$ | $\\displaystyle \\frac{d}{dx}f(x) = a_1b_1x^{b_1-1} + a_2b_2x^{b_2-1} dx $ |\n",
    "| | $\\ds f(x) = e^x + c $ | $\\ds \\frac{d}{dx}f(x) = e ^x dx $ |\n",
    "| | $\\ds f(x) = ln(x) + c $ | $\\ds \\frac{d}{dx}f(x) = x^{-1} dx $ |\n",
    "| | $\\ds \\big(\\alpha\\;f(x)\\big)^{\\prime} = \\alpha\\;f^{\\prime}(x) $ | $\\dv \\big(\\alpha\\;f(x)\\big) = \\alpha\\;\\dv f(x)$ | $\\alpha\\in\\mathbb{R}$ |\n",
    "| Sum Rule | $\\ds (f \\pm g)^{\\prime} $ | $\\ds f^{\\prime}(x) \\pm g^{\\prime}(x)$ | |\n",
    "| | $\\dv \\Big( \\sum_{i=1}^{n} f_i(x) \\Big)$ | $\\ds \\sum_{i=1}^{n} \\dv f_i(x) $ | |\n",
    "| | $\\dv f( x ) $ | $ 1 $ |\n",
    "| | $\\dv f( sin\\;x ) $ | $\\ds cos\\;x $ |\n",
    "| | $\\dv f( cos\\;x ) $ | $\\ds -sin\\;x $ |\n",
    "| | $\\dv f( tan\\;x ) $ | $\\ds sec^2\\;x $ |\n",
    "| | $\\dv f( sec\\;x ) $ | $\\ds sec\\;x\\;tan\\;x $ |\n",
    "| | $\\dv f( csc\\;x ) $ | $\\ds -csc\\;x\\;cot\\;x $ |\n",
    "| | $\\dv f( cot\\;x ) $ | $\\ds -csc^2\\;x $ |\n",
    "\n",
    "\n",
    "\n",
    "\n",
    "### Integral Formulas\n",
    "| Rule | Formula Example Formula Example | Related Derivative Formula Related Derivative Formula |\n",
    "| -- | -- | -- |\n",
    "\n"
   ]
  },
  {
   "cell_type": "code",
   "execution_count": null,
   "metadata": {},
   "outputs": [],
   "source": []
  }
 ],
 "metadata": {
  "kernelspec": {
   "display_name": "Python 3",
   "language": "python",
   "name": "python3"
  },
  "language_info": {
   "codemirror_mode": {
    "name": "ipython",
    "version": 3
   },
   "file_extension": ".py",
   "mimetype": "text/x-python",
   "name": "python",
   "nbconvert_exporter": "python",
   "pygments_lexer": "ipython3",
   "version": "3.6.4"
  }
 },
 "nbformat": 4,
 "nbformat_minor": 2
}

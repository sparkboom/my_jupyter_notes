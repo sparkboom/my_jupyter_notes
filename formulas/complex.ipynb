{
 "cells": [
  {
   "cell_type": "markdown",
   "metadata": {},
   "source": [
    "$\\newcommand{\\mi}{\\mathrm{i}}$\n",
    "$\\newcommand{\\suchthat}{ s.t.\\; }$\n",
    "# Complex Numbers\n",
    "https://texblog.org/2013/11/27/complex-number-symbols-in-latex/\n",
    "\n",
    "Complex numbers are a 2-dimensional number represented on a plane.\n",
    "\n",
    "\n",
    "Set of all complex numbers: $\\mathbb{C}$\n",
    "\n",
    "Rectangular Notation: $z = a + ib\n",
    "\n",
    "$\\suchthat i^2 = -1$\n",
    "\n",
    "Real part denotation: $a, \\Re(z)$ and $\\operatorname{Re}(z)$\n",
    "\n",
    "Imaginary part denotation: b, $\\Im(z)$ and $\\operatorname{Im}(z)$\n",
    "\n",
    "Polar Notation: z $\\angle \\theta$\n",
    "\n",
    "$\\suchthat$ z is the magnitude/modulus, $\\theta$ is the angle/argument\n",
    "\n",
    "----\n",
    "## Complex Modulus\n",
    "http://mathworld.wolfram.com/ComplexArgument.html\n",
    "\n",
    "$z \\equiv x + iy = |z|\\;e^{i\\theta}$\n",
    "\n",
    "$|z|$ = complex modulus of z, $|z| \\in \\mathbb{R}^{+}$<br/>\n",
    "${\\theta}$ = the argument (or 'phase', rarely/confusingly 'amplitude' ), ${\\theta} \\in \\mathbb{R}$<br/>\n",
    "$\\mi$ = imaginary constant $\\sqrt{-1}$\n",
    "\n"
   ]
  },
  {
   "cell_type": "markdown",
   "metadata": {},
   "source": [
    "----\n",
    "## Complex Number Formula\n",
    "https://byjus.com/complex-number-formula\n",
    "\n",
    "\n",
    "#### Equality of Complex Numbers Formula\n",
    "\n",
    "$a+b\\mi = c + d\\mi \\iff a=c \\land b = d$\n",
    "\n",
    "#### Addition\n",
    "$ (a+b\\mi) + (c + d\\mi) = (a+c) + (b+d)\\mi$\n",
    "\n",
    "#### Subtraction\n",
    "$ (a+b\\mi) - (c + d\\mi) = (a-c) + (b-d)\\mi$\n",
    "\n",
    "#### Multiplication\n",
    "$ (a+b\\mi) \\times (c + d\\mi) = (ac-bd) + (ad+bc)\\mi$\n",
    "\n",
    "#### Multiplication Conjugates\n",
    "$ (a+b\\mi)(a-b\\mi) = a^2 + b^2$\n",
    "\n",
    "#### Division\n",
    "$ \\frac{a+b\\mi}{c+d\\mi} \\;=\\; \\frac{a+b\\mi}{c+d\\mi} \\times \\frac{c-d\\mi}{c-d\\mi} \\;=\\; \\frac{ac+bd}{c^2 + d^2} + \\frac{bc-ad}{c^2 + d^2}\\mi $"
   ]
  },
  {
   "cell_type": "markdown",
   "metadata": {},
   "source": [
    "----\n",
    "### Powers of Imaginary Numbers\n",
    "$\\mi^n = i$ $,\\; n = 4a+1 \\land a \\in \\mathbb{Z}$\n",
    "\n",
    "$\\mi^n = -1$ $,\\; n = 4a+2 \\land a \\in \\mathbb{Z}$\n",
    "\n",
    "$\\mi^n = -i$ $,\\; n = 4a+3 \\land a \\in \\mathbb{Z}$\n",
    "\n",
    "$\\mi^n = 1$ $,\\; n = 4a+4 \\land a \\in \\mathbb{Z}$"
   ]
  },
  {
   "cell_type": "markdown",
   "metadata": {},
   "source": [
    "----\n",
    "### Complex Number Power Formula\n",
    "\n",
    "$\\displaystyle Z^n = (re^{i\\theta})^n = r^ne^{in\\theta}$\n",
    "\n",
    "Z - complex number<br/>\n",
    "n - exponent<br/>\n",
    "r - radius ($r^2 = a^2 + b^2$)<br/>\n",
    "$\\theta$ - tangent<br/>\n",
    "e - euler's constant<br/>\n",
    "\n",
    "#### example\n",
    "\n",
    "$(3 + 3\\mi)^5$\n",
    "\n",
    "$Z = (3 + 3\\mi), n = 5 $\n",
    "\n",
    "$r = \\sqrt{9 + 9} = \\sqrt{9}\\sqrt{2} = 3\\sqrt{2}$\n",
    "\n",
    "$tan  \\theta = \\frac{3}{3} \\implies \\arg z = \\frac{\\pi}{4} $"
   ]
  },
  {
   "cell_type": "code",
   "execution_count": null,
   "metadata": {},
   "outputs": [],
   "source": []
  }
 ],
 "metadata": {
  "kernelspec": {
   "display_name": "Python 3",
   "language": "python",
   "name": "python3"
  },
  "language_info": {
   "codemirror_mode": {
    "name": "ipython",
    "version": 3
   },
   "file_extension": ".py",
   "mimetype": "text/x-python",
   "name": "python",
   "nbconvert_exporter": "python",
   "pygments_lexer": "ipython3",
   "version": "3.6.4"
  }
 },
 "nbformat": 4,
 "nbformat_minor": 2
}

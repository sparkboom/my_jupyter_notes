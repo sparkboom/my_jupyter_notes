{
 "cells": [
  {
   "cell_type": "markdown",
   "metadata": {},
   "source": [
    "# Python language\n",
    "\n",
    "https://docs.python.org/3.6/library/index.html\n",
    "\n",
    "### Popular Libs\n",
    "\n",
    "#### Multimedia\n",
    "[pillow](https://github.com/python-pillow/Pillow) - [pyglet](https://bitbucket.org/pyglet/pyglet/wiki/Home)\n",
    " \n",
    "#### Datbase\n",
    "\n",
    "[sql alchemy](http://www.sqlalchemy.org/) - \n",
    "\n",
    "#### Web/Parsing\n",
    "[requests](http://www.python-requests.org/en/master/) - [scrapy](https://scrapy.org/) - [beautiful soup](https://www.crummy.com/software/BeautifulSoup/) - \n",
    "\n",
    "#### Network\n",
    "[twisted](https://twistedmatrix.com/trac/) - \n",
    "\n",
    "#### Testing\n",
    "[nose](https://code.google.com/archive/p/python-nose/) - "
   ]
  },
  {
   "cell_type": "code",
   "execution_count": null,
   "metadata": {},
   "outputs": [],
   "source": []
  }
 ],
 "metadata": {
  "kernelspec": {
   "display_name": "Python 3",
   "language": "python",
   "name": "python3"
  },
  "language_info": {
   "codemirror_mode": {
    "name": "ipython",
    "version": 3
   },
   "file_extension": ".py",
   "mimetype": "text/x-python",
   "name": "python",
   "nbconvert_exporter": "python",
   "pygments_lexer": "ipython3",
   "version": "3.6.5"
  }
 },
 "nbformat": 4,
 "nbformat_minor": 2
}

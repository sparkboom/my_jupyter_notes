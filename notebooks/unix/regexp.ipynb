{
 "cells": [
  {
   "cell_type": "markdown",
   "metadata": {},
   "source": [
    "# Reg Exp\n",
    "\n",
    "|||\n",
    "|-|-|\n",
    "|*| match preceeding 0+ times |\n",
    "|+| match preceeding 1+ times |\n",
    "|?| match preceeding 0 or 1 times |\n",
    "|.| match anything |\n",
    "|x&#124;y| match x or y |\n",
    "|\\| escape |\n"
   ]
  },
  {
   "cell_type": "code",
   "execution_count": null,
   "metadata": {},
   "outputs": [],
   "source": []
  }
 ],
 "metadata": {
  "kernelspec": {
   "display_name": "Python 3",
   "language": "python",
   "name": "python3"
  },
  "language_info": {
   "codemirror_mode": {
    "name": "ipython",
    "version": 3
   },
   "file_extension": ".py",
   "mimetype": "text/x-python",
   "name": "python",
   "nbconvert_exporter": "python",
   "pygments_lexer": "ipython3",
   "version": "3.6.5"
  }
 },
 "nbformat": 4,
 "nbformat_minor": 2
}

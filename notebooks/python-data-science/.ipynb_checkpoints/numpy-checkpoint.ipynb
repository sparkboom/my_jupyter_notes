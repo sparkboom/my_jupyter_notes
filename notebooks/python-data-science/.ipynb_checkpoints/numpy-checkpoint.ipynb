{
 "cells": [
  {
   "cell_type": "code",
   "execution_count": 219,
   "metadata": {},
   "outputs": [],
   "source": [
    "import numpy as np\n",
    "import pylab as p\n",
    "from IPython.display import display, Markdown"
   ]
  },
  {
   "cell_type": "code",
   "execution_count": 220,
   "metadata": {},
   "outputs": [],
   "source": [
    "%run display_helpers.py"
   ]
  },
  {
   "cell_type": "markdown",
   "metadata": {},
   "source": [
    "# Numpy\n",
    "\n",
    "## Introduction\n",
    "\n",
    "Huge numerical library for multi-dimensional array\n",
    "- main object is homogeneous\n",
    "- elements are typically numbers\n",
    "- indexed by a tuple of positive integer\n",
    "- dimensions are called _axes_\n"
   ]
  },
  {
   "cell_type": "markdown",
   "metadata": {},
   "source": [
    "----\n",
    "### Resources\n",
    "- [Quick Start](https://docs.scipy.org/doc/numpy/user/quickstart.html)\n",
    "- [Docs](https://docs.scipy.org/doc/)\n",
    "- [DataCamp - Cheat Sheet](https://s3.amazonaws.com/assets.datacamp.com/blog_assets/Numpy_Python_Cheat_Sheet.pdf)\n",
    "- [Data Quest - Cheat Sheet](https://www.dataquest.io/blog/large_files/numpy-cheat-sheet.pdf)\n",
    "- [Math function list](https://docs.scipy.org/doc/numpy-1.13.0/reference/routines.math.html)"
   ]
  },
  {
   "cell_type": "markdown",
   "metadata": {},
   "source": [
    "----\n",
    "## NDArray \n",
    "\n",
    "### Creation"
   ]
  },
  {
   "cell_type": "markdown",
   "metadata": {},
   "source": [
    "#### Generate"
   ]
  },
  {
   "cell_type": "markdown",
   "metadata": {},
   "source": [
    "> **Homogenous Values**\n",
    ">\n",
    "> - np.**empty**(shape, dtype=float, order='C') [➚](https://docs.scipy.org/doc/numpy/reference/generated/numpy.empty.html)\n",
    "> - np.**ones**(shape, dtype=None, order='C') [➚](https://docs.scipy.org/doc/numpy/reference/generated/numpy.ones.html)\n",
    "> - np.**zeros**(shape, dtype=float, order='C') [➚](https://docs.scipy.org/doc/numpy/reference/generated/numpy.zeros.html)\n",
    "> - np.**full**(shape, fill_value, dtype=None, order='C') [➚](https://docs.scipy.org/doc/numpy/reference/generated/numpy.full.html)"
   ]
  },
  {
   "cell_type": "code",
   "execution_count": 243,
   "metadata": {},
   "outputs": [
    {
     "data": {
      "text/latex": [
       "$${\\small  \n",
       "\\begin{bmatrix}\n",
       "0.00& 0.00\\\\\n",
       "391.07& 252.34\\\\\n",
       "\n",
       "\\end{bmatrix}\n",
       "}$$"
      ],
      "text/plain": [
       "<IPython.core.display.Math object>"
      ]
     },
     "metadata": {},
     "output_type": "display_data"
    }
   ],
   "source": [
    "n = np.empty([2, 2])\n",
    "print_matrix(n)"
   ]
  },
  {
   "cell_type": "code",
   "execution_count": 244,
   "metadata": {},
   "outputs": [
    {
     "data": {
      "text/latex": [
       "$${\\small  \n",
       "\\begin{bmatrix}\n",
       "1.00& 1.00\\\\\n",
       "1.00& 1.00\\\\\n",
       "\n",
       "\\end{bmatrix}\n",
       "}$$"
      ],
      "text/plain": [
       "<IPython.core.display.Math object>"
      ]
     },
     "metadata": {},
     "output_type": "display_data"
    }
   ],
   "source": [
    "# C style-order (stored by rows in memory)\n",
    "n = np.ones([2, 2], order = 'C')\n",
    "print_matrix(n)"
   ]
  },
  {
   "cell_type": "code",
   "execution_count": 245,
   "metadata": {},
   "outputs": [
    {
     "data": {
      "text/latex": [
       "$${\\small  \n",
       "\\begin{bmatrix}\n",
       "0& 0\\\\\n",
       "0& 0\\\\\n",
       "\n",
       "\\end{bmatrix}\n",
       "}$$"
      ],
      "text/plain": [
       "<IPython.core.display.Math object>"
      ]
     },
     "metadata": {},
     "output_type": "display_data"
    }
   ],
   "source": [
    "# Fortran-order (stored by columns in memory)\n",
    "n = np.zeros([2, 2], dtype=int, order = 'F')\n",
    "print_matrix(n)"
   ]
  },
  {
   "cell_type": "code",
   "execution_count": 246,
   "metadata": {},
   "outputs": [
    {
     "data": {
      "text/latex": [
       "$${\\small  \n",
       "\\begin{bmatrix}\n",
       "0.00+1.00j& 0.00+1.00j\\\\\n",
       "0.00+1.00j& 0.00+1.00j\\\\\n",
       "\n",
       "\\end{bmatrix}\n",
       "}$$"
      ],
      "text/plain": [
       "<IPython.core.display.Math object>"
      ]
     },
     "metadata": {},
     "output_type": "display_data"
    }
   ],
   "source": [
    "n = np.full([2, 2], 0 + 1j , dtype=np.complex64)\n",
    "print_matrix(n)"
   ]
  },
  {
   "cell_type": "markdown",
   "metadata": {},
   "source": [
    "> **Homogenous Shaped Values**\n",
    ">\n",
    "> - np.**empty_like**(a, dtype=None, order='K', subok=True) [➚](https://docs.scipy.org/doc/numpy/reference/generated/numpy.empty_like.html)\n",
    "> - np.**ones_like**(a, dtype=None, order='K', subok=True) [➚](https://docs.scipy.org/doc/numpy/reference/generated/numpy.ones_like.html)\n",
    "> - np.**zeros_like**(a, dtype=None, order='K', subok=True) [➚](https://docs.scipy.org/doc/numpy/reference/generated/numpy.zeros_like.html)\n",
    "> - np.**full_like**(a, fill_value, dtype=None, order='K', subok=True) [➚](https://docs.scipy.org/doc/numpy/reference/generated/numpy.full_like.html)"
   ]
  },
  {
   "cell_type": "code",
   "execution_count": 225,
   "metadata": {},
   "outputs": [
    {
     "data": {
      "text/latex": [
       "$${\\small  \n",
       "\\begin{bmatrix}\n",
       "0.00& 2000.00& 4000.00\\\\\n",
       "6000.00& 8000.00& 10000.00\\\\\n",
       "\n",
       "\\end{bmatrix}\n",
       "}$$"
      ],
      "text/plain": [
       "<IPython.core.display.Math object>"
      ]
     },
     "metadata": {},
     "output_type": "display_data"
    }
   ],
   "source": [
    "n = np.empty_like(np.empty([2, 3]), dtype=float)\n",
    "print_matrix(n)"
   ]
  },
  {
   "cell_type": "code",
   "execution_count": 226,
   "metadata": {},
   "outputs": [
    {
     "data": {
      "text/latex": [
       "$${\\small  \n",
       "\\begin{bmatrix}\n",
       "1.00& 1.00& 1.00\\\\\n",
       "\n",
       "\\end{bmatrix}\n",
       "}$$"
      ],
      "text/plain": [
       "<IPython.core.display.Math object>"
      ]
     },
     "metadata": {},
     "output_type": "display_data"
    }
   ],
   "source": [
    "n = np.ones_like(np.empty([1, 3]))\n",
    "print_matrix(n)"
   ]
  },
  {
   "cell_type": "code",
   "execution_count": 227,
   "metadata": {},
   "outputs": [
    {
     "data": {
      "text/latex": [
       "$${\\small  \n",
       "\\begin{bmatrix}\n",
       "0.00& 0.00\\\\\n",
       "0.00& 0.00\\\\\n",
       "0.00& 0.00\\\\\n",
       "\n",
       "\\end{bmatrix}\n",
       "}$$"
      ],
      "text/plain": [
       "<IPython.core.display.Math object>"
      ]
     },
     "metadata": {},
     "output_type": "display_data"
    }
   ],
   "source": [
    "n = np.zeros_like(np.empty([3, 2]))\n",
    "print_matrix(n)"
   ]
  },
  {
   "cell_type": "code",
   "execution_count": 228,
   "metadata": {},
   "outputs": [
    {
     "data": {
      "text/latex": [
       "$${\\small  \n",
       "\\begin{bmatrix}\n",
       "9.00& 9.00& 9.00& 9.00\\\\\n",
       "9.00& 9.00& 9.00& 9.00\\\\\n",
       "9.00& 9.00& 9.00& 9.00\\\\\n",
       "9.00& 9.00& 9.00& 9.00\\\\\n",
       "\n",
       "\\end{bmatrix}\n",
       "}$$"
      ],
      "text/plain": [
       "<IPython.core.display.Math object>"
      ]
     },
     "metadata": {},
     "output_type": "display_data"
    }
   ],
   "source": [
    "n = np.full_like(np.empty([4, 4]), 9)\n",
    "print_matrix(n)"
   ]
  },
  {
   "cell_type": "markdown",
   "metadata": {},
   "source": [
    "> **Identity**\n",
    ">\n",
    "> - np.**identity**(n, dtype=None) [➚](https://docs.scipy.org/doc/numpy/reference/generated/numpy.identity.html)\n",
    "> - np.**eye**(N, M=None, k=0, dtype='float', order='C') [➚](https://docs.scipy.org/doc/numpy/reference/generated/numpy.eye.html)\n",
    ">    - like identity, but non-square, and offset"
   ]
  },
  {
   "cell_type": "code",
   "execution_count": 229,
   "metadata": {},
   "outputs": [
    {
     "data": {
      "text/latex": [
       "$${\\small  \n",
       "\\begin{bmatrix}\n",
       "1.00& 0.00& 0.00& 0.00& 0.00\\\\\n",
       "0.00& 1.00& 0.00& 0.00& 0.00\\\\\n",
       "0.00& 0.00& 1.00& 0.00& 0.00\\\\\n",
       "0.00& 0.00& 0.00& 1.00& 0.00\\\\\n",
       "0.00& 0.00& 0.00& 0.00& 1.00\\\\\n",
       "\n",
       "\\end{bmatrix}\n",
       "}$$"
      ],
      "text/plain": [
       "<IPython.core.display.Math object>"
      ]
     },
     "metadata": {},
     "output_type": "display_data"
    }
   ],
   "source": [
    "n = np.identity(5, dtype=float)\n",
    "print_matrix(n)"
   ]
  },
  {
   "cell_type": "code",
   "execution_count": 230,
   "metadata": {},
   "outputs": [
    {
     "data": {
      "text/latex": [
       "$${\\small  \n",
       "\\begin{bmatrix}\n",
       "1.00& 0.00& 0.00\\\\\n",
       "0.00& 1.00& 0.00\\\\\n",
       "0.00& 0.00& 1.00\\\\\n",
       "\n",
       "\\end{bmatrix}\n",
       "}$$"
      ],
      "text/plain": [
       "<IPython.core.display.Math object>"
      ]
     },
     "metadata": {},
     "output_type": "display_data"
    }
   ],
   "source": [
    "n = np.eye(3)\n",
    "print_matrix(n)"
   ]
  },
  {
   "cell_type": "code",
   "execution_count": 231,
   "metadata": {},
   "outputs": [
    {
     "data": {
      "text/latex": [
       "$${\\small  \n",
       "\\begin{bmatrix}\n",
       "0.00& 1.00& 0.00& 0.00\\\\\n",
       "0.00& 0.00& 1.00& 0.00\\\\\n",
       "0.00& 0.00& 0.00& 1.00\\\\\n",
       "\n",
       "\\end{bmatrix}\n",
       "}$$"
      ],
      "text/plain": [
       "<IPython.core.display.Math object>"
      ]
     },
     "metadata": {},
     "output_type": "display_data"
    }
   ],
   "source": [
    "n = np.eye(3,4,k=1)\n",
    "print_matrix(n)"
   ]
  },
  {
   "cell_type": "markdown",
   "metadata": {},
   "source": [
    "> **Ranges**\n",
    ">\n",
    "> - np.**arange**([start,] stop[, step,], dtype=None) [➚](https://docs.scipy.org/doc/numpy/reference/generated/numpy.arange.html)\n",
    "> - np.**linspace**(start, stop, num=50, endpoint=True, retstep=False, dtype=None) [➚](https://docs.scipy.org/doc/numpy/reference/generated/numpy.linspace.html)\n",
    "> - np.**logspace**(start, stop, num=50, endpoint=True, base=10.0, dtype=None) [➚](https://docs.scipy.org/doc/numpy/reference/generated/numpy.logspace.html)\n",
    "> - np.**geomspace**(start, stop, num=50, endpoint=True, base=10.0, dtype=None) [➚](https://docs.scipy.org/doc/numpy/reference/generated/numpy.geomspace.html)"
   ]
  },
  {
   "cell_type": "markdown",
   "metadata": {},
   "source": [
    "#### np.arange"
   ]
  },
  {
   "cell_type": "code",
   "execution_count": 232,
   "metadata": {},
   "outputs": [
    {
     "data": {
      "text/latex": [
       "$${\\small  \n",
       "\\begin{bmatrix}\n",
       "0& 1& 2\n",
       "\\end{bmatrix}\n",
       "}$$"
      ],
      "text/plain": [
       "<IPython.core.display.Math object>"
      ]
     },
     "metadata": {},
     "output_type": "display_data"
    }
   ],
   "source": [
    "n = np.arange(3)\n",
    "print_matrix(n)"
   ]
  },
  {
   "cell_type": "code",
   "execution_count": 233,
   "metadata": {},
   "outputs": [
    {
     "data": {
      "text/latex": [
       "$${\\small  \n",
       "\\begin{bmatrix}\n",
       "0.00& 1.00& 2.00\n",
       "\\end{bmatrix}\n",
       "}$$"
      ],
      "text/plain": [
       "<IPython.core.display.Math object>"
      ]
     },
     "metadata": {},
     "output_type": "display_data"
    }
   ],
   "source": [
    "n = np.arange(3.0)\n",
    "print_matrix(n)"
   ]
  },
  {
   "cell_type": "code",
   "execution_count": 234,
   "metadata": {},
   "outputs": [
    {
     "data": {
      "text/latex": [
       "$${\\small  \n",
       "\\begin{bmatrix}\n",
       "0.00+0.00j\n",
       "\\end{bmatrix}\n",
       "}$$"
      ],
      "text/plain": [
       "<IPython.core.display.Math object>"
      ]
     },
     "metadata": {},
     "output_type": "display_data"
    }
   ],
   "source": [
    "n = np.arange(3.0 + 1.0j)\n",
    "print_matrix(n)"
   ]
  },
  {
   "cell_type": "markdown",
   "metadata": {},
   "source": [
    "#### np.linspace"
   ]
  },
  {
   "cell_type": "code",
   "execution_count": 235,
   "metadata": {},
   "outputs": [
    {
     "data": {
      "text/latex": [
       "$${\\small  \n",
       "\\begin{bmatrix}\n",
       "0.00& 5.00& 10.00& 15.00& 20.00& 25.00& \t…\\\\\n",
       "30.00& 35.00& 40.00& 45.00& 50.00& 55.00& \t…\\\\\n",
       "60.00& 65.00& 70.00& 75.00& 80.00\n",
       "\\end{bmatrix}\n",
       "}$$"
      ],
      "text/plain": [
       "<IPython.core.display.Math object>"
      ]
     },
     "metadata": {},
     "output_type": "display_data"
    }
   ],
   "source": [
    "lin1 = np.linspace(0,80, 17)\n",
    "print_matrix(lin1)"
   ]
  },
  {
   "cell_type": "code",
   "execution_count": 236,
   "metadata": {},
   "outputs": [
    {
     "data": {
      "text/latex": [
       "$${\\small  \n",
       "\\begin{bmatrix}\n",
       "0.00& 4.71& 9.41& 14.12& 18.82& 23.53& \t…\\\\\n",
       "28.24& 32.94& 37.65& 42.35& 47.06& 51.76& \t…\\\\\n",
       "56.47& 61.18& 65.88& 70.59& 75.29\n",
       "\\end{bmatrix}\n",
       "}$$"
      ],
      "text/plain": [
       "<IPython.core.display.Math object>"
      ]
     },
     "metadata": {},
     "output_type": "display_data"
    }
   ],
   "source": [
    "lin2 = np.linspace(0,80, 17, False)\n",
    "print_matrix(lin2)"
   ]
  },
  {
   "cell_type": "code",
   "execution_count": 237,
   "metadata": {},
   "outputs": [
    {
     "data": {
      "text/plain": [
       "<module 'pylab' from '/usr/local/anaconda3/lib/python3.6/site-packages/pylab.py'>"
      ]
     },
     "metadata": {},
     "output_type": "display_data"
    },
    {
     "data": {
      "image/png": "[encoded data removed]",
      "text/plain": [
       "<Figure size 432x288 with 1 Axes>"
      ]
     },
     "metadata": {},
     "output_type": "display_data"
    }
   ],
   "source": [
    "p.plot(lin1, np.zeros(17), 'o')\n",
    "p.plot(lin2, np.ones(17), 'o')\n",
    "p.xlim(0, 80)\n",
    "display(p)"
   ]
  },
  {
   "cell_type": "markdown",
   "metadata": {},
   "source": [
    "#### np.logspace\n",
    "\n",
    "$\\tiny{hi}$"
   ]
  },
  {
   "cell_type": "code",
   "execution_count": 238,
   "metadata": {},
   "outputs": [
    {
     "data": {
      "text/latex": [
       "$${\\tiny  \n",
       "\\begin{bmatrix}\n",
       "1.00E+00& 1.42E+00& 2.01E+00& 2.85E+00& 4.04E+00& 5.72E+00& \t…\\\\\n",
       "8.11E+00& 1.15E+01& 1.63E+01& 2.31E+01& 3.27E+01& 4.64E+01& \t…\\\\\n",
       "6.58E+01& 9.33E+01& 1.32E+02& 1.87E+02& 2.66E+02& 3.76E+02& \t…\\\\\n",
       "5.34E+02& 7.56E+02& 1.07E+03& 1.52E+03& 2.15E+03& 3.05E+03& \t…\\\\\n",
       "4.33E+03& 6.14E+03& 8.70E+03& 1.23E+04& 1.75E+04& 2.48E+04& \t…\\\\\n",
       "3.51E+04& 4.98E+04& 7.05E+04& 1.00E+05& 1.42E+05& 2.01E+05& \t…\\\\\n",
       "2.85E+05& 4.04E+05& 5.72E+05& 8.11E+05& 1.15E+06& 1.63E+06& \t…\\\\\n",
       "2.31E+06& 3.27E+06& 4.64E+06& 6.58E+06& 9.33E+06& 1.32E+07& \t…\\\\\n",
       "1.87E+07& 2.66E+07& 3.76E+07& 5.34E+07& 7.56E+07& 1.07E+08& \t…\\\\\n",
       "1.52E+08& 2.15E+08& 3.05E+08& 4.33E+08& 6.14E+08& 8.70E+08& \t…\\\\\n",
       "1.23E+09& 1.75E+09& 2.48E+09& 3.51E+09& 4.98E+09& 7.05E+09& \t…\\\\\n",
       "1.00E+10& 1.42E+10& 2.01E+10& 2.85E+10& 4.04E+10& 5.72E+10& \t…\\\\\n",
       "8.11E+10& 1.15E+11& 1.63E+11& 2.31E+11& 3.27E+11& 4.64E+11& \t…\\\\\n",
       "6.58E+11& 9.33E+11& 1.32E+12& 1.87E+12& 2.66E+12& 3.76E+12& \t…\\\\\n",
       "5.34E+12& 7.56E+12& 1.07E+13& 1.52E+13& 2.15E+13& 3.05E+13& \t…\\\\\n",
       "4.33E+13& 6.14E+13& 8.70E+13& 1.23E+14& 1.75E+14& 2.48E+14& \t…\\\\\n",
       "3.51E+14& 4.98E+14& 7.05E+14& 1.00E+15\n",
       "\\end{bmatrix}\n",
       "}$$"
      ],
      "text/plain": [
       "<IPython.core.display.Math object>"
      ]
     },
     "metadata": {},
     "output_type": "display_data"
    }
   ],
   "source": [
    "log1 = np.logspace(0, 15, num=100, endpoint=True, base=10.0, dtype=None)\n",
    "print_matrix(log1, format_str=\"{:.2E}\", font_size=\"tiny\")"
   ]
  },
  {
   "cell_type": "code",
   "execution_count": 239,
   "metadata": {},
   "outputs": [
    {
     "data": {
      "text/plain": [
       "<module 'pylab' from '/usr/local/anaconda3/lib/python3.6/site-packages/pylab.py'>"
      ]
     },
     "metadata": {},
     "output_type": "display_data"
    },
    {
     "data": {
      "image/png": "[encoded data removed]",
      "text/plain": [
       "<Figure size 432x288 with 1 Axes>"
      ]
     },
     "metadata": {},
     "output_type": "display_data"
    }
   ],
   "source": [
    "p.plot(np.arange(100), log1)\n",
    "display(p)"
   ]
  },
  {
   "cell_type": "markdown",
   "metadata": {},
   "source": [
    "#### np.geomspace"
   ]
  },
  {
   "cell_type": "code",
   "execution_count": 240,
   "metadata": {},
   "outputs": [
    {
     "data": {
      "text/latex": [
       "$${\\tiny  \n",
       "\\begin{bmatrix}\n",
       "1.00& 1.10& 1.20& 1.32& 1.45& 1.59& \t…\\\\\n",
       "1.75& 1.92& 2.10& 2.31& 2.54& 2.78& \t…\\\\\n",
       "3.05& 3.35& 3.68& 4.04& 4.43& 4.86& \t…\\\\\n",
       "5.34& 5.86& 6.43& 7.05& 7.74& 8.50& \t…\\\\\n",
       "9.33& 10.24& 11.23& 12.33& 13.53& 14.85& \t…\\\\\n",
       "16.30& 17.89& 19.63& 21.54& 23.64& 25.95& \t…\\\\\n",
       "28.48& 31.26& 34.30& 37.65& 41.32& 45.35& \t…\\\\\n",
       "49.77& 54.62& 59.95& 65.79& 72.21& 79.25& \t…\\\\\n",
       "86.97& 95.45& 104.76& 114.98& 126.19& 138.49& \t…\\\\\n",
       "151.99& 166.81& 183.07& 200.92& 220.51& 242.01& \t…\\\\\n",
       "265.61& 291.51& 319.93& 351.12& 385.35& 422.92& \t…\\\\\n",
       "464.16& 509.41& 559.08& 613.59& 673.42& 739.07& \t…\\\\\n",
       "811.13& 890.22& 977.01& 1072.27& 1176.81& 1291.55& \t…\\\\\n",
       "1417.47& 1555.68& 1707.35& 1873.82& 2056.51& 2257.02& \t…\\\\\n",
       "2477.08& 2718.59& 2983.65& 3274.55& 3593.81& 3944.21& \t…\\\\\n",
       "4328.76& 4750.81& 5214.01& 5722.37& 6280.29& 6892.61& \t…\\\\\n",
       "7564.63& 8302.18& 9111.63& 10000.00\n",
       "\\end{bmatrix}\n",
       "}$$"
      ],
      "text/plain": [
       "<IPython.core.display.Math object>"
      ]
     },
     "metadata": {},
     "output_type": "display_data"
    }
   ],
   "source": [
    "geo1 = np.geomspace(1, 10000, num=100, endpoint=True, dtype=None)\n",
    "print_matrix(geo1, font_size=\"tiny\")"
   ]
  },
  {
   "cell_type": "code",
   "execution_count": 241,
   "metadata": {},
   "outputs": [
    {
     "data": {
      "text/plain": [
       "<module 'pylab' from '/usr/local/anaconda3/lib/python3.6/site-packages/pylab.py'>"
      ]
     },
     "metadata": {},
     "output_type": "display_data"
    },
    {
     "data": {
      "image/png": "[encoded data removed]",
      "text/plain": [
       "<Figure size 432x288 with 1 Axes>"
      ]
     },
     "metadata": {},
     "output_type": "display_data"
    }
   ],
   "source": [
    "p.plot(np.arange(100), geo1)\n",
    "display(p)"
   ]
  },
  {
   "cell_type": "markdown",
   "metadata": {},
   "source": [
    "----\n",
    "\n",
    "## From Existing Data\n",
    "\n",
    "from\n",
    "[frombuffer] - [fromfile] - [fromfunction] - [fromiter] - [fromstring]\n",
    "\n",
    "grid\n",
    "[mgrid] - [ogrid]\n",
    "\n",
    "conversion (as)\n",
    "\n",
    "[array] - [asarray](https://docs.scipy.org/doc/numpy/reference/generated/numpy.asarray.html#numpy.asarray) - [asanyarray] - [ascontiguousarray] - [asfarray] - [asfortranarray] - [asarray_chkfinite]\n",
    "\n",
    "#### Copying\n",
    "\n",
    "[copy] - [view]\n",
    "\n",
    "## Import/Export\n",
    "\n",
    "[save] - [savez] - [savetxt(path,arr,del)]\n",
    "[load] - [loadtxt(path)] - [genfromtext(csvpath, del)]\n",
    "\n",
    "#### iterating ndarray\n",
    "\n",
    "#### matrix multiplication\n",
    "\n",
    "#### ndarray subclasses\n",
    "\n",
    "[matrix] - [memory-mapped file arays] - [char arrays] - [record arrays] - [masked arrays]\n",
    "\n",
    "#### Structure Manipulation\n",
    "\n",
    "[transpose] - [ravel (flatten)] - [reshape] - [resize] - [append] - [insert] - [delete] - [concatenate] - [vstack] - [hstack] - [r_] - [column_stack] - [c_] - [hsplit] - [vsplit]"
   ]
  },
  {
   "cell_type": "markdown",
   "metadata": {},
   "source": [
    "----\n",
    "\n",
    "### Data Types [➚](https://docs.scipy.org/doc/numpy-1.13.0/user/basics.types.html)\n",
    "\n",
    "bool_\n",
    "float - float16 - float32 - float_/float64 - float128\n",
    "int_ - intc (C int) - intp (used for indexing)\n",
    "int8  - int16 - int32 - int64\n",
    "uint8  - uint16 - uint32 - uint64\n",
    "complex_ - complex64 - complex128\n",
    "(c types) short - long - longlong - ushort - ulong - ulonglong\n",
    "\n",
    "[(structured array)](https://docs.scipy.org/doc/numpy-1.13.0/user/basics.rec.html#structured-arrays)\n",
    "\n",
    "[np.int64] - [np.float32] - [np.complex] - [np.bool] - [np.object] - [np.string] - [np.unicode]"
   ]
  },
  {
   "cell_type": "markdown",
   "metadata": {},
   "source": [
    "----\n",
    "\n",
    "### Inspection\n",
    "\n",
    "[shape] - [len] - [ndim] - [size] - [dtype]\n",
    "\n",
    "### Info \n",
    "\n",
    "[info]"
   ]
  },
  {
   "cell_type": "markdown",
   "metadata": {},
   "source": [
    "----\n",
    "\n",
    "### Computation\n",
    "\n",
    "#### Comparison\n",
    "\n",
    "[==] - [<=] - [>=] - [<] - [>] - [array_equal]\n",
    "\n",
    "#### Subsets, Slices, Indexing\n",
    "\n",
    "[ \\[r\\] ] - [ \\[r, c\\] ] - [ \\[r:r2, c\\] ] - [ \\[r:\\] ] - [ \\[:r2\\] ] - [ \\[r, ...\\] ] - [ \\[ : : -1\\] ] - [ \\[n<a\\] ] - [ \\[  \\[ \\],  \\[ \\] \\] ]\n",
    "\n",
    "#### Sort\n",
    "\n",
    "[sort]"
   ]
  },
  {
   "cell_type": "code",
   "execution_count": null,
   "metadata": {},
   "outputs": [],
   "source": []
  },
  {
   "cell_type": "code",
   "execution_count": null,
   "metadata": {},
   "outputs": [],
   "source": []
  },
  {
   "cell_type": "markdown",
   "metadata": {},
   "source": []
  },
  {
   "cell_type": "code",
   "execution_count": 242,
   "metadata": {},
   "outputs": [
    {
     "data": {
      "text/markdown": [
       "----"
      ],
      "text/plain": [
       "<IPython.core.display.Markdown object>"
      ]
     },
     "metadata": {},
     "output_type": "display_data"
    },
    {
     "data": {
      "text/markdown": [
       "### Construction"
      ],
      "text/plain": [
       "<IPython.core.display.Markdown object>"
      ]
     },
     "metadata": {},
     "output_type": "display_data"
    },
    {
     "data": {
      "text/markdown": [
       "#### np.array - Integer"
      ],
      "text/plain": [
       "<IPython.core.display.Markdown object>"
      ]
     },
     "metadata": {},
     "output_type": "display_data"
    },
    {
     "data": {
      "text/markdown": [
       "*constructor - from Python 64 bit integer array*"
      ],
      "text/plain": [
       "<IPython.core.display.Markdown object>"
      ]
     },
     "metadata": {},
     "output_type": "display_data"
    },
    {
     "ename": "NameError",
     "evalue": "name 'python' is not defined",
     "output_type": "error",
     "traceback": [
      "\u001b[0;31m---------------------------------------------------------------------------\u001b[0m",
      "\u001b[0;31mNameError\u001b[0m                                 Traceback (most recent call last)",
      "\u001b[0;32m<ipython-input-242-149aea748e0d>\u001b[0m in \u001b[0;36m<module>\u001b[0;34m()\u001b[0m\n\u001b[1;32m      6\u001b[0m \u001b[0msubhead\u001b[0m\u001b[0;34m(\u001b[0m\u001b[0;34m'np.array - Integer'\u001b[0m\u001b[0;34m)\u001b[0m\u001b[0;34m\u001b[0m\u001b[0m\n\u001b[1;32m      7\u001b[0m \u001b[0mdesc\u001b[0m\u001b[0;34m(\u001b[0m\u001b[0;34m'constructor - from Python 64 bit integer array'\u001b[0m\u001b[0;34m)\u001b[0m\u001b[0;34m\u001b[0m\u001b[0m\n\u001b[0;32m----> 8\u001b[0;31m \u001b[0mpython\u001b[0m\u001b[0;34m(\u001b[0m\u001b[0;34m'np.array([*range(1,10)])'\u001b[0m\u001b[0;34m)\u001b[0m\u001b[0;34m\u001b[0m\u001b[0m\n\u001b[0m\u001b[1;32m      9\u001b[0m \u001b[0mprint\u001b[0m\u001b[0;34m(\u001b[0m\u001b[0mnp\u001b[0m\u001b[0;34m.\u001b[0m\u001b[0marray\u001b[0m\u001b[0;34m(\u001b[0m\u001b[0marr\u001b[0m\u001b[0;34m)\u001b[0m\u001b[0;34m)\u001b[0m\u001b[0;34m\u001b[0m\u001b[0m\n\u001b[1;32m     10\u001b[0m \u001b[0;34m\u001b[0m\u001b[0m\n",
      "\u001b[0;31mNameError\u001b[0m: name 'python' is not defined"
     ]
    }
   ],
   "source": [
    "lb()\n",
    "head(\"Construction\")\n",
    "\n",
    "# python array - 64bit Integer\n",
    "arr = [*range(1,10)]\n",
    "subhead('np.array - Integer')\n",
    "desc('constructor - from Python 64 bit integer array')\n",
    "python('np.array([*range(1,10)])')\n",
    "print(np.array(arr))\n",
    "\n",
    "# python array - Float\n",
    "farr = [x / 1.0 for x in range(5, 50, 5)]\n",
    "subhead('np.array - Float')\n",
    "desc('constructor - from Python float array')\n",
    "python('np.array([x / 1.0 for x in range(5, 50, 5)])')\n",
    "print(np.array(farr))\n",
    "\n",
    "# python array - specific type (ex complex)\n",
    "carr = [*range(1,10)]\n",
    "subhead('np.array - Type Cast (Complex)')\n",
    "desc('constructor - casted Python array (complex)')\n",
    "python('np.array([*range(1,5)], dtype=complex)')\n",
    "print(np.array([*range(1,5)], dtype=complex))\n",
    "\n",
    "subhead('np.copy')\n",
    "desc('constructor - copy array, equivalent to np.array(arr, copy=True)')\n",
    "python('np.copy(arr)')\n",
    "print(np.array(arr))\n",
    "\n",
    "print(\"\")\n",
    "\n",
    "# np.arange\n",
    "subhead('np.arange')\n",
    "desc('constructor - using NumPy\\'s arange')\n",
    "python('np.arange(9)')\n",
    "print(np.arange(9))\n",
    "\n",
    "# np.zeros\n",
    "subhead('np.zeros')\n",
    "desc('constructor - sparse data, set all to 0')\n",
    "python('np.zeros( (3, 4) )')\n",
    "print(np.zeros( (3,4) ))\n",
    "\n",
    "# np.ones\n",
    "subhead('np.ones')\n",
    "desc('constructor - default all to 1')\n",
    "python('np.ones( (3, 4) )')\n",
    "print(np.ones( (3,4) ))\n",
    "\n",
    "# np.empty\n",
    "subhead('np.empty')\n",
    "desc('constructor - uninitialized, non-determinstic results')\n",
    "python('np.empty( (3, 4) )')\n",
    "print(np.empty( (3,4) ))\n",
    "\n",
    "print(\"\")\n",
    "\n",
    "# np.linspace\n",
    "subhead('np.linspace')\n",
    "desc('constructor - linear range of values')\n",
    "python('np.linspace(0, 2*pi, 40)')\n",
    "print(np.linspace(0, 2*np.pi, 40))\n",
    "\n",
    "print(\"\")\n",
    "\n",
    "# np.fromfunction\n",
    "subhead('np.fromfunction')\n",
    "desc('constructor - from function output')\n",
    "\n",
    "# np.fromfile\n",
    "subhead('np.fromfile')\n",
    "desc('constructor - from file, csv?')\n",
    "\n",
    "print(\"\")\n",
    "\n",
    "# np.random.rand\n",
    "subhead('np.random.random')\n",
    "desc('constructor - random matrix generator')\n",
    "\n",
    "# np.random.rand\n",
    "subhead('np.random.rand')\n",
    "desc('constructor - random matrix generator')\n",
    "\n",
    "# np.random.rand\n",
    "subhead('np.random.randn')\n",
    "desc('constructor - random matrix generator')"
   ]
  },
  {
   "cell_type": "markdown",
   "metadata": {},
   "source": [
    "create with same shape\n",
    "np.zeros_like()\n",
    "np.ones_like()\n",
    "np.empty_like()"
   ]
  },
  {
   "cell_type": "code",
   "execution_count": null,
   "metadata": {},
   "outputs": [],
   "source": [
    "lb()\n",
    "\n",
    "arr = np.arange(15).reshape(3, 5)\n",
    "\n",
    "header('np.reshape')\n",
    "desc('Arrange data into dimensions')\n",
    "python('np.arange(15).reshape(3, 5)')\n",
    "print(arr)\n",
    "\n",
    "header('np.shape')\n",
    "desc('Display dimension size')\n",
    "python('arr.shape')\n",
    "print(arr.shape)"
   ]
  },
  {
   "cell_type": "code",
   "execution_count": null,
   "metadata": {},
   "outputs": [],
   "source": [
    "lb()\n",
    "arr = np.arange(15).reshape(3, 5)\n",
    "\n",
    "header('np.ndim')\n",
    "desc('Number of dimensions')\n",
    "python('arr.ndim')\n",
    "print(arr.ndim)\n",
    "\n",
    "\n",
    "header('np.dtype')\n",
    "desc('The datatype used in array')\n",
    "python('arr.dtype.name')\n",
    "print(arr.dtype.name)\n",
    "\n",
    "\n",
    "header('np.itemsize')\n",
    "desc('Bytes required by each element')\n",
    "python('arr.itemsize')\n",
    "print(arr.itemsize)\n",
    "\n",
    "\n",
    "header('np.size')\n",
    "desc('Total number of elements')\n",
    "python('arr.size')\n",
    "print(arr.size)"
   ]
  },
  {
   "cell_type": "markdown",
   "metadata": {},
   "source": [
    "Matrix Operations\n",
    "a.dot(b)       // matrix dot product\n",
    "np.dot(A, B)   // matrix dot product\n",
    "\n",
    "\n",
    "Vector/Element-wise Operations\n",
    "a = np.array( [20,30,40,50] )\n",
    "b = np.arange( 4 )\n",
    "a - b = array([20, 29, 38, 47])\n",
    "b ** 2 = array([0, 1, 4, 9])\n",
    "a < 35 = array([ True, True, False, False])\n",
    "a * b = array([0, 30, 80, 150])\n",
    "\n",
    "Linear Operations\n",
    "np.sin(n)\n",
    "np.exp(n)\n",
    "np.sqrt(n)\n",
    "np.add(n)\n",
    "\n",
    "n.sum(axis)\n",
    "n.min(axis)\n",
    "n.max(axis)\n",
    "n.cumsum(axis)  //cumulative sum\n",
    "\n",
    "// slicing\n",
    "\n",
    "n[2]       // index 2\n",
    "n[2:5]     // slice 2,3,4\n",
    "n[0:6:2]=0 // reset 0,2,4 to 0\n",
    "n[ : :-1]  // reverse"
   ]
  }
 ],
 "metadata": {
  "kernelspec": {
   "display_name": "Python 3",
   "language": "python",
   "name": "python3"
  },
  "language_info": {
   "codemirror_mode": {
    "name": "ipython",
    "version": 3
   },
   "file_extension": ".py",
   "mimetype": "text/x-python",
   "name": "python",
   "nbconvert_exporter": "python",
   "pygments_lexer": "ipython3",
   "version": "3.6.5"
  }
 },
 "nbformat": 4,
 "nbformat_minor": 2
}

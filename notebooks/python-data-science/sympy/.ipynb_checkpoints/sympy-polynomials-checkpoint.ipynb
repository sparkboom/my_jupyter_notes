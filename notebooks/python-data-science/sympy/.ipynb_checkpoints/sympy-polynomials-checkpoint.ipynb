{
 "cells": [
  {
   "cell_type": "code",
   "execution_count": 4,
   "metadata": {},
   "outputs": [],
   "source": [
    "import sympy as sp\n",
    "x,y,z = sp.symbols('x,y,z')\n",
    "sp.init_printing(use_unicode=False, wrap_line=False, no_global=True)\n",
    "\n",
    "%run ../display_helpers.py"
   ]
  },
  {
   "cell_type": "markdown",
   "metadata": {},
   "source": [
    "# SymPy - Polynomials\n",
    "\n",
    "http://docs.sympy.org/latest/modules/polys/index.html"
   ]
  },
  {
   "cell_type": "markdown",
   "metadata": {},
   "source": [
    "----\n",
    "## Basics\n",
    "http://docs.sympy.org/latest/modules/polys/basics.html"
   ]
  },
  {
   "cell_type": "markdown",
   "metadata": {},
   "source": [
    "----\n",
    "\n",
    "### Polynomial Division"
   ]
  },
  {
   "cell_type": "code",
   "execution_count": null,
   "metadata": {},
   "outputs": [],
   "source": [
    "subhead(\"Polynomial Division - Rational (Q)\")\n",
    "\n",
    "f = 5*x**2 + 10*x +3\n",
    "g = 2*x + 2\n",
    "q,r = sp.div(f, g, domain='QQ')\n",
    "\n",
    "print_eq(('{} = {},\\;r\\;{}', f/g, sp.factor(q), r))"
   ]
  },
  {
   "cell_type": "code",
   "execution_count": null,
   "metadata": {},
   "outputs": [],
   "source": [
    "subhead(\"Polynomial Division - Integer (Z)\")\n",
    "\n",
    "q,r = sp.div(f, g, domain='ZZ')\n",
    "\n",
    "print_eq(('{} = {},\\;r\\;{}', f/g, q, r))"
   ]
  },
  {
   "cell_type": "code",
   "execution_count": null,
   "metadata": {},
   "outputs": [],
   "source": [
    "subhead(\"Polynomial Division - Multiple Variables\")\n",
    "\n",
    "f = x*y + y*z\n",
    "g = 3*x + 3*z\n",
    "q,r = sp.div(f, g, domain='QQ')\n",
    "\n",
    "print_eq(('{} = {},\\;r\\;{}', f/g, q, r))"
   ]
  },
  {
   "cell_type": "markdown",
   "metadata": {},
   "source": [
    "----\n",
    "\n",
    "### Greatest Common Divisor (GCD) / Lowest Common Multiple (LCM)"
   ]
  },
  {
   "cell_type": "code",
   "execution_count": null,
   "metadata": {},
   "outputs": [],
   "source": [
    "subhead(\"Greatest Common Divisor (GCD)\")\n",
    "\n",
    "f = (12*x + 12) * x\n",
    "g = 16*x**2\n",
    "q = sp.gcd(f, g)\n",
    "\n",
    "print_eq(\n",
    "    ('gcd \\Big(  {}\\;,\\;{}  \\Big) = {}', f, g, q)\n",
    ")"
   ]
  },
  {
   "cell_type": "code",
   "execution_count": null,
   "metadata": {},
   "outputs": [],
   "source": [
    "subhead(\"Greatest Common Divisor (GCD)\")\n",
    "desc('If the coefficients are rational, the polynomial answer is monic')\n",
    "f = 3 * x **2 /2\n",
    "g = 9 * x/4\n",
    "q = sp.gcd(f, g)\n",
    "\n",
    "print_eq(\n",
    "    ('gcd \\Big(  {}\\;,\\;{}  \\Big) = {}', f, g, q)\n",
    ")"
   ]
  },
  {
   "cell_type": "code",
   "execution_count": null,
   "metadata": {},
   "outputs": [],
   "source": [
    "subhead(\"LCM with GCD\")\n",
    "f = x * y**2 + x**2 * y\n",
    "g = x**2 * y**2\n",
    "q = sp.gcd(f, g)\n",
    "r = sp.lcm(f, g)\n",
    "\n",
    "print_eq(\n",
    "    ('gcd \\Big( {}\\;,\\;{} \\Big) &= {}', f, g, q),\n",
    "    ('lcm \\Big( {}\\;,\\;{} \\Big) &= {}', f, g, r)\n",
    ")"
   ]
  },
  {
   "cell_type": "code",
   "execution_count": null,
   "metadata": {},
   "outputs": [],
   "source": [
    "subhead(\"LCM with GCD\")\n",
    "f = x * y**2 + x**2 * y\n",
    "g = x**2 * y**2\n",
    "q = sp.gcd(f, g)\n",
    "r = sp.lcm(f, g)\n",
    "\n",
    "print_eq(\n",
    "    ('f &= {}', f),\n",
    "    ('g &= {}', g),\n",
    "    ('gcd \\Big( f\\;,\\;g \\Big) &= {}', q),\n",
    "    ('lcm \\Big( f\\;,\\;g \\Big) &= {}', r),\n",
    "    ('f.g &= {}', (f*g).expand() )\n",
    ")"
   ]
  },
  {
   "cell_type": "markdown",
   "metadata": {},
   "source": [
    "----\n",
    "### Factorization\n"
   ]
  },
  {
   "cell_type": "code",
   "execution_count": null,
   "metadata": {},
   "outputs": [],
   "source": [
    "subhead(\"Square-Free Factorization (SQF)\")\n",
    "desc('For univariate polynomials')\n",
    "f = 2 * x**2 + 5 * x**3 + 4 * x**4 + x**5\n",
    "q = sp.sqf_list(f)\n",
    "r = sp.sqf(f)\n",
    "\n",
    "print_eq(\n",
    "    ('f &= {}', f),\n",
    "    ('&= {}', r),\n",
    ")\n",
    "\n",
    "print('\\n\\nsqf_list(f) = ', q)"
   ]
  },
  {
   "cell_type": "code",
   "execution_count": null,
   "metadata": {},
   "outputs": [],
   "source": [
    "subhead(\"Factorization\")\n",
    "desc('For univariate & multivariate polynomials with rational coefficient')\n",
    "f = x**4/2 + 5*x**3/12 - x**2/3\n",
    "q = sp.factor(f)\n",
    "\n",
    "print_eq(\n",
    "    ('a)\\; f &= {}', f),\n",
    "    ('&= {}', q),\n",
    ")\n",
    "\n",
    "print('\\n\\n\\n')\n",
    "\n",
    "f = x**2 + 4*x*y + 4*y**2\n",
    "q = sp.factor(f)\n",
    "print_eq(\n",
    "    ('b)\\; f &= {}', f),\n",
    "    ('&= {}', q),\n",
    ")"
   ]
  },
  {
   "cell_type": "code",
   "execution_count": null,
   "metadata": {},
   "outputs": [],
   "source": [
    "subhead(\"Groebner Bases\")\n",
    "desc('Buchberger’s algorithm is implemented, supporting various monomial orders')\n",
    "f = [x**2 + 1, y**4*x + x**3]\n",
    "q = sp.groebner( f, x, y, order='lex')\n",
    "\n",
    "print_eq(\n",
    "    ('f &= {}', f)\n",
    ")\n",
    "print(q)\n",
    "\n",
    "print('\\n\\n')\n",
    "\n",
    "f = [x**2 + 1, y**4*x + x**3, x*y*z**3]\n",
    "q = sp.groebner( f, x, y, z, order='grevlex')\n",
    "print_eq(\n",
    "    ('f &= {}', f)\n",
    ")\n",
    "print(q)"
   ]
  },
  {
   "cell_type": "code",
   "execution_count": null,
   "metadata": {},
   "outputs": [],
   "source": [
    "subhead(\"Solve Equations\")\n",
    "desc('solve')\n",
    "f = x**3 + 2*x + 3\n",
    "q = sp.solve( f, x )\n",
    "\n",
    "print_eq(\n",
    "    ('f &= {}', f),\n",
    "    ('x &= {}', q)\n",
    ")\n",
    "\n",
    "print('\\n\\n\\n')\n",
    "f = x**2 + y*x + z\n",
    "q = sp.solve( f, x )\n",
    "\n",
    "print_eq(\n",
    "    ('f &= {}', f),\n",
    "    ('x &= {}', q)\n",
    ")"
   ]
  },
  {
   "cell_type": "code",
   "execution_count": null,
   "metadata": {},
   "outputs": [],
   "source": [
    "desc('solve poly system')\n",
    "f = [y-x, x-5]\n",
    "q = sp.solve_poly_system(f, x, y)\n",
    "\n",
    "print_eq(\n",
    "    ('{}', f),\n",
    "    ('x = {}', q)\n",
    ")\n",
    "\n",
    "print('\\n\\n')\n",
    "\n",
    "f = [y**2 - x**3 + 1, y*x]\n",
    "q = sp.solve_poly_system(f, x, y)\n",
    "\n",
    "print_eq(\n",
    "    ('{}', f)\n",
    ")\n",
    "print_eq(\n",
    "    ('x = {}', q)\n",
    ")"
   ]
  },
  {
   "cell_type": "markdown",
   "metadata": {},
   "source": [
    "----\n",
    "\n",
    "## Examples\n",
    "\n",
    "http://docs.sympy.org/latest/modules/polys/wester.html\n",
    "\n",
    "Simple univariate poylnomial factorization\n",
    "Univariate GCD, resultant and factorization\n",
    "Multivarite GCD, and factorization\n",
    "Support for symbols in exponents\n",
    "Testing if polynomials have common zeros\n",
    "Normalizing simple rational functions\n",
    "Expanding expressions and factoring back\n",
    "Factoring in terms of cuclotomic polynomials\n",
    "Univarite factoring over Gaussian numbers\n",
    "Computing with automatic field extensions\n",
    "Univariate factoring over various domains\n",
    "Factoring polynomials into linear factors\n",
    "Advanced factoring over finite fields\n",
    "Working with Expressions as polynomials\n",
    "Computing reduced Gröbner bases\n",
    "Multivariate factoring over algebraic numbers\n",
    "Partial fraction decomposition\n",
    "\n",
    "\n",
    "- factor\n",
    "- primitive\n",
    "- expand\n",
    "- resultant\n",
    "- apart\n",
    "- cancel\n",
    "- solve\n",
    "- groebner\n",
    "- "
   ]
  },
  {
   "cell_type": "markdown",
   "metadata": {},
   "source": [
    "----\n",
    "\n",
    "- Examples\n",
    "- Polynomial Manipulation\n",
    "- AGCA (Algebraic Geometry * Cummutative Algebra Module)\n",
    "- Internals\n",
    "- Series Maniuplation\n",
    "- Literature"
   ]
  },
  {
   "cell_type": "markdown",
   "metadata": {},
   "source": [
    "### Glossary\n",
    "\n",
    "#### Associative\n",
    "An expression is associative *if* $(a * b) * c = a * (b * c)$\n",
    "\n",
    "#### Commutative\n",
    "An expression is commutative *if* $a * b = b * a$\n",
    "\n",
    "#### Distributive\n",
    "An expression is distributive *if* $a \\times (b + c) = a \\times b + a \\times c$\n",
    "\n",
    "#### Group\n",
    "Examples - clock/modular arithmetic, symmetries, integer arithmetic\n",
    "Definition\n",
    "- Set of elements (generally G)\n",
    "- Operations (such as + or $\\times$) (generall- y *)\n",
    "- Closed under operation (produces another value in the set) $x, y \\in G \\implies x*y \\in G$\n",
    "- Inverses $x^{-1}$ exists for all x, and $x.x^{-1} = e$\n",
    "- Identity x*e = e*x = x\n",
    "- Associative $(a * b) * c = a * (b * c)$\n",
    "- G may or may not be commutative $x*y \\ne y*x$ (symmetries are not commutative)\n",
    "    - If G is commutative, then it is a Commutative/Abelian Group\n",
    "    - Otherwise it is a Noncommutative/Non-Albian Group\n",
    "\n",
    "#### Identity\n",
    "The identity of a value and operation will produce the same value. $n + 0 = n$, $n \\times 1 = n$\n",
    "\n",
    "#### Inverses\n",
    "When an inverse of a value/operation are applied to a value, the result is the identity. $n + (-n) = 0$ and $n.n^{-1} = 1$\n",
    "\n",
    "#### Monic\n",
    "A Univratiate polynomial, where the leading coefficient (non-zero) is 1. i.e. $x^3 + 2x^2 - 8x +4 $\n",
    "- Closed under multiplication (2 monic polys multiplied make another monic\n",
    "\n",
    "#### Ring\n",
    "Set of elements that allow + - and $\\times$ operations. $\\div$ and commutative $\\times$ are not necessary. Examples - integers, vectors, matricies, polynomials with integer coefficients. \n",
    "- Set of elements\n",
    "- 2 operations + and $\\times$ (subtraction can be performed with -ve numbers)\n",
    "- Addition is commutative\n",
    "- Multiplication is associative (but not necessarily commutative)\n",
    "- They're distributive\n",
    "\n",
    "#### Univariate Polynomial\n",
    "Single-variable polynomial, i.e. $x^4 + 3x^3 - 7x + 1$"
   ]
  }
 ],
 "metadata": {
  "kernelspec": {
   "display_name": "Python 3",
   "language": "python",
   "name": "python3"
  },
  "language_info": {
   "codemirror_mode": {
    "name": "ipython",
    "version": 3
   },
   "file_extension": ".py",
   "mimetype": "text/x-python",
   "name": "python",
   "nbconvert_exporter": "python",
   "pygments_lexer": "ipython3",
   "version": "3.6.5"
  }
 },
 "nbformat": 4,
 "nbformat_minor": 2
}

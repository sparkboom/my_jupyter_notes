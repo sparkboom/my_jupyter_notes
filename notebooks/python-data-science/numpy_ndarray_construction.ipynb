{
 "cells": [
  {
   "cell_type": "code",
   "execution_count": 2,
   "metadata": {},
   "outputs": [],
   "source": [
    "import numpy as np\n",
    "import pylab as p\n",
    "from IPython.display import display, Markdown\n",
    "\n",
    "%run display_helpers.py"
   ]
  },
  {
   "cell_type": "markdown",
   "metadata": {},
   "source": [
    "# Numpy NDArray \n",
    "\n",
    "----\n",
    "## Creation"
   ]
  },
  {
   "cell_type": "markdown",
   "metadata": {},
   "source": [
    "### Homogenous Values\n",
    ">\n",
    "> - np.**empty**(shape, dtype=float, order='C') [➚](https://docs.scipy.org/doc/numpy/reference/generated/numpy.empty.html)\n",
    "> - np.**ones**(shape, dtype=None, order='C') [➚](https://docs.scipy.org/doc/numpy/reference/generated/numpy.ones.html)\n",
    "> - np.**zeros**(shape, dtype=float, order='C') [➚](https://docs.scipy.org/doc/numpy/reference/generated/numpy.zeros.html)\n",
    "> - np.**full**(shape, fill_value, dtype=None, order='C') [➚](https://docs.scipy.org/doc/numpy/reference/generated/numpy.full.html)"
   ]
  },
  {
   "cell_type": "code",
   "execution_count": 4,
   "metadata": {},
   "outputs": [
    {
     "data": {
      "text/latex": [
       "$${\\small  \n",
       "\\begin{bmatrix}\n",
       "0.00& 0.00\\\\\n",
       "0.00& 0.00\\\\\n",
       "\n",
       "\\end{bmatrix}\n",
       "}$$"
      ],
      "text/plain": [
       "<IPython.core.display.Math object>"
      ]
     },
     "metadata": {},
     "output_type": "display_data"
    }
   ],
   "source": [
    "n = np.empty([2, 2])\n",
    "print_matrix(n)"
   ]
  },
  {
   "cell_type": "code",
   "execution_count": 5,
   "metadata": {},
   "outputs": [
    {
     "data": {
      "text/latex": [
       "$${\\small  \n",
       "\\begin{bmatrix}\n",
       "1.00& 1.00\\\\\n",
       "1.00& 1.00\\\\\n",
       "\n",
       "\\end{bmatrix}\n",
       "}$$"
      ],
      "text/plain": [
       "<IPython.core.display.Math object>"
      ]
     },
     "metadata": {},
     "output_type": "display_data"
    }
   ],
   "source": [
    "# C style-order (stored by rows in memory)\n",
    "n = np.ones([2, 2], order = 'C')\n",
    "print_matrix(n)"
   ]
  },
  {
   "cell_type": "code",
   "execution_count": 6,
   "metadata": {},
   "outputs": [
    {
     "data": {
      "text/latex": [
       "$${\\small  \n",
       "\\begin{bmatrix}\n",
       "0& 0\\\\\n",
       "0& 0\\\\\n",
       "\n",
       "\\end{bmatrix}\n",
       "}$$"
      ],
      "text/plain": [
       "<IPython.core.display.Math object>"
      ]
     },
     "metadata": {},
     "output_type": "display_data"
    }
   ],
   "source": [
    "# Fortran-order (stored by columns in memory)\n",
    "n = np.zeros([2, 2], dtype=int, order = 'F')\n",
    "print_matrix(n)"
   ]
  },
  {
   "cell_type": "code",
   "execution_count": 7,
   "metadata": {},
   "outputs": [
    {
     "data": {
      "text/latex": [
       "$${\\small  \n",
       "\\begin{bmatrix}\n",
       "0.00+1.00j& 0.00+1.00j\\\\\n",
       "0.00+1.00j& 0.00+1.00j\\\\\n",
       "\n",
       "\\end{bmatrix}\n",
       "}$$"
      ],
      "text/plain": [
       "<IPython.core.display.Math object>"
      ]
     },
     "metadata": {},
     "output_type": "display_data"
    }
   ],
   "source": [
    "n = np.full([2, 2], 0 + 1j , dtype=np.complex64)\n",
    "print_matrix(n)"
   ]
  },
  {
   "cell_type": "markdown",
   "metadata": {},
   "source": [
    "### Homogenous Shaped Values\n",
    ">\n",
    "> - np.**empty_like**(a, dtype=None, order='K', subok=True) [➚](https://docs.scipy.org/doc/numpy/reference/generated/numpy.empty_like.html)\n",
    "> - np.**ones_like**(a, dtype=None, order='K', subok=True) [➚](https://docs.scipy.org/doc/numpy/reference/generated/numpy.ones_like.html)\n",
    "> - np.**zeros_like**(a, dtype=None, order='K', subok=True) [➚](https://docs.scipy.org/doc/numpy/reference/generated/numpy.zeros_like.html)\n",
    "> - np.**full_like**(a, fill_value, dtype=None, order='K', subok=True) [➚](https://docs.scipy.org/doc/numpy/reference/generated/numpy.full_like.html)"
   ]
  },
  {
   "cell_type": "code",
   "execution_count": 8,
   "metadata": {},
   "outputs": [
    {
     "data": {
      "text/latex": [
       "$${\\small  \n",
       "\\begin{bmatrix}\n",
       "0.00& 0.00& 0.00\\\\\n",
       "0.00& 0.00& 0.00\\\\\n",
       "\n",
       "\\end{bmatrix}\n",
       "}$$"
      ],
      "text/plain": [
       "<IPython.core.display.Math object>"
      ]
     },
     "metadata": {},
     "output_type": "display_data"
    }
   ],
   "source": [
    "n = np.empty_like(np.empty([2, 3]), dtype=float)\n",
    "print_matrix(n)"
   ]
  },
  {
   "cell_type": "code",
   "execution_count": 9,
   "metadata": {},
   "outputs": [
    {
     "data": {
      "text/latex": [
       "$${\\small  \n",
       "\\begin{bmatrix}\n",
       "1.00& 1.00& 1.00\\\\\n",
       "\n",
       "\\end{bmatrix}\n",
       "}$$"
      ],
      "text/plain": [
       "<IPython.core.display.Math object>"
      ]
     },
     "metadata": {},
     "output_type": "display_data"
    }
   ],
   "source": [
    "n = np.ones_like(np.empty([1, 3]))\n",
    "print_matrix(n)"
   ]
  },
  {
   "cell_type": "code",
   "execution_count": 10,
   "metadata": {},
   "outputs": [
    {
     "data": {
      "text/latex": [
       "$${\\small  \n",
       "\\begin{bmatrix}\n",
       "0.00& 0.00\\\\\n",
       "0.00& 0.00\\\\\n",
       "0.00& 0.00\\\\\n",
       "\n",
       "\\end{bmatrix}\n",
       "}$$"
      ],
      "text/plain": [
       "<IPython.core.display.Math object>"
      ]
     },
     "metadata": {},
     "output_type": "display_data"
    }
   ],
   "source": [
    "n = np.zeros_like(np.empty([3, 2]))\n",
    "print_matrix(n)"
   ]
  },
  {
   "cell_type": "code",
   "execution_count": 11,
   "metadata": {},
   "outputs": [
    {
     "data": {
      "text/latex": [
       "$${\\small  \n",
       "\\begin{bmatrix}\n",
       "9& 9& 9& 9\\\\\n",
       "9& 9& 9& 9\\\\\n",
       "9& 9& 9& 9\\\\\n",
       "9& 9& 9& 9\\\\\n",
       "\n",
       "\\end{bmatrix}\n",
       "}$$"
      ],
      "text/plain": [
       "<IPython.core.display.Math object>"
      ]
     },
     "metadata": {},
     "output_type": "display_data"
    }
   ],
   "source": [
    "n = np.full_like(np.empty([4, 4]), 9, dtype=int)\n",
    "print_matrix(n)"
   ]
  },
  {
   "cell_type": "markdown",
   "metadata": {},
   "source": [
    "### Identity\n",
    ">\n",
    "> - np.**identity**(n, dtype=None) [➚](https://docs.scipy.org/doc/numpy/reference/generated/numpy.identity.html)\n",
    "> - np.**eye**(N, M=None, k=0, dtype='float', order='C') [➚](https://docs.scipy.org/doc/numpy/reference/generated/numpy.eye.html)\n",
    ">    - like identity, but non-square, and offset"
   ]
  },
  {
   "cell_type": "code",
   "execution_count": 12,
   "metadata": {},
   "outputs": [
    {
     "data": {
      "text/latex": [
       "$${\\small  \n",
       "\\begin{bmatrix}\n",
       "1& 0& 0& 0& 0\\\\\n",
       "0& 1& 0& 0& 0\\\\\n",
       "0& 0& 1& 0& 0\\\\\n",
       "0& 0& 0& 1& 0\\\\\n",
       "0& 0& 0& 0& 1\\\\\n",
       "\n",
       "\\end{bmatrix}\n",
       "}$$"
      ],
      "text/plain": [
       "<IPython.core.display.Math object>"
      ]
     },
     "metadata": {},
     "output_type": "display_data"
    }
   ],
   "source": [
    "n = np.identity(5, dtype=int)\n",
    "print_matrix(n)"
   ]
  },
  {
   "cell_type": "code",
   "execution_count": 13,
   "metadata": {},
   "outputs": [
    {
     "data": {
      "text/latex": [
       "$${\\small  \n",
       "\\begin{bmatrix}\n",
       "1& 0& 0\\\\\n",
       "0& 1& 0\\\\\n",
       "0& 0& 1\\\\\n",
       "\n",
       "\\end{bmatrix}\n",
       "}$$"
      ],
      "text/plain": [
       "<IPython.core.display.Math object>"
      ]
     },
     "metadata": {},
     "output_type": "display_data"
    }
   ],
   "source": [
    "n = np.eye(3, dtype=int)\n",
    "print_matrix(n)"
   ]
  },
  {
   "cell_type": "code",
   "execution_count": 14,
   "metadata": {},
   "outputs": [
    {
     "data": {
      "text/latex": [
       "$${\\small  \n",
       "\\begin{bmatrix}\n",
       "0& 1& 0& 0\\\\\n",
       "0& 0& 1& 0\\\\\n",
       "0& 0& 0& 1\\\\\n",
       "\n",
       "\\end{bmatrix}\n",
       "}$$"
      ],
      "text/plain": [
       "<IPython.core.display.Math object>"
      ]
     },
     "metadata": {},
     "output_type": "display_data"
    }
   ],
   "source": [
    "n = np.eye(3,4,k=1, dtype=int)\n",
    "print_matrix(n)"
   ]
  },
  {
   "cell_type": "markdown",
   "metadata": {},
   "source": [
    "----\n",
    "\n",
    "### New\n",
    ">\n",
    "> - np.**array** [➚](https://docs.scipy.org/doc/numpy/reference/generated/numpy.array.html)\n"
   ]
  },
  {
   "cell_type": "code",
   "execution_count": 50,
   "metadata": {},
   "outputs": [
    {
     "data": {
      "text/latex": [
       "$${\\small  \n",
       "\\begin{bmatrix}\n",
       "1& 2\n",
       "\\end{bmatrix}\n",
       "}$$"
      ],
      "text/plain": [
       "<IPython.core.display.Math object>"
      ]
     },
     "metadata": {},
     "output_type": "display_data"
    },
    {
     "name": "stdout",
     "output_type": "stream",
     "text": [
      "Create a new array or copy existing:  True\n"
     ]
    }
   ],
   "source": [
    "arr = [1,2]\n",
    "a1 = np.array([1,2])\n",
    "a2 = np.array(a1)\n",
    "print_matrix(a1)\n",
    "print(\"Create a new array or copy existing: \", a1 is not a2)"
   ]
  },
  {
   "cell_type": "markdown",
   "metadata": {},
   "source": [
    "## Generate Values\n",
    "\n",
    "### Ranges\n",
    ">\n",
    "> - np.**arange**([start,] stop[, step,], dtype=None) [➚](https://docs.scipy.org/doc/numpy/reference/generated/numpy.arange.html)\n",
    "> - np.**linspace**(start, stop, num=50, endpoint=True, retstep=False, dtype=None) [➚](https://docs.scipy.org/doc/numpy/reference/generated/numpy.linspace.html)\n",
    "> - np.**logspace**(start, stop, num=50, endpoint=True, base=10.0, dtype=None) [➚](https://docs.scipy.org/doc/numpy/reference/generated/numpy.logspace.html)\n",
    "> - np.**geomspace**(start, stop, num=50, endpoint=True, base=10.0, dtype=None) [➚](https://docs.scipy.org/doc/numpy/reference/generated/numpy.geomspace.html)"
   ]
  },
  {
   "cell_type": "markdown",
   "metadata": {},
   "source": [
    "#### np.arange"
   ]
  },
  {
   "cell_type": "code",
   "execution_count": 15,
   "metadata": {},
   "outputs": [
    {
     "data": {
      "text/latex": [
       "$${\\small  \n",
       "\\begin{bmatrix}\n",
       "0& 1& 2\n",
       "\\end{bmatrix}\n",
       "}$$"
      ],
      "text/plain": [
       "<IPython.core.display.Math object>"
      ]
     },
     "metadata": {},
     "output_type": "display_data"
    }
   ],
   "source": [
    "n = np.arange(3)\n",
    "print_matrix(n)"
   ]
  },
  {
   "cell_type": "code",
   "execution_count": 16,
   "metadata": {},
   "outputs": [
    {
     "data": {
      "text/latex": [
       "$${\\small  \n",
       "\\begin{bmatrix}\n",
       "0.00& 1.00& 2.00\n",
       "\\end{bmatrix}\n",
       "}$$"
      ],
      "text/plain": [
       "<IPython.core.display.Math object>"
      ]
     },
     "metadata": {},
     "output_type": "display_data"
    }
   ],
   "source": [
    "n = np.arange(3.0)\n",
    "print_matrix(n)"
   ]
  },
  {
   "cell_type": "code",
   "execution_count": 17,
   "metadata": {},
   "outputs": [
    {
     "data": {
      "text/latex": [
       "$${\\small  \n",
       "\\begin{bmatrix}\n",
       "0.00+0.00j\n",
       "\\end{bmatrix}\n",
       "}$$"
      ],
      "text/plain": [
       "<IPython.core.display.Math object>"
      ]
     },
     "metadata": {},
     "output_type": "display_data"
    }
   ],
   "source": [
    "n = np.arange(3.0 + 1.0j)\n",
    "print_matrix(n)"
   ]
  },
  {
   "cell_type": "markdown",
   "metadata": {},
   "source": [
    "#### np.linspace"
   ]
  },
  {
   "cell_type": "code",
   "execution_count": 18,
   "metadata": {},
   "outputs": [
    {
     "data": {
      "text/latex": [
       "$${\\small  \n",
       "\\begin{bmatrix}\n",
       "0& 5& 10& 15& 20& 25& \t…\\\\\n",
       "30& 35& 40& 45& 50& 55& \t…\\\\\n",
       "60& 65& 70& 75& 80\n",
       "\\end{bmatrix}\n",
       "}$$"
      ],
      "text/plain": [
       "<IPython.core.display.Math object>"
      ]
     },
     "metadata": {},
     "output_type": "display_data"
    }
   ],
   "source": [
    "lin1 = np.linspace(0,80, 17, dtype=int)\n",
    "print_matrix(lin1)"
   ]
  },
  {
   "cell_type": "code",
   "execution_count": 19,
   "metadata": {},
   "outputs": [
    {
     "data": {
      "text/latex": [
       "$${\\small  \n",
       "\\begin{bmatrix}\n",
       "0.00& 4.71& 9.41& 14.12& 18.82& 23.53& \t…\\\\\n",
       "28.24& 32.94& 37.65& 42.35& 47.06& 51.76& \t…\\\\\n",
       "56.47& 61.18& 65.88& 70.59& 75.29\n",
       "\\end{bmatrix}\n",
       "}$$"
      ],
      "text/plain": [
       "<IPython.core.display.Math object>"
      ]
     },
     "metadata": {},
     "output_type": "display_data"
    }
   ],
   "source": [
    "lin2 = np.linspace(0,80, 17, False)\n",
    "print_matrix(lin2)"
   ]
  },
  {
   "cell_type": "code",
   "execution_count": 20,
   "metadata": {},
   "outputs": [
    {
     "data": {
      "text/plain": [
       "<module 'pylab' from '/usr/local/anaconda3/lib/python3.6/site-packages/pylab.py'>"
      ]
     },
     "metadata": {},
     "output_type": "display_data"
    },
    {
     "data": {
      "image/png": "[encoded data removed]",
      "text/plain": [
       "<Figure size 432x288 with 1 Axes>"
      ]
     },
     "metadata": {},
     "output_type": "display_data"
    }
   ],
   "source": [
    "p.plot(lin1, np.zeros(17), 'o')\n",
    "p.plot(lin2, np.ones(17), 'o')\n",
    "p.xlim(0, 80)\n",
    "display(p)"
   ]
  },
  {
   "cell_type": "markdown",
   "metadata": {},
   "source": [
    "#### np.logspace\n",
    "\n",
    "$\\tiny{hi}$"
   ]
  },
  {
   "cell_type": "code",
   "execution_count": 21,
   "metadata": {},
   "outputs": [
    {
     "data": {
      "text/latex": [
       "$${\\tiny  \n",
       "\\begin{bmatrix}\n",
       "1.00E+00& 1.42E+00& 2.01E+00& 2.85E+00& 4.04E+00& 5.72E+00& \t…\\\\\n",
       "8.11E+00& 1.15E+01& 1.63E+01& 2.31E+01& 3.27E+01& 4.64E+01& \t…\\\\\n",
       "6.58E+01& 9.33E+01& 1.32E+02& 1.87E+02& 2.66E+02& 3.76E+02& \t…\\\\\n",
       "5.34E+02& 7.56E+02& 1.07E+03& 1.52E+03& 2.15E+03& 3.05E+03& \t…\\\\\n",
       "4.33E+03& 6.14E+03& 8.70E+03& 1.23E+04& 1.75E+04& 2.48E+04& \t…\\\\\n",
       "3.51E+04& 4.98E+04& 7.05E+04& 1.00E+05& 1.42E+05& 2.01E+05& \t…\\\\\n",
       "2.85E+05& 4.04E+05& 5.72E+05& 8.11E+05& 1.15E+06& 1.63E+06& \t…\\\\\n",
       "2.31E+06& 3.27E+06& 4.64E+06& 6.58E+06& 9.33E+06& 1.32E+07& \t…\\\\\n",
       "1.87E+07& 2.66E+07& 3.76E+07& 5.34E+07& 7.56E+07& 1.07E+08& \t…\\\\\n",
       "1.52E+08& 2.15E+08& 3.05E+08& 4.33E+08& 6.14E+08& 8.70E+08& \t…\\\\\n",
       "1.23E+09& 1.75E+09& 2.48E+09& 3.51E+09& 4.98E+09& 7.05E+09& \t…\\\\\n",
       "1.00E+10& 1.42E+10& 2.01E+10& 2.85E+10& 4.04E+10& 5.72E+10& \t…\\\\\n",
       "8.11E+10& 1.15E+11& 1.63E+11& 2.31E+11& 3.27E+11& 4.64E+11& \t…\\\\\n",
       "6.58E+11& 9.33E+11& 1.32E+12& 1.87E+12& 2.66E+12& 3.76E+12& \t…\\\\\n",
       "5.34E+12& 7.56E+12& 1.07E+13& 1.52E+13& 2.15E+13& 3.05E+13& \t…\\\\\n",
       "4.33E+13& 6.14E+13& 8.70E+13& 1.23E+14& 1.75E+14& 2.48E+14& \t…\\\\\n",
       "3.51E+14& 4.98E+14& 7.05E+14& 1.00E+15\n",
       "\\end{bmatrix}\n",
       "}$$"
      ],
      "text/plain": [
       "<IPython.core.display.Math object>"
      ]
     },
     "metadata": {},
     "output_type": "display_data"
    }
   ],
   "source": [
    "log1 = np.logspace(0, 15, num=100, endpoint=True, base=10.0, dtype=None)\n",
    "print_matrix(log1, format_str=\"{:.2E}\", font_size=\"tiny\")"
   ]
  },
  {
   "cell_type": "code",
   "execution_count": 22,
   "metadata": {},
   "outputs": [
    {
     "data": {
      "text/plain": [
       "<module 'pylab' from '/usr/local/anaconda3/lib/python3.6/site-packages/pylab.py'>"
      ]
     },
     "metadata": {},
     "output_type": "display_data"
    },
    {
     "data": {
      "image/png": "[encoded data removed]",
      "text/plain": [
       "<Figure size 432x288 with 1 Axes>"
      ]
     },
     "metadata": {},
     "output_type": "display_data"
    }
   ],
   "source": [
    "p.plot(np.arange(100), log1)\n",
    "display(p)"
   ]
  },
  {
   "cell_type": "markdown",
   "metadata": {},
   "source": [
    "#### np.geomspace"
   ]
  },
  {
   "cell_type": "code",
   "execution_count": 23,
   "metadata": {},
   "outputs": [
    {
     "data": {
      "text/latex": [
       "$${\\tiny  \n",
       "\\begin{bmatrix}\n",
       "1.00& 1.10& 1.20& 1.32& 1.45& 1.59& \t…\\\\\n",
       "1.75& 1.92& 2.10& 2.31& 2.54& 2.78& \t…\\\\\n",
       "3.05& 3.35& 3.68& 4.04& 4.43& 4.86& \t…\\\\\n",
       "5.34& 5.86& 6.43& 7.05& 7.74& 8.50& \t…\\\\\n",
       "9.33& 10.24& 11.23& 12.33& 13.53& 14.85& \t…\\\\\n",
       "16.30& 17.89& 19.63& 21.54& 23.64& 25.95& \t…\\\\\n",
       "28.48& 31.26& 34.30& 37.65& 41.32& 45.35& \t…\\\\\n",
       "49.77& 54.62& 59.95& 65.79& 72.21& 79.25& \t…\\\\\n",
       "86.97& 95.45& 104.76& 114.98& 126.19& 138.49& \t…\\\\\n",
       "151.99& 166.81& 183.07& 200.92& 220.51& 242.01& \t…\\\\\n",
       "265.61& 291.51& 319.93& 351.12& 385.35& 422.92& \t…\\\\\n",
       "464.16& 509.41& 559.08& 613.59& 673.42& 739.07& \t…\\\\\n",
       "811.13& 890.22& 977.01& 1072.27& 1176.81& 1291.55& \t…\\\\\n",
       "1417.47& 1555.68& 1707.35& 1873.82& 2056.51& 2257.02& \t…\\\\\n",
       "2477.08& 2718.59& 2983.65& 3274.55& 3593.81& 3944.21& \t…\\\\\n",
       "4328.76& 4750.81& 5214.01& 5722.37& 6280.29& 6892.61& \t…\\\\\n",
       "7564.63& 8302.18& 9111.63& 10000.00\n",
       "\\end{bmatrix}\n",
       "}$$"
      ],
      "text/plain": [
       "<IPython.core.display.Math object>"
      ]
     },
     "metadata": {},
     "output_type": "display_data"
    }
   ],
   "source": [
    "geo1 = np.geomspace(1, 10000, num=100, endpoint=True, dtype=None)\n",
    "print_matrix(geo1, font_size=\"tiny\")"
   ]
  },
  {
   "cell_type": "code",
   "execution_count": 24,
   "metadata": {},
   "outputs": [
    {
     "data": {
      "text/plain": [
       "<module 'pylab' from '/usr/local/anaconda3/lib/python3.6/site-packages/pylab.py'>"
      ]
     },
     "metadata": {},
     "output_type": "display_data"
    },
    {
     "data": {
      "image/png": "[encoded data removed]",
      "text/plain": [
       "<Figure size 432x288 with 1 Axes>"
      ]
     },
     "metadata": {},
     "output_type": "display_data"
    }
   ],
   "source": [
    "p.plot(np.arange(100), geo1)\n",
    "display(p)"
   ]
  },
  {
   "cell_type": "markdown",
   "metadata": {},
   "source": [
    "----\n",
    "\n",
    "### From Other Source\n",
    ">\n",
    "> - np.**frombuffer**(buffer, dtype=float, count=-1, offset=0) [➚](https://docs.scipy.org/doc/numpy/reference/generated/numpy.frombuffer.html) *from binary string/data buffer*\n",
    "> - np.**fromfile**(file, dtype=float, count=-1, sep='') [➚](https://docs.scipy.org/doc/numpy/reference/generated/numpy.fromfile.html) from file saved using np.tofile\n",
    "> - np.**fromfunction** [➚](https://docs.scipy.org/doc/numpy/reference/generated/numpy.fromfunction.html) use function as a generator\n",
    "> - np.**fromiter** [➚](https://docs.scipy.org/doc/numpy/reference/generated/numpy.fromiter.html)\n",
    "> - np.**fromstring** [➚](https://docs.scipy.org/doc/numpy/reference/generated/numpy.fromstring.html)\n",
    "> - np.**fromregex**(file, regexp, dtype, encoding=None) [➚](https://docs.scipy.org/doc/numpy/reference/generated/numpy.fromregex.html)"
   ]
  },
  {
   "cell_type": "markdown",
   "metadata": {},
   "source": [
    "#### np.array"
   ]
  },
  {
   "cell_type": "code",
   "execution_count": 25,
   "metadata": {},
   "outputs": [
    {
     "data": {
      "text/latex": [
       "$${\\small  \n",
       "\\begin{bmatrix}\n",
       "0& 8& 9& 1\n",
       "\\end{bmatrix}\n",
       "}$$"
      ],
      "text/plain": [
       "<IPython.core.display.Math object>"
      ]
     },
     "metadata": {},
     "output_type": "display_data"
    }
   ],
   "source": [
    "ndarr1 = np.array([0,8,9,1])\n",
    "print_matrix(ndarr1)"
   ]
  },
  {
   "cell_type": "code",
   "execution_count": 4,
   "metadata": {},
   "outputs": [
    {
     "data": {
      "text/latex": [
       "$${\\small  \n",
       "\\begin{bmatrix}\n",
       "19683& 65536& 78125& 46656& 16807& 4096& 729& 100\n",
       "\\end{bmatrix}\n",
       "}$$"
      ],
      "text/plain": [
       "<IPython.core.display.Math object>"
      ]
     },
     "metadata": {},
     "output_type": "display_data"
    }
   ],
   "source": [
    "ndarr1 = np.array([x**(12-x) for x in range(3,11)])\n",
    "print_matrix(ndarr1, max_vertex_row=10)"
   ]
  },
  {
   "cell_type": "markdown",
   "metadata": {},
   "source": [
    "#### np.frombuffer"
   ]
  },
  {
   "cell_type": "code",
   "execution_count": 27,
   "metadata": {},
   "outputs": [
    {
     "data": {
      "text/latex": [
       "$${\\small  \n",
       "\\begin{bmatrix}\n",
       "w\\\\\n",
       "o\\\\\n",
       "r\\\\\n",
       "l\\\\\n",
       "d\\\\\n",
       "\n",
       "\\end{bmatrix}\n",
       "}$$"
      ],
      "text/plain": [
       "<IPython.core.display.Math object>"
      ]
     },
     "metadata": {},
     "output_type": "display_data"
    }
   ],
   "source": [
    "s = b'hello world'\n",
    "buf1 = np.frombuffer(s, dtype='S1', count=5, offset=6)\n",
    "print_matrix(buf1, format_str=\"{:c}\")"
   ]
  },
  {
   "cell_type": "markdown",
   "metadata": {},
   "source": [
    "#### np.fromfile"
   ]
  },
  {
   "cell_type": "code",
   "execution_count": 28,
   "metadata": {},
   "outputs": [
    {
     "data": {
      "text/plain": [
       "array([((10, 0), 98.25)],\n",
       "      dtype=[('time', [('min', '<i8'), ('sec', '<i8')]), ('temp', '<f8')])"
      ]
     },
     "execution_count": 28,
     "metadata": {},
     "output_type": "execute_result"
    }
   ],
   "source": [
    "dt = np.dtype([('time', [('min', int), ('sec', int)]), ('temp', float)])\n",
    "#x = np.zeros((1,), dtype=dt)\n",
    "#x['time']['min'] = 10; x['temp'] = 98.25\n",
    "n = np.fromfile('example.npy', dtype=dt)\n",
    "n"
   ]
  },
  {
   "cell_type": "markdown",
   "metadata": {},
   "source": [
    "#### np.fromfunction"
   ]
  },
  {
   "cell_type": "code",
   "execution_count": 29,
   "metadata": {},
   "outputs": [
    {
     "data": {
      "text/latex": [
       "$${\\small  \n",
       "\\begin{bmatrix}\n",
       "1.00& 0.00& 0.00\\\\\n",
       "0.00& 1.00& 0.00\\\\\n",
       "0.00& 0.00& 1.00\\\\\n",
       "\n",
       "\\end{bmatrix}\n",
       "}$$"
      ],
      "text/plain": [
       "<IPython.core.display.Math object>"
      ]
     },
     "metadata": {},
     "output_type": "display_data"
    }
   ],
   "source": [
    "nf = np.fromfunction(lambda i, j: i == j, (3, 3))\n",
    "print_matrix(nf)"
   ]
  },
  {
   "cell_type": "markdown",
   "metadata": {},
   "source": [
    "#### np.fromiter"
   ]
  },
  {
   "cell_type": "code",
   "execution_count": 5,
   "metadata": {},
   "outputs": [
    {
     "data": {
      "text/latex": [
       "$${\\small  \n",
       "\\begin{bmatrix}\n",
       "0& 1& 4& 9& 16& 25& 36& 49& 64& 81\n",
       "\\end{bmatrix}\n",
       "}$$"
      ],
      "text/plain": [
       "<IPython.core.display.Math object>"
      ]
     },
     "metadata": {},
     "output_type": "display_data"
    }
   ],
   "source": [
    "def mygen():\n",
    "    for x in range(11):\n",
    "        yield x*x\n",
    "\n",
    "nf = np.fromiter(mygen(), dtype=np.int, count=10)\n",
    "print_matrix(nf, max_vertex_row=16)"
   ]
  },
  {
   "cell_type": "code",
   "execution_count": 6,
   "metadata": {},
   "outputs": [
    {
     "data": {
      "text/latex": [
       "$${\\small  \n",
       "\\begin{bmatrix}\n",
       "0& 1& 4& 9& 16& 25& 36& 49& 64& 81\n",
       "\\end{bmatrix}\n",
       "}$$"
      ],
      "text/plain": [
       "<IPython.core.display.Math object>"
      ]
     },
     "metadata": {},
     "output_type": "display_data"
    }
   ],
   "source": [
    "nf = np.fromiter((x*x for x in range(11)), dtype=np.int, count=10)\n",
    "print_matrix(nf, max_vertex_row=16)"
   ]
  },
  {
   "cell_type": "code",
   "execution_count": 32,
   "metadata": {},
   "outputs": [
    {
     "data": {
      "text/latex": [
       "$${\\small  \n",
       "\\begin{bmatrix}\n",
       "h\\\\\n",
       "e\\\\\n",
       "l\\\\\n",
       "l\\\\\n",
       "o\\\\\n",
       "\n",
       "\\end{bmatrix}\n",
       "}$$"
      ],
      "text/plain": [
       "<IPython.core.display.Math object>"
      ]
     },
     "metadata": {},
     "output_type": "display_data"
    }
   ],
   "source": [
    "ni = np.fromiter(\"hello\", 'S1', count=5)\n",
    "print_matrix(ni, format_str=\"{:c}\")"
   ]
  },
  {
   "cell_type": "markdown",
   "metadata": {},
   "source": [
    "#### np.fromstring"
   ]
  },
  {
   "cell_type": "code",
   "execution_count": 33,
   "metadata": {},
   "outputs": [
    {
     "data": {
      "text/latex": [
       "$${\\small  \n",
       "\\begin{bmatrix}\n",
       "1& 2& 5& 88& 890& 23\n",
       "\\end{bmatrix}\n",
       "}$$"
      ],
      "text/plain": [
       "<IPython.core.display.Math object>"
      ]
     },
     "metadata": {},
     "output_type": "display_data"
    }
   ],
   "source": [
    "ns = np.fromstring('1 2 5 88 890 23', dtype=int, sep=' ')\n",
    "print_matrix(ns)"
   ]
  },
  {
   "cell_type": "code",
   "execution_count": 34,
   "metadata": {},
   "outputs": [
    {
     "data": {
      "text/latex": [
       "$${\\small  \n",
       "\\begin{bmatrix}\n",
       "1& 34& 66& -123& 0& -3\n",
       "\\end{bmatrix}\n",
       "}$$"
      ],
      "text/plain": [
       "<IPython.core.display.Math object>"
      ]
     },
     "metadata": {},
     "output_type": "display_data"
    }
   ],
   "source": [
    "ns = np.fromstring('1, 34,66, -123,0, -3', dtype=int, sep=',')\n",
    "print_matrix(ns)"
   ]
  },
  {
   "cell_type": "markdown",
   "metadata": {},
   "source": [
    "#### np.fromregex"
   ]
  },
  {
   "cell_type": "code",
   "execution_count": 7,
   "metadata": {},
   "outputs": [
    {
     "data": {
      "text/latex": [
       "$${\\small  \n",
       "\\begin{bmatrix}\n",
       "What& Lorem& Lorem& is& dummy& of& printing& typesetting& Lorem& has& the& s& dummy& ever& when& unknown& took& galley& type& scrambled\\\\\n",
       "is& Ipsum& Ipsum& simply& text& the& and& industry& Ipsum& been& industry& standard& text& since& an& printer& a& of& and& it\\\\\n",
       "\n",
       "\\end{bmatrix}\n",
       "}$$"
      ],
      "text/plain": [
       "<IPython.core.display.Math object>"
      ]
     },
     "metadata": {},
     "output_type": "display_data"
    }
   ],
   "source": [
    "nr = np.fromregex('example_regex.txt', r\"([A-z]+)\\s+([A-z]+)\", np.str)\n",
    "print_matrix(nr[:20].T, format_str=\"{:s}\")"
   ]
  },
  {
   "cell_type": "markdown",
   "metadata": {},
   "source": [
    "----\n",
    "\n",
    "### To NDArray Type\n",
    ">\n",
    "> - np.**asarray**(a, dtype=None, order=None) [➚](https://docs.scipy.org/doc/numpy/reference/generated/numpy.asarray.html)\n",
    "> - np.**asanyarray**(a, dtype=None, order=None) [➚](https://docs.scipy.org/doc/numpy/reference/generated/numpy.asanyarray.html)\n",
    "> - np.**asfarray**(a, dtype=`<class 'numpy.float64'`>) [➚](https://docs.scipy.org/doc/numpy/reference/generated/numpy.asfarray.html) \n",
    "> - np.**ascontiguousarray**(a, dtype=None) [➚](https://docs.scipy.org/doc/numpy/reference/generated/numpy.ascontiguousarray.html) \n",
    "> - np.**asfortranarray**(a, dtype=None) [➚](https://docs.scipy.org/doc/numpy/reference/generated/numpy.asfortranarray.html)\n",
    "> - np.**asarray_chkfinite**(a, dtype=None, order=None) [➚](https://docs.scipy.org/doc/numpy/reference/generated/numpy.asarray_chkfinite.html)\n",
    "> - np.**asmatrix**(data, dtype=None) [➚](https://docs.scipy.org/doc/numpy/reference/generated/numpy.asmatrix.html)\n",
    "> - np.**asscalar**(data, dtype=None) [➚](https://docs.scipy.org/doc/numpy/reference/generated/numpy.asscalar.html) *convert to a scalar value*"
   ]
  },
  {
   "cell_type": "markdown",
   "metadata": {},
   "source": [
    "#### np.asarray"
   ]
  },
  {
   "cell_type": "code",
   "execution_count": 36,
   "metadata": {},
   "outputs": [
    {
     "data": {
      "text/latex": [
       "$${\\small  \n",
       "\\begin{bmatrix}\n",
       "1& 2\n",
       "\\end{bmatrix}\n",
       "}$$"
      ],
      "text/plain": [
       "<IPython.core.display.Math object>"
      ]
     },
     "metadata": {},
     "output_type": "display_data"
    }
   ],
   "source": [
    "n1 = np.asarray([1,2])\n",
    "print_matrix(n1)"
   ]
  },
  {
   "cell_type": "code",
   "execution_count": 37,
   "metadata": {},
   "outputs": [
    {
     "data": {
      "text/latex": [
       "$${\\small  \n",
       "\\begin{bmatrix}\n",
       "1& 2\n",
       "\\end{bmatrix}\n",
       "}$$"
      ],
      "text/plain": [
       "<IPython.core.display.Math object>"
      ]
     },
     "metadata": {},
     "output_type": "display_data"
    },
    {
     "name": "stdout",
     "output_type": "stream",
     "text": [
      "asarray does not copy if already ndarray: True\n"
     ]
    }
   ],
   "source": [
    "# Not copied\n",
    "n2 = np.asarray(n1)\n",
    "print_matrix(n2)\n",
    "print(\"asarray does not copy if already ndarray:\", n1 is n2)"
   ]
  },
  {
   "cell_type": "markdown",
   "metadata": {},
   "source": [
    "#### np.asanyarray"
   ]
  },
  {
   "cell_type": "code",
   "execution_count": 38,
   "metadata": {},
   "outputs": [
    {
     "name": "stdout",
     "output_type": "stream",
     "text": [
      "python list becomes ndarray: True\n",
      "ndarray is same ndarray: True\n",
      "ndarray subclass(matrix) is same matrix: True\n"
     ]
    }
   ],
   "source": [
    "arr = [[1,2],[3,4]]\n",
    "m1 = np.matrix(arr)\n",
    "a = np.asanyarray( arr )\n",
    "n = np.asanyarray( a )\n",
    "m2 = np.asanyarray( m1 )\n",
    "print(\"python list becomes ndarray:\", isinstance(a, (np.ndarray) ) )\n",
    "print(\"ndarray is same ndarray:\", a is n )\n",
    "print(\"ndarray subclass(matrix) is same matrix:\", m1 is m2  )"
   ]
  },
  {
   "cell_type": "markdown",
   "metadata": {},
   "source": [
    "#### np.asfarray"
   ]
  },
  {
   "cell_type": "code",
   "execution_count": 39,
   "metadata": {},
   "outputs": [
    {
     "name": "stdout",
     "output_type": "stream",
     "text": [
      "array type is:  <class 'numpy.ndarray'>\n",
      "using farray float64 is not copied:  True\n",
      "using array with dtype=float64 is not copied:  True\n",
      "using float23 is cast:  False\n",
      "using float16 is cast:  False\n"
     ]
    }
   ],
   "source": [
    "arr = [[1,2],[3,4]]\n",
    "f = np.asfarray([[1,2],[3,4]])\n",
    "f64 = np.asfarray(f, dtype=np.float64)\n",
    "a = np.asarray(f, dtype=np.float64)\n",
    "f32 = np.asfarray(f, dtype=np.float32)\n",
    "f16 = np.asfarray(f, dtype=np.float16)\n",
    "print(\"array type is: \", type(f))\n",
    "print(\"using farray float64 is not copied: \", f is f64)\n",
    "print(\"using array with dtype=float64 is not copied: \", f is a)\n",
    "print(\"using float23 is cast: \", f is f32)\n",
    "print(\"using float16 is cast: \", f is f16)"
   ]
  },
  {
   "cell_type": "markdown",
   "metadata": {},
   "source": [
    "#### np.ascontiguousarray (C-like) / np.asfortranarray (Fortain-like)"
   ]
  },
  {
   "cell_type": "code",
   "execution_count": 40,
   "metadata": {},
   "outputs": [
    {
     "name": "stdout",
     "output_type": "stream",
     "text": [
      "ndarrays with C and F orders are equal:  False\n",
      "C ndarrays cast as contiguous ndarray is not copied:  True\n",
      "F ndarrays cast as fortran ndarray is not copied:  True\n"
     ]
    }
   ],
   "source": [
    "arr = [[1,2],[3,4]]\n",
    "ac = np.asarray(arr, order='C')\n",
    "af = np.asarray(ac, order='F')\n",
    "acc = np.ascontiguousarray(ac)\n",
    "aff = np.asfortranarray(af)\n",
    "\n",
    "print(\"ndarrays with C and F orders are equal: \", ac is af)\n",
    "print(\"C ndarrays cast as contiguous ndarray is not copied: \", acc is ac)\n",
    "print(\"F ndarrays cast as fortran ndarray is not copied: \", aff is af)"
   ]
  },
  {
   "cell_type": "markdown",
   "metadata": {},
   "source": [
    "#### np.asarray_chkfinite"
   ]
  },
  {
   "cell_type": "code",
   "execution_count": 41,
   "metadata": {},
   "outputs": [
    {
     "name": "stdout",
     "output_type": "stream",
     "text": [
      "ValueError\n"
     ]
    }
   ],
   "source": [
    "a = [1, 2, np.inf]\n",
    "try:\n",
    "    np.asarray_chkfinite(a)\n",
    "except ValueError:\n",
    "    print('ValueError')"
   ]
  },
  {
   "cell_type": "markdown",
   "metadata": {},
   "source": [
    "#### np.asmatrix"
   ]
  },
  {
   "cell_type": "code",
   "execution_count": 46,
   "metadata": {},
   "outputs": [
    {
     "name": "stdout",
     "output_type": "stream",
     "text": [
      "matrix type:  <class 'numpy.matrixlib.defmatrix.matrix'>\n",
      "matrices M and M2 are equal:  True\n",
      "ndarrays A and A2 are not equal:  False\n"
     ]
    }
   ],
   "source": [
    "m = np.matrix([[1,2],[3,4]])\n",
    "a = np.array(m)\n",
    "m2 = np.asmatrix(m)\n",
    "a2 = np.asmatrix(a)\n",
    "print(\"Matrix type: \", type(m2))\n",
    "print(\"matrices M and M2 are equal: \", m is m2)\n",
    "print(\"ndarrays A and A2 are not equal: \", a is a2)"
   ]
  },
  {
   "cell_type": "markdown",
   "metadata": {},
   "source": [
    "#### np.asscalar"
   ]
  },
  {
   "cell_type": "code",
   "execution_count": 47,
   "metadata": {},
   "outputs": [
    {
     "data": {
      "text/plain": [
       "24"
      ]
     },
     "execution_count": 47,
     "metadata": {},
     "output_type": "execute_result"
    }
   ],
   "source": [
    "np.asscalar(np.array([24]))"
   ]
  },
  {
   "cell_type": "code",
   "execution_count": 55,
   "metadata": {},
   "outputs": [
    {
     "name": "stdout",
     "output_type": "stream",
     "text": [
      "Value Error\n"
     ]
    }
   ],
   "source": [
    "try:\n",
    "    np.asscalar(np.array([24, 35]))\n",
    "except ValueError:\n",
    "    print('Value Error')"
   ]
  },
  {
   "cell_type": "markdown",
   "metadata": {},
   "source": [
    "----\n",
    "\n",
    "## Import/Export\n",
    ">\n",
    "> - np.**load** [➚](https://docs.scipy.org/doc/numpy/reference/generated/numpy.load.html)\n",
    "> - np.**loadtxt** [➚](https://docs.scipy.org/doc/numpy/reference/generated/numpy.loadtxt.html)\n",
    "> - np.**genfromtext** [➚](https://docs.scipy.org/doc/numpy/reference/generated/numpy.genfromtext.html) \n",
    "> - np.**save** [➚](https://docs.scipy.org/doc/numpy/reference/generated/numpy.save.html) \n",
    "> - np.**savez** [➚](https://docs.scipy.org/doc/numpy/reference/generated/numpy.savez.html)\n",
    "> - np.**savez_compressed** [➚](https://docs.scipy.org/doc/numpy/reference/generated/numpy.savez_compressed.html)\n",
    "> - np.**savetxt** [➚](https://docs.scipy.org/doc/numpy/reference/generated/numpy.savetxt.html)\n"
   ]
  },
  {
   "cell_type": "markdown",
   "metadata": {},
   "source": [
    "----\n",
    "\n",
    "## Copying & Referencing\n",
    "\n",
    "### Copying \n",
    ">\n",
    "> - np.**copy** [➚](https://docs.scipy.org/doc/numpy/reference/generated/fnumpy.copy.html)\n",
    "\n",
    "### Referencing\n",
    ">\n",
    "> - np.**view** [➚](https://docs.scipy.org/doc/numpy/reference/generated/numpy.view.html)"
   ]
  },
  {
   "cell_type": "markdown",
   "metadata": {},
   "source": [
    "----\n",
    "\n",
    "## Casting Elements\n",
    "\n",
    "### NumPy Data Types [➚](https://docs.scipy.org/doc/numpy-1.13.0/user/basics.types.html)\n",
    "\n",
    "*instances of dtype*\n",
    "\n",
    "Boolean\n",
    "```python\n",
    "np.bool_\n",
    "np.bool\n",
    "```\n",
    "\n",
    "Float\n",
    "```python\n",
    "np.float_ # itemsize is platform specific\n",
    "np.float\n",
    "np.float16\n",
    "np.float32\n",
    "np.float64\n",
    "np.float96\n",
    "np.float128\n",
    "```\n",
    "\n",
    "Signed Ints\n",
    "```python\n",
    "np.int_ # itemsize is platform specific\n",
    "np.int\n",
    "np.int16\n",
    "np.int32\n",
    "np.int64\n",
    "```\n",
    "\n",
    "Unsigned Ints\n",
    "```python\n",
    "np.uint_ # itemsize is platform specific\n",
    "np.uint\n",
    "np.uint16\n",
    "np.uint32\n",
    "np.uint64\n",
    "```\n",
    "\n",
    "Complex Numbers\n",
    "```python\n",
    "np.complex_ # itemsize is platform specific\n",
    "np.complex64\n",
    "np.complex128\n",
    "```\n",
    "\n",
    "C-type Ints\n",
    "```python\n",
    "np.intc     # equivalent c-type int  (32/64 bit)\n",
    "np.intp     # equivalent c-type ssize_t (32/64 bit), use for indexes\n",
    "np.short\n",
    "np.long\n",
    "np.longlong\n",
    "np.ushort\n",
    "np.ulong\n",
    "np.ulonglong\n",
    "np.clongdouble\n",
    "np.clongfloat\n",
    "np.cdouble\n",
    "```\n",
    "\n",
    "More...\n",
    "```python\n",
    "np.ubyte\n",
    "np.longdouble\n",
    "np.clongdouble\n",
    "np.clongfloat\n",
    "np.str\n",
    "np.str0\n",
    "np.str_\n",
    "np.string_\n",
    "np.singlecomplex\n",
    "np.single\n",
    "np.signedinteger\n",
    "np.unicode\n",
    "np.unicode_\n",
    "np.unsignedinteger\n",
    "np.void\n",
    "np.object\n",
    "np.object0\n",
    "np.object_\n",
    "```\n",
    "\n",
    " 'bool',\n",
    " 'bool8',\n",
    " 'bool_',\n",
    " 'byte',\n",
    " 'bytes0',\n",
    " 'bytes_',\n",
    " 'can_cast',\n",
    " 'cast',\n",
    " 'csingle',\n",
    " 'ctypeslib',\n",
    " 'datetime64',\n",
    " 'datetime_as_string',\n",
    " 'datetime_data',\n",
    " 'complexfloating',\n",
    " 'cdouble',\n",
    " 'cfloat',\n",
    " 'char',\n",
    " 'character',\n",
    " 'chararray',\n",
    " \n",
    " 'sctype2char',\n",
    " 'sctypeDict',\n",
    " 'sctypeNA',\n",
    " 'sctypes',\n",
    " 'typeDict',\n",
    " 'typeNA',\n",
    " 'typecodes',\n",
    " 'typename',\n",
    " \n",
    " 'numarray',\n",
    " 'number',\n",
    " 'obj2sctype',\n",
    " 'dtype',\n",
    " \n",
    " \n",
    " test types\n",
    "  'is_busday',\n",
    " 'isclose',\n",
    " 'iscomplex',\n",
    " 'iscomplexobj',\n",
    " 'isfinite',\n",
    " 'isfortran',\n",
    " 'isin',\n",
    " 'isinf',\n",
    " 'isnan',\n",
    " 'isnat',\n",
    " 'isneginf',\n",
    " 'isposinf',\n",
    " 'isreal',\n",
    " 'isrealobj',\n",
    " 'isscalar',\n",
    " 'issctype',\n",
    " 'issubclass_',\n",
    " 'issubdtype',\n",
    " 'issubsctype',\n",
    " 'iterable',"
   ]
  },
  {
   "cell_type": "code",
   "execution_count": null,
   "metadata": {},
   "outputs": [],
   "source": [
    "np.r_"
   ]
  },
  {
   "cell_type": "code",
   "execution_count": 174,
   "metadata": {},
   "outputs": [
    {
     "data": {
      "text/plain": [
       "1"
      ]
     },
     "execution_count": 174,
     "metadata": {},
     "output_type": "execute_result"
    }
   ],
   "source": [
    "a = np.array([4,8,2,1, 0], np.bool)\n",
    "a.itemsize"
   ]
  },
  {
   "cell_type": "code",
   "execution_count": 177,
   "metadata": {},
   "outputs": [
    {
     "data": {
      "text/markdown": [
       "#### NDArray properties for longdouble"
      ],
      "text/plain": [
       "<IPython.core.display.Markdown object>"
      ]
     },
     "metadata": {},
     "output_type": "display_data"
    },
    {
     "data": {
      "text/markdown": [
       "\n",
       "|  Description | Property | Value |\n",
       "|-------------- | -------------- | -------------- | \n",
       "| Base class | arr.base | None | \n",
       "| Mem location | arr.data | <memory at 0x115fadac8> | \n",
       "| Element datatype | arr.dtype | float128 | \n",
       "| Item size | arr.itemsize | 16 | \n",
       "| # Dimensions | arr.ndim | 1 | \n",
       "| # Bytes | arr.nbytes | 16 | \n",
       "| New byte order | arr.newbyteorder | <built-in method newbyteorder of numpy.ndarray object at 0x11645dad0> | \n",
       "| Shape | arr.shape | (1,) | \n",
       "| Size | arr.size | 1 | \n",
       "| Strides | arr.strides | (16,) | \n",
       "\n"
      ],
      "text/plain": [
       "<IPython.core.display.Markdown object>"
      ]
     },
     "metadata": {},
     "output_type": "display_data"
    }
   ],
   "source": [
    "ndarray_props(p.array([0], np.longdouble), 'longdouble')"
   ]
  },
  {
   "cell_type": "code",
   "execution_count": 186,
   "metadata": {},
   "outputs": [
    {
     "name": "stdout",
     "output_type": "stream",
     "text": [
      " longdouble\n",
      " Machine parameters for float128\n",
      "---------------------------------------------------------------\n",
      "precision =  18   resolution = 1.0000000000000000715e-18\n",
      "machep =    -63   eps =        1.084202172485504434e-19\n",
      "negep =     -64   epsneg =     5.42101086242752217e-20\n",
      "minexp = -16382   tiny =       3.3621031431120935063e-4932\n",
      "maxexp =  16384   max =        1.189731495357231765e+4932\n",
      "nexp =       15   min =        -max\n",
      "---------------------------------------------------------------\n",
      "\n"
     ]
    }
   ],
   "source": [
    "print(' longdouble\\n', np.finfo(np.longdouble) )"
   ]
  },
  {
   "cell_type": "markdown",
   "metadata": {},
   "source": [
    "### Casting Scalars"
   ]
  },
  {
   "cell_type": "code",
   "execution_count": 12,
   "metadata": {},
   "outputs": [
    {
     "data": {
      "text/markdown": [
       "#### 9"
      ],
      "text/plain": [
       "<IPython.core.display.Markdown object>"
      ]
     },
     "metadata": {},
     "output_type": "display_data"
    },
    {
     "name": "stdout",
     "output_type": "stream",
     "text": [
      "np.bool        True\n",
      "np.int         9\n",
      "np.uint64      9\n",
      "np.float16     9.0\n",
      "np.complex128  (9+0j)\n"
     ]
    },
    {
     "data": {
      "text/markdown": [
       "#### 0"
      ],
      "text/plain": [
       "<IPython.core.display.Markdown object>"
      ]
     },
     "metadata": {},
     "output_type": "display_data"
    },
    {
     "name": "stdout",
     "output_type": "stream",
     "text": [
      "np.bool        False\n",
      "np.int         0\n",
      "np.uint64      0\n",
      "np.float16     0.0\n",
      "np.complex128  0j\n"
     ]
    },
    {
     "data": {
      "text/markdown": [
       "#### -9999999999"
      ],
      "text/plain": [
       "<IPython.core.display.Markdown object>"
      ]
     },
     "metadata": {},
     "output_type": "display_data"
    },
    {
     "name": "stdout",
     "output_type": "stream",
     "text": [
      "np.bool        True\n",
      "np.int         -9999999999\n",
      "np.uint64      18446744063709551617\n",
      "np.float16     -inf\n",
      "np.complex128  (-9999999999+0j)\n"
     ]
    },
    {
     "data": {
      "text/markdown": [
       "#### (5+1j)"
      ],
      "text/plain": [
       "<IPython.core.display.Markdown object>"
      ]
     },
     "metadata": {},
     "output_type": "display_data"
    },
    {
     "name": "stdout",
     "output_type": "stream",
     "text": [
      "np.bool        True\n",
      "np.int         TypeError\n",
      "np.uint64      TypeError\n",
      "np.float16     TypeError\n",
      "np.complex128  (5+1j)\n"
     ]
    },
    {
     "data": {
      "text/markdown": [
       "#### '5'"
      ],
      "text/plain": [
       "<IPython.core.display.Markdown object>"
      ]
     },
     "metadata": {},
     "output_type": "display_data"
    },
    {
     "name": "stdout",
     "output_type": "stream",
     "text": [
      "np.bool        True\n",
      "np.int         5\n",
      "np.uint64      5\n",
      "np.float16     5.0\n",
      "np.complex128  TypeError\n"
     ]
    }
   ],
   "source": [
    "CAST_TYPES = ['bool', 'int', 'uint64', 'float16', 'complex128']\n",
    "\n",
    "def print_cast(n):\n",
    "    subhead(f\"'{n}'\" if isinstance(n, str) else f\"{n}\")\n",
    "    for m in CAST_TYPES:\n",
    "        field = f'np.{m}'.ljust(14)\n",
    "        try:\n",
    "            print( field, getattr(np, m)(n) )\n",
    "        except TypeError:\n",
    "            print( field, 'TypeError' )\n",
    "        \n",
    "print_cast(9)\n",
    "print_cast(0)\n",
    "print_cast(-9999999999)\n",
    "print_cast((5.0 + 1.0j))\n",
    "print_cast(\"5\")"
   ]
  },
  {
   "cell_type": "markdown",
   "metadata": {},
   "source": [
    "### Data Structures\n",
    "\n",
    "[np.object] - [np.string] - [np.unicode]\n",
    "[(structured array)](https://docs.scipy.org/doc/numpy-1.13.0/user/basics.rec.html#structured-arrays)"
   ]
  },
  {
   "cell_type": "markdown",
   "metadata": {},
   "source": [
    "----\n",
    "\n",
    "## NDArray\n",
    "\n",
    "### Descriptive Properties"
   ]
  },
  {
   "cell_type": "code",
   "execution_count": 72,
   "metadata": {},
   "outputs": [
    {
     "data": {
      "text/latex": [
       "$${\\small  \n",
       "\\begin{bmatrix}\n",
       "1& 2& 3\\\\\n",
       "4& 5& 6\\\\\n",
       "\n",
       "\\end{bmatrix}\n",
       "}$$"
      ],
      "text/plain": [
       "<IPython.core.display.Math object>"
      ]
     },
     "metadata": {},
     "output_type": "display_data"
    },
    {
     "data": {
      "text/plain": [
       "array([[1, 2, 3],\n",
       "       [4, 5, 6]], dtype=int64)"
      ]
     },
     "metadata": {},
     "output_type": "display_data"
    }
   ],
   "source": [
    "a = np.array([[1,2,3],[4,5,6]], dtype=np.longlong)\n",
    "print_matrix(a)\n",
    "display(a)"
   ]
  },
  {
   "cell_type": "code",
   "execution_count": 187,
   "metadata": {},
   "outputs": [
    {
     "data": {
      "text/markdown": [
       "#### NDArray properties for bool"
      ],
      "text/plain": [
       "<IPython.core.display.Markdown object>"
      ]
     },
     "metadata": {},
     "output_type": "display_data"
    },
    {
     "data": {
      "text/markdown": [
       "\n",
       "|  Description | Property | Value |\n",
       "|-------------- | -------------- | -------------- | \n",
       "| Base class | arr.base | None | \n",
       "| Mem location | arr.data | <memory at 0x115fadb88> | \n",
       "| Element datatype | arr.dtype | bool | \n",
       "| Item size | arr.itemsize | 1 | \n",
       "| # Dimensions | arr.ndim | 1 | \n",
       "| # Bytes | arr.nbytes | 5 | \n",
       "| New byte order | arr.newbyteorder | <built-in method newbyteorder of numpy.ndarray object at 0x11645dda0> | \n",
       "| Shape | arr.shape | (5,) | \n",
       "| Size | arr.size | 5 | \n",
       "| Strides | arr.strides | (1,) | \n",
       "\n"
      ],
      "text/plain": [
       "<IPython.core.display.Markdown object>"
      ]
     },
     "metadata": {},
     "output_type": "display_data"
    },
    {
     "data": {
      "text/markdown": [
       "#### NDArray flags"
      ],
      "text/plain": [
       "<IPython.core.display.Markdown object>"
      ]
     },
     "metadata": {},
     "output_type": "display_data"
    },
    {
     "data": {
      "text/markdown": [
       "\n",
       "|  Flag | Value |\n",
       "|-------------- | -------------- | \n",
       "|   C_CONTIGUOUS  |  True | \n",
       "|   F_CONTIGUOUS  |  True | \n",
       "|   OWNDATA  |  True | \n",
       "|   WRITEABLE  |  True | \n",
       "|   ALIGNED  |  True | \n",
       "|   WRITEBACKIFCOPY  |  False | \n",
       "|   UPDATEIFCOPY  |  False | \n",
       "\n"
      ],
      "text/plain": [
       "<IPython.core.display.Markdown object>"
      ]
     },
     "metadata": {},
     "output_type": "display_data"
    }
   ],
   "source": [
    "# see ndarray_details in dispaly_helper.py\n",
    "ndarray_props(a)\n",
    "ndarray_flags(a)"
   ]
  },
  {
   "cell_type": "code",
   "execution_count": 97,
   "metadata": {},
   "outputs": [],
   "source": [
    "\n",
    "# Functions\n",
    "# display(a.getfield)\n",
    "# display(a.item)\n",
    "# display(a.itemset)\n",
    "# display(a.ptp)\n",
    "# display(a.setfield)\n",
    "# display(a.setflags)\n",
    "# display(a.std)\n",
    "# display(a.trace)\n",
    "# display(a.var)\n",
    "# display(a.view)"
   ]
  },
  {
   "cell_type": "markdown",
   "metadata": {},
   "source": [
    "### Constants\n",
    "\n",
    "```python\n",
    "np.pi\n",
    "np.e\n",
    "np.infty\n",
    "```\n",
    "\n",
    "more to come\n",
    "\n",
    "http://www.numpy.org/devdocs/reference/constants.html"
   ]
  },
  {
   "cell_type": "code",
   "execution_count": null,
   "metadata": {},
   "outputs": [],
   "source": []
  }
 ],
 "metadata": {
  "kernelspec": {
   "display_name": "Python 3",
   "language": "python",
   "name": "python3"
  },
  "language_info": {
   "codemirror_mode": {
    "name": "ipython",
    "version": 3
   },
   "file_extension": ".py",
   "mimetype": "text/x-python",
   "name": "python",
   "nbconvert_exporter": "python",
   "pygments_lexer": "ipython3",
   "version": "3.6.5"
  }
 },
 "nbformat": 4,
 "nbformat_minor": 2
}

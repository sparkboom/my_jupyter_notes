{
 "cells": [
  {
   "cell_type": "markdown",
   "metadata": {},
   "source": [
    "# Neuromorphic Computing\n",
    "\n",
    "Brain\n",
    "- Parallel\n",
    "- Malleable\n",
    "- Fault Tolerant\n",
    "\n",
    "has\n",
    "- ~100 B Neurons\n",
    "  - with 100-1k Synapses\n",
    "- ~1 Quadrillion Synapses\n",
    "- requires 21 Watts\n",
    "- volume 2 Litres\n",
    "\n",
    "Considered '1 exoflop' in performance (1 B calculations/second)\n",
    "\n",
    "Equivalent supercomputers would need to have\n",
    "- 1.5 M processors\n",
    "- 1.6 PB high-speed memory\n",
    "- ~10MW/hr\n",
    "- Volume - 10 buildings\n",
    "\n",
    "Architecture\n",
    "- Clockless / Event Driven architecture\n",
    "- Highly Parallel\n",
    "- Plasticity/Fault Tolerence\n",
    "- Scaleable\n",
    "\n",
    "\n",
    "Chipsets\n",
    "- IBM True North\n",
    "- Intel Loihi\n",
    "  - 130, k Neuron, 130 M Synapses, 14nm Transistors\n",
    "  \n",
    "Other\n",
    "- Intel Nervana\n",
    "- Intel Movidius\n",
    "- NVIDIA Tensor Cores\n",
    "- NVIDIA Drive PX\n",
    "- Apple A11 Bionic chip\n",
    "\n",
    "Memrister arrays\n",
    "- \n",
    "\n",
    "Phase-Change Memory\n",
    "- \n",
    "\n",
    "\n",
    "Study\n",
    "- [IBM’s ‘Deep-Learning’ SyNAPSE chip][2]\n",
    "- \n",
    "\n",
    "----\n",
    "## References\n",
    "\n",
    "- [Singularity Prosperity - What Is Cognitive Computing (How AI Will Think)][1]\n",
    "\n",
    " [1]: https://www.youtube.com/watch?v=c-stmgiXCZA&feature=push-u&attr_tag=1Dwwv8IdyJquLvOi-6\n",
    " [2]: http://www.techenablement.com/learn-how-to-program-ibms-deep-learning-synapse-chip/"
   ]
  },
  {
   "cell_type": "markdown",
   "metadata": {},
   "source": [
    "# Analogue Computing\n",
    "(dirty computing)\n",
    "\n",
    "\n",
    " "
   ]
  },
  {
   "cell_type": "code",
   "execution_count": null,
   "metadata": {},
   "outputs": [],
   "source": []
  }
 ],
 "metadata": {
  "kernelspec": {
   "display_name": "Python 3",
   "language": "python",
   "name": "python3"
  },
  "language_info": {
   "codemirror_mode": {
    "name": "ipython",
    "version": 3
   },
   "file_extension": ".py",
   "mimetype": "text/x-python",
   "name": "python",
   "nbconvert_exporter": "python",
   "pygments_lexer": "ipython3",
   "version": "3.6.5"
  }
 },
 "nbformat": 4,
 "nbformat_minor": 2
}

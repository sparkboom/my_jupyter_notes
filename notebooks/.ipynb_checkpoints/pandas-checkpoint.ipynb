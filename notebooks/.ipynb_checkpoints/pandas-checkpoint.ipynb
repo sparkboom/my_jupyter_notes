{
 "cells": [
  {
   "cell_type": "markdown",
   "metadata": {},
   "source": [
    "# Cheat Sheet - Pandas\n",
    "- [Import](#import)\n",
    "- [Load Data](#load-data)\n",
    "- [Series](#series)\n",
    "- [Data Frames](#data-frame)"
   ]
  },
  {
   "cell_type": "markdown",
   "metadata": {},
   "source": [
    "## <a name=\"import\"></a>Import\n",
    "```python\n",
    "import pandas as pd\n",
    "```"
   ]
  },
  {
   "cell_type": "code",
   "execution_count": 46,
   "metadata": {},
   "outputs": [],
   "source": [
    "import pandas as pd\n",
    "\n",
    "# and others\n",
    "import numpy as np"
   ]
  },
  {
   "cell_type": "markdown",
   "metadata": {},
   "source": [
    "----\n",
    "## <a name=\"load-data\"></a>Load Data\n",
    "\n",
    "### Read from csv\n",
    "```python\n",
    "data = pd.read_csv(filename)\n",
    "```"
   ]
  },
  {
   "cell_type": "code",
   "execution_count": 48,
   "metadata": {},
   "outputs": [
    {
     "data": {
      "text/html": [
       "<div>\n",
       "<style scoped>\n",
       "    .dataframe tbody tr th:only-of-type {\n",
       "        vertical-align: middle;\n",
       "    }\n",
       "\n",
       "    .dataframe tbody tr th {\n",
       "        vertical-align: top;\n",
       "    }\n",
       "\n",
       "    .dataframe thead th {\n",
       "        text-align: right;\n",
       "    }\n",
       "</style>\n",
       "<table border=\"1\" class=\"dataframe\">\n",
       "  <thead>\n",
       "    <tr style=\"text-align: right;\">\n",
       "      <th></th>\n",
       "      <th>country</th>\n",
       "      <th>continent</th>\n",
       "      <th>year</th>\n",
       "      <th>lifeExpectancy</th>\n",
       "      <th>population</th>\n",
       "      <th>gdpPerCapita</th>\n",
       "    </tr>\n",
       "  </thead>\n",
       "  <tbody>\n",
       "    <tr>\n",
       "      <th>0</th>\n",
       "      <td>Afghanistan</td>\n",
       "      <td>Asia</td>\n",
       "      <td>1952</td>\n",
       "      <td>28.801</td>\n",
       "      <td>8425333</td>\n",
       "      <td>779.445314</td>\n",
       "    </tr>\n",
       "    <tr>\n",
       "      <th>1</th>\n",
       "      <td>Afghanistan</td>\n",
       "      <td>Asia</td>\n",
       "      <td>1957</td>\n",
       "      <td>30.332</td>\n",
       "      <td>9240934</td>\n",
       "      <td>820.853030</td>\n",
       "    </tr>\n",
       "    <tr>\n",
       "      <th>2</th>\n",
       "      <td>Afghanistan</td>\n",
       "      <td>Asia</td>\n",
       "      <td>1962</td>\n",
       "      <td>31.997</td>\n",
       "      <td>10267083</td>\n",
       "      <td>853.100710</td>\n",
       "    </tr>\n",
       "  </tbody>\n",
       "</table>\n",
       "</div>"
      ],
      "text/plain": [
       "       country continent  year  lifeExpectancy  population  gdpPerCapita\n",
       "0  Afghanistan      Asia  1952          28.801     8425333    779.445314\n",
       "1  Afghanistan      Asia  1957          30.332     9240934    820.853030\n",
       "2  Afghanistan      Asia  1962          31.997    10267083    853.100710"
      ]
     },
     "execution_count": 48,
     "metadata": {},
     "output_type": "execute_result"
    }
   ],
   "source": [
    "data = pd.read_csv('countries.csv')\n",
    "data.head(3)"
   ]
  },
  {
   "cell_type": "markdown",
   "metadata": {},
   "source": [
    "----\n",
    "## <a name=\"series\"></a>Series\n",
    "Single dimension data with an index\n",
    "\n",
    "http://pandas.pydata.org/pandas-docs/stable/dsintro.html\n",
    "```python\n",
    "pd.Series(data) # data is dict\n",
    "pd.Series(data, index=) # data is array, range, scalar\n",
    "pd.Series(data, index=, name=, dtype=)\n",
    "```\n",
    "\n",
    "Series is like\n",
    "- a dict\n",
    "- ndarray (NumPy)\n",
    "- used for vectorized operations with NumPy"
   ]
  },
  {
   "cell_type": "raw",
   "metadata": {},
   "source": [
    "# from dict\n",
    "pd.Series({0:'a',1:'b', 2:'c', 3:'d'})"
   ]
  },
  {
   "cell_type": "code",
   "execution_count": 9,
   "metadata": {},
   "outputs": [
    {
     "data": {
      "text/plain": [
       "a    0\n",
       "b    1\n",
       "c    2\n",
       "d    3\n",
       "e    4\n",
       "dtype: int64"
      ]
     },
     "execution_count": 9,
     "metadata": {},
     "output_type": "execute_result"
    }
   ],
   "source": [
    "# from array\n",
    "pd.Series([0,1,2,3,4], index=['a', 'b', 'c', 'd', 'e'])"
   ]
  },
  {
   "cell_type": "code",
   "execution_count": 10,
   "metadata": {},
   "outputs": [
    {
     "data": {
      "text/plain": [
       "a    5\n",
       "b    5\n",
       "c    5\n",
       "d    5\n",
       "e    5\n",
       "dtype: int64"
      ]
     },
     "execution_count": 10,
     "metadata": {},
     "output_type": "execute_result"
    }
   ],
   "source": [
    "# from scalar\n",
    "pd.Series(5, index=['a', 'b', 'c', 'd', 'e'])"
   ]
  },
  {
   "cell_type": "code",
   "execution_count": 11,
   "metadata": {},
   "outputs": [
    {
     "data": {
      "text/plain": [
       "a    1.311152\n",
       "b    0.176364\n",
       "c    1.174398\n",
       "d    0.194195\n",
       "e    0.161706\n",
       "dtype: float64"
      ]
     },
     "execution_count": 11,
     "metadata": {},
     "output_type": "execute_result"
    }
   ],
   "source": [
    "# random values\n",
    "pd.Series(np.random.randn(5), index=['a', 'b', 'c', 'd', 'e'])"
   ]
  },
  {
   "cell_type": "code",
   "execution_count": 39,
   "metadata": {},
   "outputs": [],
   "source": [
    "s = pd.Series({'a':'ahh','b':'bee', 'c':'see', 'd':'dee'})\n",
    "s2 = pd.Series(\"the quick brown fox jumped over the\".split())\n",
    "s3 = pd.Series([5,23,7,9,3,6])"
   ]
  },
  {
   "cell_type": "code",
   "execution_count": 19,
   "metadata": {},
   "outputs": [
    {
     "data": {
      "text/plain": [
       "Index(['a', 'b', 'c', 'd'], dtype='object')"
      ]
     },
     "execution_count": 19,
     "metadata": {},
     "output_type": "execute_result"
    }
   ],
   "source": [
    "s.index"
   ]
  },
  {
   "cell_type": "code",
   "execution_count": 21,
   "metadata": {},
   "outputs": [
    {
     "name": "stdout",
     "output_type": "stream",
     "text": [
      "s['a']= ahh ,  s.get('e')= None\n"
     ]
    }
   ],
   "source": [
    "# like dicts\n",
    "print(\"s['a']=\",s['a'],\",  s.get('e')=\",s.get('e'))"
   ]
  },
  {
   "cell_type": "code",
   "execution_count": 25,
   "metadata": {},
   "outputs": [
    {
     "data": {
      "text/plain": [
       "'the'"
      ]
     },
     "execution_count": 25,
     "metadata": {},
     "output_type": "execute_result"
    }
   ],
   "source": [
    "# like ndarray\n",
    "s2[0]"
   ]
  },
  {
   "cell_type": "code",
   "execution_count": 49,
   "metadata": {},
   "outputs": [
    {
     "data": {
      "text/plain": [
       "1    quick\n",
       "2    brown\n",
       "3      fox\n",
       "dtype: object"
      ]
     },
     "execution_count": 49,
     "metadata": {},
     "output_type": "execute_result"
    }
   ],
   "source": [
    "# like ndarray\n",
    "s2[1:4]"
   ]
  },
  {
   "cell_type": "code",
   "execution_count": 50,
   "metadata": {},
   "outputs": [
    {
     "data": {
      "text/plain": [
       "4    jumped\n",
       "3       fox\n",
       "1     quick\n",
       "dtype: object"
      ]
     },
     "execution_count": 50,
     "metadata": {},
     "output_type": "execute_result"
    }
   ],
   "source": [
    "# like ndarray\n",
    "s2[[4, 3, 1]]"
   ]
  },
  {
   "cell_type": "code",
   "execution_count": 51,
   "metadata": {},
   "outputs": [
    {
     "data": {
      "text/plain": [
       "a    ahhahh\n",
       "b    beebee\n",
       "c    seesee\n",
       "d    deedee\n",
       "dtype: object"
      ]
     },
     "execution_count": 51,
     "metadata": {},
     "output_type": "execute_result"
    }
   ],
   "source": [
    "# like ndarray\n",
    "s+s"
   ]
  },
  {
   "cell_type": "code",
   "execution_count": 52,
   "metadata": {},
   "outputs": [
    {
     "data": {
      "text/plain": [
       "a    ahhahh\n",
       "b    beebee\n",
       "c    seesee\n",
       "d    deedee\n",
       "dtype: object"
      ]
     },
     "execution_count": 52,
     "metadata": {},
     "output_type": "execute_result"
    }
   ],
   "source": [
    "# like ndarray\n",
    "s*2"
   ]
  },
  {
   "cell_type": "code",
   "execution_count": 53,
   "metadata": {},
   "outputs": [
    {
     "data": {
      "text/plain": [
       "0    1.484132e+02\n",
       "1    9.744803e+09\n",
       "2    1.096633e+03\n",
       "3    8.103084e+03\n",
       "4    2.008554e+01\n",
       "5    4.034288e+02\n",
       "dtype: float64"
      ]
     },
     "execution_count": 53,
     "metadata": {},
     "output_type": "execute_result"
    }
   ],
   "source": [
    "# like ndarray\n",
    "np.exp(s3)"
   ]
  },
  {
   "cell_type": "code",
   "execution_count": 54,
   "metadata": {},
   "outputs": [
    {
     "data": {
      "text/plain": [
       "1    23\n",
       "2     7\n",
       "3     9\n",
       "dtype: int64"
      ]
     },
     "execution_count": 54,
     "metadata": {},
     "output_type": "execute_result"
    }
   ],
   "source": [
    "# like ndarray\n",
    "s3[s3>6]"
   ]
  },
  {
   "cell_type": "markdown",
   "metadata": {},
   "source": [
    "----\n",
    "## <a name=\"data-frame\"></a>Data Frame\n",
    "\n",
    "DataFrame is a 2d labeled data structure with columns of potentially different types. Like spreadsheet, sql table, or dict of Series objects.\n",
    "\n",
    "Made from\n",
    "- Dict of 1D ndarrays, lists, dicts, or Series\n",
    "- 2-D numpy.ndarray, structured or record ndarray\n",
    "- A Series\n",
    "- Another DataFrame"
   ]
  },
  {
   "cell_type": "markdown",
   "metadata": {},
   "source": [
    "### Create Data Frame"
   ]
  },
  {
   "cell_type": "code",
   "execution_count": 77,
   "metadata": {},
   "outputs": [
    {
     "data": {
      "text/html": [
       "<div>\n",
       "<style scoped>\n",
       "    .dataframe tbody tr th:only-of-type {\n",
       "        vertical-align: middle;\n",
       "    }\n",
       "\n",
       "    .dataframe tbody tr th {\n",
       "        vertical-align: top;\n",
       "    }\n",
       "\n",
       "    .dataframe thead th {\n",
       "        text-align: right;\n",
       "    }\n",
       "</style>\n",
       "<table border=\"1\" class=\"dataframe\">\n",
       "  <thead>\n",
       "    <tr style=\"text-align: right;\">\n",
       "      <th></th>\n",
       "      <th>col_one</th>\n",
       "      <th>col_two</th>\n",
       "    </tr>\n",
       "  </thead>\n",
       "  <tbody>\n",
       "    <tr>\n",
       "      <th>a</th>\n",
       "      <td>1.0</td>\n",
       "      <td>1.0</td>\n",
       "    </tr>\n",
       "    <tr>\n",
       "      <th>b</th>\n",
       "      <td>2.0</td>\n",
       "      <td>2.0</td>\n",
       "    </tr>\n",
       "    <tr>\n",
       "      <th>c</th>\n",
       "      <td>3.0</td>\n",
       "      <td>3.0</td>\n",
       "    </tr>\n",
       "    <tr>\n",
       "      <th>d</th>\n",
       "      <td>NaN</td>\n",
       "      <td>4.0</td>\n",
       "    </tr>\n",
       "  </tbody>\n",
       "</table>\n",
       "</div>"
      ],
      "text/plain": [
       "   col_one  col_two\n",
       "a      1.0      1.0\n",
       "b      2.0      2.0\n",
       "c      3.0      3.0\n",
       "d      NaN      4.0"
      ]
     },
     "execution_count": 77,
     "metadata": {},
     "output_type": "execute_result"
    }
   ],
   "source": [
    "# Construct from dist series by name. index becomes union of series indicies\n",
    "d = {'col_one' : pd.Series([1., 2., 3.], index=['a', 'b', 'c']),\n",
    "'col_two' : pd.Series([1., 2., 3., 4.], index=['a', 'b', 'c', 'd'])}\n",
    "data = pd.DataFrame(d)\n",
    "data.head()"
   ]
  },
  {
   "cell_type": "code",
   "execution_count": 104,
   "metadata": {},
   "outputs": [
    {
     "data": {
      "text/html": [
       "<div>\n",
       "<style scoped>\n",
       "    .dataframe tbody tr th:only-of-type {\n",
       "        vertical-align: middle;\n",
       "    }\n",
       "\n",
       "    .dataframe tbody tr th {\n",
       "        vertical-align: top;\n",
       "    }\n",
       "\n",
       "    .dataframe thead th {\n",
       "        text-align: right;\n",
       "    }\n",
       "</style>\n",
       "<table border=\"1\" class=\"dataframe\">\n",
       "  <thead>\n",
       "    <tr style=\"text-align: right;\">\n",
       "      <th></th>\n",
       "      <th>country</th>\n",
       "      <th>continent</th>\n",
       "      <th>year</th>\n",
       "      <th>lifeExpectancy</th>\n",
       "      <th>population</th>\n",
       "      <th>gdpPerCapita</th>\n",
       "    </tr>\n",
       "  </thead>\n",
       "  <tbody>\n",
       "    <tr>\n",
       "      <th>0</th>\n",
       "      <td>Afghanistan</td>\n",
       "      <td>Asia</td>\n",
       "      <td>1952</td>\n",
       "      <td>28.801</td>\n",
       "      <td>8425333</td>\n",
       "      <td>779.445314</td>\n",
       "    </tr>\n",
       "    <tr>\n",
       "      <th>1</th>\n",
       "      <td>Afghanistan</td>\n",
       "      <td>Asia</td>\n",
       "      <td>1957</td>\n",
       "      <td>30.332</td>\n",
       "      <td>9240934</td>\n",
       "      <td>820.853030</td>\n",
       "    </tr>\n",
       "    <tr>\n",
       "      <th>2</th>\n",
       "      <td>Afghanistan</td>\n",
       "      <td>Asia</td>\n",
       "      <td>1962</td>\n",
       "      <td>31.997</td>\n",
       "      <td>10267083</td>\n",
       "      <td>853.100710</td>\n",
       "    </tr>\n",
       "  </tbody>\n",
       "</table>\n",
       "</div>"
      ],
      "text/plain": [
       "       country continent  year  lifeExpectancy  population  gdpPerCapita\n",
       "0  Afghanistan      Asia  1952          28.801     8425333    779.445314\n",
       "1  Afghanistan      Asia  1957          30.332     9240934    820.853030\n",
       "2  Afghanistan      Asia  1962          31.997    10267083    853.100710"
      ]
     },
     "execution_count": 104,
     "metadata": {},
     "output_type": "execute_result"
    }
   ],
   "source": [
    "data = pd.read_csv('countries.csv')\n",
    "data.head(3)"
   ]
  },
  {
   "cell_type": "markdown",
   "metadata": {},
   "source": [
    "### Select Data"
   ]
  },
  {
   "cell_type": "code",
   "execution_count": 105,
   "metadata": {},
   "outputs": [
    {
     "data": {
      "text/plain": [
       "country           Afghanistan\n",
       "continent                Asia\n",
       "year                     1957\n",
       "lifeExpectancy         30.332\n",
       "population            9240934\n",
       "gdpPerCapita          820.853\n",
       "Name: 1, dtype: object"
      ]
     },
     "execution_count": 105,
     "metadata": {},
     "output_type": "execute_result"
    }
   ],
   "source": [
    "# Row\n",
    "data.loc[1]"
   ]
  },
  {
   "cell_type": "code",
   "execution_count": 107,
   "metadata": {},
   "outputs": [
    {
     "data": {
      "text/html": [
       "<div>\n",
       "<style scoped>\n",
       "    .dataframe tbody tr th:only-of-type {\n",
       "        vertical-align: middle;\n",
       "    }\n",
       "\n",
       "    .dataframe tbody tr th {\n",
       "        vertical-align: top;\n",
       "    }\n",
       "\n",
       "    .dataframe thead th {\n",
       "        text-align: right;\n",
       "    }\n",
       "</style>\n",
       "<table border=\"1\" class=\"dataframe\">\n",
       "  <thead>\n",
       "    <tr style=\"text-align: right;\">\n",
       "      <th></th>\n",
       "      <th>country</th>\n",
       "      <th>continent</th>\n",
       "      <th>year</th>\n",
       "      <th>lifeExpectancy</th>\n",
       "      <th>population</th>\n",
       "      <th>gdpPerCapita</th>\n",
       "    </tr>\n",
       "  </thead>\n",
       "  <tbody>\n",
       "    <tr>\n",
       "      <th>7</th>\n",
       "      <td>Afghanistan</td>\n",
       "      <td>Asia</td>\n",
       "      <td>1987</td>\n",
       "      <td>40.822</td>\n",
       "      <td>13867957</td>\n",
       "      <td>852.395945</td>\n",
       "    </tr>\n",
       "    <tr>\n",
       "      <th>8</th>\n",
       "      <td>Afghanistan</td>\n",
       "      <td>Asia</td>\n",
       "      <td>1992</td>\n",
       "      <td>41.674</td>\n",
       "      <td>16317921</td>\n",
       "      <td>649.341395</td>\n",
       "    </tr>\n",
       "    <tr>\n",
       "      <th>9</th>\n",
       "      <td>Afghanistan</td>\n",
       "      <td>Asia</td>\n",
       "      <td>1997</td>\n",
       "      <td>41.763</td>\n",
       "      <td>22227415</td>\n",
       "      <td>635.341351</td>\n",
       "    </tr>\n",
       "    <tr>\n",
       "      <th>10</th>\n",
       "      <td>Afghanistan</td>\n",
       "      <td>Asia</td>\n",
       "      <td>2002</td>\n",
       "      <td>42.129</td>\n",
       "      <td>25268405</td>\n",
       "      <td>726.734055</td>\n",
       "    </tr>\n",
       "    <tr>\n",
       "      <th>11</th>\n",
       "      <td>Afghanistan</td>\n",
       "      <td>Asia</td>\n",
       "      <td>2007</td>\n",
       "      <td>43.828</td>\n",
       "      <td>31889923</td>\n",
       "      <td>974.580338</td>\n",
       "    </tr>\n",
       "    <tr>\n",
       "      <th>12</th>\n",
       "      <td>Albania</td>\n",
       "      <td>Europe</td>\n",
       "      <td>1952</td>\n",
       "      <td>55.230</td>\n",
       "      <td>1282697</td>\n",
       "      <td>1601.056136</td>\n",
       "    </tr>\n",
       "  </tbody>\n",
       "</table>\n",
       "</div>"
      ],
      "text/plain": [
       "        country continent  year  lifeExpectancy  population  gdpPerCapita\n",
       "7   Afghanistan      Asia  1987          40.822    13867957    852.395945\n",
       "8   Afghanistan      Asia  1992          41.674    16317921    649.341395\n",
       "9   Afghanistan      Asia  1997          41.763    22227415    635.341351\n",
       "10  Afghanistan      Asia  2002          42.129    25268405    726.734055\n",
       "11  Afghanistan      Asia  2007          43.828    31889923    974.580338\n",
       "12      Albania    Europe  1952          55.230     1282697   1601.056136"
      ]
     },
     "execution_count": 107,
     "metadata": {},
     "output_type": "execute_result"
    }
   ],
   "source": [
    "# Row range\n",
    "data[7:13]"
   ]
  },
  {
   "cell_type": "code",
   "execution_count": 111,
   "metadata": {},
   "outputs": [
    {
     "data": {
      "text/plain": [
       "0     8425333\n",
       "1     9240934\n",
       "2    10267083\n",
       "3    11537966\n",
       "4    13079460\n",
       "Name: population, dtype: int64"
      ]
     },
     "execution_count": 111,
     "metadata": {},
     "output_type": "execute_result"
    }
   ],
   "source": [
    "# Casting\n",
    "data['population'].head()"
   ]
  },
  {
   "cell_type": "code",
   "execution_count": 112,
   "metadata": {},
   "outputs": [
    {
     "data": {
      "text/plain": [
       "7     13867957.0\n",
       "8     16317921.0\n",
       "9     22227416.0\n",
       "10    25268404.0\n",
       "11    31889924.0\n",
       "12     1282697.0\n",
       "Name: population, dtype: float32"
      ]
     },
     "execution_count": 112,
     "metadata": {},
     "output_type": "execute_result"
    }
   ],
   "source": [
    "# Range\n",
    "data['population'][7:13].astype(np.float32)"
   ]
  },
  {
   "cell_type": "code",
   "execution_count": 113,
   "metadata": {},
   "outputs": [
    {
     "name": "stdout",
     "output_type": "stream",
     "text": [
      "299 1296\n"
     ]
    }
   ],
   "source": [
    "# min max ids\n",
    "print(data['population'].idxmax(), data['population'].idxmin())"
   ]
  },
  {
   "cell_type": "code",
   "execution_count": 131,
   "metadata": {},
   "outputs": [
    {
     "data": {
      "text/html": [
       "<div>\n",
       "<style scoped>\n",
       "    .dataframe tbody tr th:only-of-type {\n",
       "        vertical-align: middle;\n",
       "    }\n",
       "\n",
       "    .dataframe tbody tr th {\n",
       "        vertical-align: top;\n",
       "    }\n",
       "\n",
       "    .dataframe thead th {\n",
       "        text-align: right;\n",
       "    }\n",
       "</style>\n",
       "<table border=\"1\" class=\"dataframe\">\n",
       "  <thead>\n",
       "    <tr style=\"text-align: right;\">\n",
       "      <th></th>\n",
       "      <th>country</th>\n",
       "      <th>continent</th>\n",
       "      <th>year</th>\n",
       "      <th>lifeExpectancy</th>\n",
       "      <th>population</th>\n",
       "      <th>gdpPerCapita</th>\n",
       "    </tr>\n",
       "  </thead>\n",
       "  <tbody>\n",
       "    <tr>\n",
       "      <th>852</th>\n",
       "      <td>Kuwait</td>\n",
       "      <td>Asia</td>\n",
       "      <td>1952</td>\n",
       "      <td>55.565</td>\n",
       "      <td>160000</td>\n",
       "      <td>108382.35290</td>\n",
       "    </tr>\n",
       "    <tr>\n",
       "      <th>853</th>\n",
       "      <td>Kuwait</td>\n",
       "      <td>Asia</td>\n",
       "      <td>1957</td>\n",
       "      <td>58.033</td>\n",
       "      <td>212846</td>\n",
       "      <td>113523.13290</td>\n",
       "    </tr>\n",
       "    <tr>\n",
       "      <th>854</th>\n",
       "      <td>Kuwait</td>\n",
       "      <td>Asia</td>\n",
       "      <td>1962</td>\n",
       "      <td>60.470</td>\n",
       "      <td>358266</td>\n",
       "      <td>95458.11176</td>\n",
       "    </tr>\n",
       "    <tr>\n",
       "      <th>855</th>\n",
       "      <td>Kuwait</td>\n",
       "      <td>Asia</td>\n",
       "      <td>1967</td>\n",
       "      <td>64.624</td>\n",
       "      <td>575003</td>\n",
       "      <td>80894.88326</td>\n",
       "    </tr>\n",
       "    <tr>\n",
       "      <th>856</th>\n",
       "      <td>Kuwait</td>\n",
       "      <td>Asia</td>\n",
       "      <td>1972</td>\n",
       "      <td>67.712</td>\n",
       "      <td>841934</td>\n",
       "      <td>109347.86700</td>\n",
       "    </tr>\n",
       "    <tr>\n",
       "      <th>857</th>\n",
       "      <td>Kuwait</td>\n",
       "      <td>Asia</td>\n",
       "      <td>1977</td>\n",
       "      <td>69.343</td>\n",
       "      <td>1140357</td>\n",
       "      <td>59265.47714</td>\n",
       "    </tr>\n",
       "  </tbody>\n",
       "</table>\n",
       "</div>"
      ],
      "text/plain": [
       "    country continent  year  lifeExpectancy  population  gdpPerCapita\n",
       "852  Kuwait      Asia  1952          55.565      160000  108382.35290\n",
       "853  Kuwait      Asia  1957          58.033      212846  113523.13290\n",
       "854  Kuwait      Asia  1962          60.470      358266   95458.11176\n",
       "855  Kuwait      Asia  1967          64.624      575003   80894.88326\n",
       "856  Kuwait      Asia  1972          67.712      841934  109347.86700\n",
       "857  Kuwait      Asia  1977          69.343     1140357   59265.47714"
      ]
     },
     "execution_count": 131,
     "metadata": {},
     "output_type": "execute_result"
    }
   ],
   "source": [
    "# query\n",
    "data[data.gdpPerCapita>50000]"
   ]
  },
  {
   "cell_type": "code",
   "execution_count": 138,
   "metadata": {},
   "outputs": [
    {
     "data": {
      "text/html": [
       "<div>\n",
       "<style scoped>\n",
       "    .dataframe tbody tr th:only-of-type {\n",
       "        vertical-align: middle;\n",
       "    }\n",
       "\n",
       "    .dataframe tbody tr th {\n",
       "        vertical-align: top;\n",
       "    }\n",
       "\n",
       "    .dataframe thead th {\n",
       "        text-align: right;\n",
       "    }\n",
       "</style>\n",
       "<table border=\"1\" class=\"dataframe\">\n",
       "  <thead>\n",
       "    <tr style=\"text-align: right;\">\n",
       "      <th></th>\n",
       "      <th>continent</th>\n",
       "      <th>year</th>\n",
       "    </tr>\n",
       "  </thead>\n",
       "  <tbody>\n",
       "    <tr>\n",
       "      <th>852</th>\n",
       "      <td>Asia</td>\n",
       "      <td>1952</td>\n",
       "    </tr>\n",
       "    <tr>\n",
       "      <th>853</th>\n",
       "      <td>Asia</td>\n",
       "      <td>1957</td>\n",
       "    </tr>\n",
       "    <tr>\n",
       "      <th>854</th>\n",
       "      <td>Asia</td>\n",
       "      <td>1962</td>\n",
       "    </tr>\n",
       "    <tr>\n",
       "      <th>855</th>\n",
       "      <td>Asia</td>\n",
       "      <td>1967</td>\n",
       "    </tr>\n",
       "  </tbody>\n",
       "</table>\n",
       "</div>"
      ],
      "text/plain": [
       "    continent  year\n",
       "852      Asia  1952\n",
       "853      Asia  1957\n",
       "854      Asia  1962\n",
       "855      Asia  1967"
      ]
     },
     "execution_count": 138,
     "metadata": {},
     "output_type": "execute_result"
    }
   ],
   "source": [
    "# Range & Select\n",
    "data.loc[852:855, 'continent':'year']"
   ]
  },
  {
   "cell_type": "markdown",
   "metadata": {},
   "source": [
    "### Aggregates"
   ]
  },
  {
   "cell_type": "code",
   "execution_count": 141,
   "metadata": {},
   "outputs": [
    {
     "data": {
      "text/plain": [
       "country           AfghanistanAfghanistanAfghanistanAfghanistanAf...\n",
       "continent         AsiaAsiaAsiaAsiaAsiaAsiaAsiaAsiaAsiaAsiaAsiaAs...\n",
       "year                                                        3373068\n",
       "lifeExpectancy                                               101344\n",
       "population                                              50440465801\n",
       "gdpPerCapita                                            1.22949e+07\n",
       "dtype: object"
      ]
     },
     "execution_count": 141,
     "metadata": {},
     "output_type": "execute_result"
    }
   ],
   "source": [
    "data.sum()"
   ]
  },
  {
   "cell_type": "code",
   "execution_count": 142,
   "metadata": {},
   "outputs": [
    {
     "data": {
      "text/plain": [
       "year              1.979500e+03\n",
       "lifeExpectancy    5.947444e+01\n",
       "population        2.960121e+07\n",
       "gdpPerCapita      7.215327e+03\n",
       "dtype: float64"
      ]
     },
     "execution_count": 142,
     "metadata": {},
     "output_type": "execute_result"
    }
   ],
   "source": [
    "data.mean()"
   ]
  },
  {
   "cell_type": "code",
   "execution_count": 143,
   "metadata": {},
   "outputs": [
    {
     "data": {
      "text/plain": [
       "year              1.979500e+03\n",
       "lifeExpectancy    6.071250e+01\n",
       "population        7.023596e+06\n",
       "gdpPerCapita      3.531847e+03\n",
       "dtype: float64"
      ]
     },
     "execution_count": 143,
     "metadata": {},
     "output_type": "execute_result"
    }
   ],
   "source": [
    "data.median()"
   ]
  },
  {
   "cell_type": "markdown",
   "metadata": {},
   "source": [
    "### Plot\n",
    "https://pandas.pydata.org/pandas-docs/stable/generated/pandas.DataFrame.plot.html\n",
    "\n",
    "```\n",
    "plot.line(), plot(kind='line')\n",
    "plot.bar()\n",
    "plot.barh()\n",
    "plot.hist()\n",
    "plot.box()\n",
    "plot.kde()\n",
    "plot.density()\n",
    "plot.area()\n",
    "plot.pie()\n",
    "plot.scatter()\n",
    "plot.hexbin()\n",
    "```"
   ]
  },
  {
   "cell_type": "code",
   "execution_count": 170,
   "metadata": {},
   "outputs": [
    {
     "data": {
      "text/plain": [
       "<matplotlib.axes._subplots.AxesSubplot at 0x12090add8>"
      ]
     },
     "execution_count": 170,
     "metadata": {},
     "output_type": "execute_result"
    },
    {
     "data": {
      "image/png": "[encoded data removed]",
      "text/plain": [
       "<matplotlib.figure.Figure at 0x11e780978>"
      ]
     },
     "metadata": {},
     "output_type": "display_data"
    }
   ],
   "source": [
    "data_pop = data[data.country == 'Kuwait'].sort_values('year')\n",
    "data_pop.plot(kind='barh', x='population')"
   ]
  },
  {
   "cell_type": "code",
   "execution_count": 154,
   "metadata": {},
   "outputs": [
    {
     "data": {
      "text/plain": [
       "<matplotlib.axes._subplots.AxesSubplot at 0x11ed5c518>"
      ]
     },
     "execution_count": 154,
     "metadata": {},
     "output_type": "execute_result"
    },
    {
     "data": {
      "image/png": "[encoded data removed]",
      "text/plain": [
       "<matplotlib.figure.Figure at 0x10d9d6ac8>"
      ]
     },
     "metadata": {},
     "output_type": "display_data"
    }
   ],
   "source": [
    "data_pop.plot.bar()"
   ]
  },
  {
   "cell_type": "code",
   "execution_count": 155,
   "metadata": {},
   "outputs": [
    {
     "data": {
      "text/plain": [
       "<matplotlib.axes._subplots.AxesSubplot at 0x11ed706d8>"
      ]
     },
     "execution_count": 155,
     "metadata": {},
     "output_type": "execute_result"
    },
    {
     "data": {
      "image/png": "[encoded data removed]",
      "text/plain": [
       "<matplotlib.figure.Figure at 0x11ed03a58>"
      ]
     },
     "metadata": {},
     "output_type": "display_data"
    }
   ],
   "source": [
    "data_pop.plot.pie()"
   ]
  },
  {
   "cell_type": "code",
   "execution_count": 173,
   "metadata": {},
   "outputs": [
    {
     "data": {
      "image/png": "[encoded data removed]",
      "text/plain": [
       "<matplotlib.figure.Figure at 0x11e4f7a90>"
      ]
     },
     "metadata": {},
     "output_type": "display_data"
    }
   ],
   "source": [
    "# save as file\n",
    "img = data_pop.plot(kind='barh', x='population')\n",
    "fig = img.get_figure()\n",
    "fig.savefig('barchart.png')"
   ]
  },
  {
   "cell_type": "markdown",
   "metadata": {},
   "source": [
    "### Formatting Data Frames"
   ]
  },
  {
   "cell_type": "code",
   "execution_count": 57,
   "metadata": {},
   "outputs": [
    {
     "data": {
      "text/plain": [
       "'<style  type=\"text/css\" >\\n</style>  \\n<table id=\"T_04089b10_4005_11e8_af70_6a0000defdc0\" > \\n<thead>    <tr> \\n        <th class=\"blank level0\" ></th> \\n        <th class=\"col_heading level0 col0\" >country</th> \\n        <th class=\"col_heading level0 col1\" >continent</th> \\n        <th class=\"col_heading ...'"
      ]
     },
     "execution_count": 57,
     "metadata": {},
     "output_type": "execute_result"
    }
   ],
   "source": [
    "# The output is HTML\n",
    "data.style.render()[:300] + '...'"
   ]
  },
  {
   "cell_type": "code",
   "execution_count": 61,
   "metadata": {},
   "outputs": [
    {
     "data": {
      "text/html": [
       "<style  type=\"text/css\" >\n",
       "    #T_62249dca_4005_11e8_9b72_6a0000defdc0row2_col5 {\n",
       "            background-color:  yellow;\n",
       "        }    #T_62249dca_4005_11e8_9b72_6a0000defdc0row4_col2 {\n",
       "            background-color:  yellow;\n",
       "        }    #T_62249dca_4005_11e8_9b72_6a0000defdc0row4_col3 {\n",
       "            background-color:  yellow;\n",
       "        }    #T_62249dca_4005_11e8_9b72_6a0000defdc0row4_col4 {\n",
       "            background-color:  yellow;\n",
       "        }</style>  \n",
       "<table id=\"T_62249dca_4005_11e8_9b72_6a0000defdc0\" > \n",
       "<thead>    <tr> \n",
       "        <th class=\"blank level0\" ></th> \n",
       "        <th class=\"col_heading level0 col0\" >country</th> \n",
       "        <th class=\"col_heading level0 col1\" >continent</th> \n",
       "        <th class=\"col_heading level0 col2\" >year</th> \n",
       "        <th class=\"col_heading level0 col3\" >lifeExpectancy</th> \n",
       "        <th class=\"col_heading level0 col4\" >population</th> \n",
       "        <th class=\"col_heading level0 col5\" >gdpPerCapita</th> \n",
       "    </tr></thead> \n",
       "<tbody>    <tr> \n",
       "        <th id=\"T_62249dca_4005_11e8_9b72_6a0000defdc0level0_row0\" class=\"row_heading level0 row0\" >0</th> \n",
       "        <td id=\"T_62249dca_4005_11e8_9b72_6a0000defdc0row0_col0\" class=\"data row0 col0\" >Afghanistan</td> \n",
       "        <td id=\"T_62249dca_4005_11e8_9b72_6a0000defdc0row0_col1\" class=\"data row0 col1\" >Asia</td> \n",
       "        <td id=\"T_62249dca_4005_11e8_9b72_6a0000defdc0row0_col2\" class=\"data row0 col2\" >1952</td> \n",
       "        <td id=\"T_62249dca_4005_11e8_9b72_6a0000defdc0row0_col3\" class=\"data row0 col3\" >28.801</td> \n",
       "        <td id=\"T_62249dca_4005_11e8_9b72_6a0000defdc0row0_col4\" class=\"data row0 col4\" >8425333</td> \n",
       "        <td id=\"T_62249dca_4005_11e8_9b72_6a0000defdc0row0_col5\" class=\"data row0 col5\" >779.445</td> \n",
       "    </tr>    <tr> \n",
       "        <th id=\"T_62249dca_4005_11e8_9b72_6a0000defdc0level0_row1\" class=\"row_heading level0 row1\" >1</th> \n",
       "        <td id=\"T_62249dca_4005_11e8_9b72_6a0000defdc0row1_col0\" class=\"data row1 col0\" >Afghanistan</td> \n",
       "        <td id=\"T_62249dca_4005_11e8_9b72_6a0000defdc0row1_col1\" class=\"data row1 col1\" >Asia</td> \n",
       "        <td id=\"T_62249dca_4005_11e8_9b72_6a0000defdc0row1_col2\" class=\"data row1 col2\" >1957</td> \n",
       "        <td id=\"T_62249dca_4005_11e8_9b72_6a0000defdc0row1_col3\" class=\"data row1 col3\" >30.332</td> \n",
       "        <td id=\"T_62249dca_4005_11e8_9b72_6a0000defdc0row1_col4\" class=\"data row1 col4\" >9240934</td> \n",
       "        <td id=\"T_62249dca_4005_11e8_9b72_6a0000defdc0row1_col5\" class=\"data row1 col5\" >820.853</td> \n",
       "    </tr>    <tr> \n",
       "        <th id=\"T_62249dca_4005_11e8_9b72_6a0000defdc0level0_row2\" class=\"row_heading level0 row2\" >2</th> \n",
       "        <td id=\"T_62249dca_4005_11e8_9b72_6a0000defdc0row2_col0\" class=\"data row2 col0\" >Afghanistan</td> \n",
       "        <td id=\"T_62249dca_4005_11e8_9b72_6a0000defdc0row2_col1\" class=\"data row2 col1\" >Asia</td> \n",
       "        <td id=\"T_62249dca_4005_11e8_9b72_6a0000defdc0row2_col2\" class=\"data row2 col2\" >1962</td> \n",
       "        <td id=\"T_62249dca_4005_11e8_9b72_6a0000defdc0row2_col3\" class=\"data row2 col3\" >31.997</td> \n",
       "        <td id=\"T_62249dca_4005_11e8_9b72_6a0000defdc0row2_col4\" class=\"data row2 col4\" >10267083</td> \n",
       "        <td id=\"T_62249dca_4005_11e8_9b72_6a0000defdc0row2_col5\" class=\"data row2 col5\" >853.101</td> \n",
       "    </tr>    <tr> \n",
       "        <th id=\"T_62249dca_4005_11e8_9b72_6a0000defdc0level0_row3\" class=\"row_heading level0 row3\" >3</th> \n",
       "        <td id=\"T_62249dca_4005_11e8_9b72_6a0000defdc0row3_col0\" class=\"data row3 col0\" >Afghanistan</td> \n",
       "        <td id=\"T_62249dca_4005_11e8_9b72_6a0000defdc0row3_col1\" class=\"data row3 col1\" >Asia</td> \n",
       "        <td id=\"T_62249dca_4005_11e8_9b72_6a0000defdc0row3_col2\" class=\"data row3 col2\" >1967</td> \n",
       "        <td id=\"T_62249dca_4005_11e8_9b72_6a0000defdc0row3_col3\" class=\"data row3 col3\" >34.02</td> \n",
       "        <td id=\"T_62249dca_4005_11e8_9b72_6a0000defdc0row3_col4\" class=\"data row3 col4\" >11537966</td> \n",
       "        <td id=\"T_62249dca_4005_11e8_9b72_6a0000defdc0row3_col5\" class=\"data row3 col5\" >836.197</td> \n",
       "    </tr>    <tr> \n",
       "        <th id=\"T_62249dca_4005_11e8_9b72_6a0000defdc0level0_row4\" class=\"row_heading level0 row4\" >4</th> \n",
       "        <td id=\"T_62249dca_4005_11e8_9b72_6a0000defdc0row4_col0\" class=\"data row4 col0\" >Afghanistan</td> \n",
       "        <td id=\"T_62249dca_4005_11e8_9b72_6a0000defdc0row4_col1\" class=\"data row4 col1\" >Asia</td> \n",
       "        <td id=\"T_62249dca_4005_11e8_9b72_6a0000defdc0row4_col2\" class=\"data row4 col2\" >1972</td> \n",
       "        <td id=\"T_62249dca_4005_11e8_9b72_6a0000defdc0row4_col3\" class=\"data row4 col3\" >36.088</td> \n",
       "        <td id=\"T_62249dca_4005_11e8_9b72_6a0000defdc0row4_col4\" class=\"data row4 col4\" >13079460</td> \n",
       "        <td id=\"T_62249dca_4005_11e8_9b72_6a0000defdc0row4_col5\" class=\"data row4 col5\" >739.981</td> \n",
       "    </tr></tbody> \n",
       "</table> "
      ],
      "text/plain": [
       "<pandas.io.formats.style.Styler at 0x10d179550>"
      ]
     },
     "execution_count": 61,
     "metadata": {},
     "output_type": "execute_result"
    }
   ],
   "source": [
    "# Customize formatting\n",
    "data.head().style.highlight_max()"
   ]
  },
  {
   "cell_type": "code",
   "execution_count": 68,
   "metadata": {},
   "outputs": [],
   "source": [
    "def highligh_5_and_over(val):\n",
    "    if isinstance(val, float):\n",
    "        return 'color: {0}'.format('green' if val >= 820 else 'black')\n",
    "    return 'color: black'"
   ]
  },
  {
   "cell_type": "code",
   "execution_count": 69,
   "metadata": {},
   "outputs": [
    {
     "data": {
      "text/html": [
       "<style  type=\"text/css\" >\n",
       "    #T_ca95b0f6_4005_11e8_89b0_6a0000defdc0row0_col5 {\n",
       "            color:  black;\n",
       "        }    #T_ca95b0f6_4005_11e8_89b0_6a0000defdc0row1_col5 {\n",
       "            color:  green;\n",
       "        }    #T_ca95b0f6_4005_11e8_89b0_6a0000defdc0row2_col5 {\n",
       "            color:  green;\n",
       "        }    #T_ca95b0f6_4005_11e8_89b0_6a0000defdc0row3_col5 {\n",
       "            color:  green;\n",
       "        }    #T_ca95b0f6_4005_11e8_89b0_6a0000defdc0row4_col5 {\n",
       "            color:  black;\n",
       "        }</style>  \n",
       "<table id=\"T_ca95b0f6_4005_11e8_89b0_6a0000defdc0\" > \n",
       "<thead>    <tr> \n",
       "        <th class=\"blank level0\" ></th> \n",
       "        <th class=\"col_heading level0 col0\" >country</th> \n",
       "        <th class=\"col_heading level0 col1\" >continent</th> \n",
       "        <th class=\"col_heading level0 col2\" >year</th> \n",
       "        <th class=\"col_heading level0 col3\" >lifeExpectancy</th> \n",
       "        <th class=\"col_heading level0 col4\" >population</th> \n",
       "        <th class=\"col_heading level0 col5\" >gdpPerCapita</th> \n",
       "    </tr></thead> \n",
       "<tbody>    <tr> \n",
       "        <th id=\"T_ca95b0f6_4005_11e8_89b0_6a0000defdc0level0_row0\" class=\"row_heading level0 row0\" >0</th> \n",
       "        <td id=\"T_ca95b0f6_4005_11e8_89b0_6a0000defdc0row0_col0\" class=\"data row0 col0\" >Afghanistan</td> \n",
       "        <td id=\"T_ca95b0f6_4005_11e8_89b0_6a0000defdc0row0_col1\" class=\"data row0 col1\" >Asia</td> \n",
       "        <td id=\"T_ca95b0f6_4005_11e8_89b0_6a0000defdc0row0_col2\" class=\"data row0 col2\" >1952</td> \n",
       "        <td id=\"T_ca95b0f6_4005_11e8_89b0_6a0000defdc0row0_col3\" class=\"data row0 col3\" >28.801</td> \n",
       "        <td id=\"T_ca95b0f6_4005_11e8_89b0_6a0000defdc0row0_col4\" class=\"data row0 col4\" >8425333</td> \n",
       "        <td id=\"T_ca95b0f6_4005_11e8_89b0_6a0000defdc0row0_col5\" class=\"data row0 col5\" >779.445</td> \n",
       "    </tr>    <tr> \n",
       "        <th id=\"T_ca95b0f6_4005_11e8_89b0_6a0000defdc0level0_row1\" class=\"row_heading level0 row1\" >1</th> \n",
       "        <td id=\"T_ca95b0f6_4005_11e8_89b0_6a0000defdc0row1_col0\" class=\"data row1 col0\" >Afghanistan</td> \n",
       "        <td id=\"T_ca95b0f6_4005_11e8_89b0_6a0000defdc0row1_col1\" class=\"data row1 col1\" >Asia</td> \n",
       "        <td id=\"T_ca95b0f6_4005_11e8_89b0_6a0000defdc0row1_col2\" class=\"data row1 col2\" >1957</td> \n",
       "        <td id=\"T_ca95b0f6_4005_11e8_89b0_6a0000defdc0row1_col3\" class=\"data row1 col3\" >30.332</td> \n",
       "        <td id=\"T_ca95b0f6_4005_11e8_89b0_6a0000defdc0row1_col4\" class=\"data row1 col4\" >9240934</td> \n",
       "        <td id=\"T_ca95b0f6_4005_11e8_89b0_6a0000defdc0row1_col5\" class=\"data row1 col5\" >820.853</td> \n",
       "    </tr>    <tr> \n",
       "        <th id=\"T_ca95b0f6_4005_11e8_89b0_6a0000defdc0level0_row2\" class=\"row_heading level0 row2\" >2</th> \n",
       "        <td id=\"T_ca95b0f6_4005_11e8_89b0_6a0000defdc0row2_col0\" class=\"data row2 col0\" >Afghanistan</td> \n",
       "        <td id=\"T_ca95b0f6_4005_11e8_89b0_6a0000defdc0row2_col1\" class=\"data row2 col1\" >Asia</td> \n",
       "        <td id=\"T_ca95b0f6_4005_11e8_89b0_6a0000defdc0row2_col2\" class=\"data row2 col2\" >1962</td> \n",
       "        <td id=\"T_ca95b0f6_4005_11e8_89b0_6a0000defdc0row2_col3\" class=\"data row2 col3\" >31.997</td> \n",
       "        <td id=\"T_ca95b0f6_4005_11e8_89b0_6a0000defdc0row2_col4\" class=\"data row2 col4\" >10267083</td> \n",
       "        <td id=\"T_ca95b0f6_4005_11e8_89b0_6a0000defdc0row2_col5\" class=\"data row2 col5\" >853.101</td> \n",
       "    </tr>    <tr> \n",
       "        <th id=\"T_ca95b0f6_4005_11e8_89b0_6a0000defdc0level0_row3\" class=\"row_heading level0 row3\" >3</th> \n",
       "        <td id=\"T_ca95b0f6_4005_11e8_89b0_6a0000defdc0row3_col0\" class=\"data row3 col0\" >Afghanistan</td> \n",
       "        <td id=\"T_ca95b0f6_4005_11e8_89b0_6a0000defdc0row3_col1\" class=\"data row3 col1\" >Asia</td> \n",
       "        <td id=\"T_ca95b0f6_4005_11e8_89b0_6a0000defdc0row3_col2\" class=\"data row3 col2\" >1967</td> \n",
       "        <td id=\"T_ca95b0f6_4005_11e8_89b0_6a0000defdc0row3_col3\" class=\"data row3 col3\" >34.02</td> \n",
       "        <td id=\"T_ca95b0f6_4005_11e8_89b0_6a0000defdc0row3_col4\" class=\"data row3 col4\" >11537966</td> \n",
       "        <td id=\"T_ca95b0f6_4005_11e8_89b0_6a0000defdc0row3_col5\" class=\"data row3 col5\" >836.197</td> \n",
       "    </tr>    <tr> \n",
       "        <th id=\"T_ca95b0f6_4005_11e8_89b0_6a0000defdc0level0_row4\" class=\"row_heading level0 row4\" >4</th> \n",
       "        <td id=\"T_ca95b0f6_4005_11e8_89b0_6a0000defdc0row4_col0\" class=\"data row4 col0\" >Afghanistan</td> \n",
       "        <td id=\"T_ca95b0f6_4005_11e8_89b0_6a0000defdc0row4_col1\" class=\"data row4 col1\" >Asia</td> \n",
       "        <td id=\"T_ca95b0f6_4005_11e8_89b0_6a0000defdc0row4_col2\" class=\"data row4 col2\" >1972</td> \n",
       "        <td id=\"T_ca95b0f6_4005_11e8_89b0_6a0000defdc0row4_col3\" class=\"data row4 col3\" >36.088</td> \n",
       "        <td id=\"T_ca95b0f6_4005_11e8_89b0_6a0000defdc0row4_col4\" class=\"data row4 col4\" >13079460</td> \n",
       "        <td id=\"T_ca95b0f6_4005_11e8_89b0_6a0000defdc0row4_col5\" class=\"data row4 col5\" >739.981</td> \n",
       "    </tr></tbody> \n",
       "</table> "
      ],
      "text/plain": [
       "<pandas.io.formats.style.Styler at 0x10daf2a58>"
      ]
     },
     "execution_count": 69,
     "metadata": {},
     "output_type": "execute_result"
    }
   ],
   "source": [
    "# Customize formatting on gdpPerCapita\n",
    "data.head().style.applymap(highligh_5_and_over, subset=data.columns[5:])"
   ]
  },
  {
   "cell_type": "code",
   "execution_count": 70,
   "metadata": {},
   "outputs": [],
   "source": [
    "from IPython.core.display import HTML"
   ]
  },
  {
   "cell_type": "code",
   "execution_count": 71,
   "metadata": {},
   "outputs": [],
   "source": [
    "css =!cat styles.css"
   ]
  },
  {
   "cell_type": "code",
   "execution_count": 73,
   "metadata": {},
   "outputs": [
    {
     "data": {
      "text/html": [
       "<style>table.dataframe tr:nth-child(even) {    background-color: #ccc;}table.dataframe tr:nth-child(odd) {    background-color: #aaaacc;}table.dataframe th {    background-color: #999;}</style>"
      ],
      "text/plain": [
       "<IPython.core.display.HTML object>"
      ]
     },
     "execution_count": 73,
     "metadata": {},
     "output_type": "execute_result"
    }
   ],
   "source": [
    "HTML('<style>{0}</style>'.format(''.join(css)))"
   ]
  },
  {
   "cell_type": "code",
   "execution_count": 74,
   "metadata": {},
   "outputs": [
    {
     "data": {
      "text/html": [
       "<div>\n",
       "<style scoped>\n",
       "    .dataframe tbody tr th:only-of-type {\n",
       "        vertical-align: middle;\n",
       "    }\n",
       "\n",
       "    .dataframe tbody tr th {\n",
       "        vertical-align: top;\n",
       "    }\n",
       "\n",
       "    .dataframe thead th {\n",
       "        text-align: right;\n",
       "    }\n",
       "</style>\n",
       "<table border=\"1\" class=\"dataframe\">\n",
       "  <thead>\n",
       "    <tr style=\"text-align: right;\">\n",
       "      <th></th>\n",
       "      <th>country</th>\n",
       "      <th>continent</th>\n",
       "      <th>year</th>\n",
       "      <th>lifeExpectancy</th>\n",
       "      <th>population</th>\n",
       "      <th>gdpPerCapita</th>\n",
       "    </tr>\n",
       "  </thead>\n",
       "  <tbody>\n",
       "    <tr>\n",
       "      <th>0</th>\n",
       "      <td>Afghanistan</td>\n",
       "      <td>Asia</td>\n",
       "      <td>1952</td>\n",
       "      <td>28.801</td>\n",
       "      <td>8425333</td>\n",
       "      <td>779.445314</td>\n",
       "    </tr>\n",
       "    <tr>\n",
       "      <th>1</th>\n",
       "      <td>Afghanistan</td>\n",
       "      <td>Asia</td>\n",
       "      <td>1957</td>\n",
       "      <td>30.332</td>\n",
       "      <td>9240934</td>\n",
       "      <td>820.853030</td>\n",
       "    </tr>\n",
       "    <tr>\n",
       "      <th>2</th>\n",
       "      <td>Afghanistan</td>\n",
       "      <td>Asia</td>\n",
       "      <td>1962</td>\n",
       "      <td>31.997</td>\n",
       "      <td>10267083</td>\n",
       "      <td>853.100710</td>\n",
       "    </tr>\n",
       "    <tr>\n",
       "      <th>3</th>\n",
       "      <td>Afghanistan</td>\n",
       "      <td>Asia</td>\n",
       "      <td>1967</td>\n",
       "      <td>34.020</td>\n",
       "      <td>11537966</td>\n",
       "      <td>836.197138</td>\n",
       "    </tr>\n",
       "    <tr>\n",
       "      <th>4</th>\n",
       "      <td>Afghanistan</td>\n",
       "      <td>Asia</td>\n",
       "      <td>1972</td>\n",
       "      <td>36.088</td>\n",
       "      <td>13079460</td>\n",
       "      <td>739.981106</td>\n",
       "    </tr>\n",
       "  </tbody>\n",
       "</table>\n",
       "</div>"
      ],
      "text/plain": [
       "       country continent  year  lifeExpectancy  population  gdpPerCapita\n",
       "0  Afghanistan      Asia  1952          28.801     8425333    779.445314\n",
       "1  Afghanistan      Asia  1957          30.332     9240934    820.853030\n",
       "2  Afghanistan      Asia  1962          31.997    10267083    853.100710\n",
       "3  Afghanistan      Asia  1967          34.020    11537966    836.197138\n",
       "4  Afghanistan      Asia  1972          36.088    13079460    739.981106"
      ]
     },
     "execution_count": 74,
     "metadata": {},
     "output_type": "execute_result"
    }
   ],
   "source": [
    "data.head()"
   ]
  },
  {
   "cell_type": "code",
   "execution_count": null,
   "metadata": {},
   "outputs": [],
   "source": []
  }
 ],
 "metadata": {
  "kernelspec": {
   "display_name": "Python 3",
   "language": "python",
   "name": "python3"
  },
  "language_info": {
   "codemirror_mode": {
    "name": "ipython",
    "version": 3
   },
   "file_extension": ".py",
   "mimetype": "text/x-python",
   "name": "python",
   "nbconvert_exporter": "python",
   "pygments_lexer": "ipython3",
   "version": "3.6.4"
  }
 },
 "nbformat": 4,
 "nbformat_minor": 2
}

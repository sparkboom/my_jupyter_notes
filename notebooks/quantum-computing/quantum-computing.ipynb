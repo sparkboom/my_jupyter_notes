{
 "cells": [
  {
   "cell_type": "markdown",
   "metadata": {},
   "source": [
    "# Quantum Computing\n",
    "\n",
    "### Types of Quantum Computation\n",
    "- Quantum Annealer\n",
    "  - Optimization Problems\n",
    "- Analog Quantum\n",
    "  - Quantum Chemistry, Material Science, Optimization Problems, Sampling, Quantum Dynamics\n",
    "- Universal Quantum\n",
    "  - Secure Computing, Machine Learning, Cryptography, Quantum Chemistry, Material Science, Optimization Problems, Sampling, Quantum Dynamics, Searching\n",
    "- [(more info)](https://www.extremetech.com/g00/3_c-7x78x78x78.fyusfnfufdi.dpn_/c-7NPSFQIFVT34x24iuuqtx3ax2fx2fx78x78x78.fyusfnfufdi.dpnx2fx78q-dpoufoux2fvqmpbetx2f3127x2f16x2fRvbouvnDpnqvujoh.kqh_$/$/$/$/$/$?i10c.ua=1&i10c.dv=14)\n",
    "\n",
    "### Significant Organizations\n",
    "- Microsoft\n",
    "- IBM\n",
    "- Google\n",
    "- Rigetti\n",
    "- D-Wave\n",
    "\n",
    "### Significant Academic Organizations\n",
    "- [University of Sussex](http://www.sussex.ac.uk/physics/iqt/)\n",
    "\n",
    "\n",
    "### Instruction Sets\n",
    "- [Quil (Rigetti)](https://arxiv.org/abs/1608.03355) - [repo](https://github.com/rigetticomputing/pyquil)\n",
    "- [OpenQASM (IBM)](https://developer.ibm.com/code/open/projects/qiskit/qiskit-openqasm/) - [repo](https://github.com/QISKit/openqasm)\n",
    "\n",
    "### Languages\n",
    "- [Q-Lisp (Meta/Symbolic Language)](http://www.schloerconsulting.com/quantum-computer-q-lisp-programming-language) - [based on LISP](http://lisp-lang.org/)\n",
    "- [Q# (Microsoft)](https://docs.microsoft.com/en-us/quantum/quantum-qr-intro)\n",
    "- [Forest (Rigetti, Quil IS)](https://www.rigetti.com/forest)\n",
    "- [QISKit (Python Lib, IBM, OpenQASM IS)](https://qiskit.org/)\n",
    "- [PyQuil (Python Lib, Quil IS)](https://pyquil.readthedocs.io/en/stable/getting_started.html)\n",
    "- Others - [Quantum pseudocode (Academic)] - [QCL (Quantum Computation Languag, C-like, Imperative, First)] - [QISI> (.Net Platform)] - [Q (Imperiative)] - [qGCL (Quantum Guarded Command Language)] - [QMASM (Quantum Macro Assembler, Annealing, D-Wave)] - [QFC (Functional)] - [QPL & cQPL (Functional)] - [QML (Functional, Haskell-like)] - [LIQUi|> (F# ext, Functional, Microsoft)](http://stationq.github.io/Liquid/) - [Quantum Lambda Calculus (Extensions to classic lamda calculus)] - [Quipper (Functional, Academic)](https://www.mathstat.dal.ca/~selinger/quipper/) - [LanQ] - \n",
    "[(read more)](https://www.quora.com/What-programming-languages-are-used-in-quantum-computing)\n",
    "\n",
    "### Quantum Algorithms\n",
    "- [Quantum Algorithm Zoo](https://math.nist.gov/quantum/zoo/)\n",
    "\n",
    "### Quantum API Services\n",
    "- [Quantum Experience (IBM)](https://quantumexperience.ng.bluemix.net/qx/experience)\n",
    "- [University of Bristol](http://www.bristol.ac.uk/physics/research/quantum/engagement/qcloud/computer/)\n",
    "- "
   ]
  },
  {
   "cell_type": "code",
   "execution_count": null,
   "metadata": {},
   "outputs": [],
   "source": []
  }
 ],
 "metadata": {
  "kernelspec": {
   "display_name": "Python 3",
   "language": "python",
   "name": "python3"
  },
  "language_info": {
   "codemirror_mode": {
    "name": "ipython",
    "version": 3
   },
   "file_extension": ".py",
   "mimetype": "text/x-python",
   "name": "python",
   "nbconvert_exporter": "python",
   "pygments_lexer": "ipython3",
   "version": "3.6.5"
  }
 },
 "nbformat": 4,
 "nbformat_minor": 2
}

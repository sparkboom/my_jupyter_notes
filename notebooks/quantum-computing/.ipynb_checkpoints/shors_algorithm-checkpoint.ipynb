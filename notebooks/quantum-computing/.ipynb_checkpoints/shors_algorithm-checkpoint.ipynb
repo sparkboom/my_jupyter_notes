{
 "cells": [
  {
   "cell_type": "markdown",
   "metadata": {},
   "source": [
    "$\n",
    "\\newcommand{\\ket}[1]{\\lvert {#1}\\rangle}\n",
    "\\newcommand{\\ds}{\\displaystyle}\n",
    "$"
   ]
  },
  {
   "cell_type": "markdown",
   "metadata": {},
   "source": [
    "# Shor's Algorithm\n",
    "\n",
    "## Introduction\n",
    "Problem\n",
    "> Integer factorization\n",
    "\n",
    "Use Case\n",
    "> $n = p \\cdot q$, where $p,q$ are large prime numbers, often used in cryptographic functions\n",
    "\n",
    "Classical Solution\n",
    "> **General Number Field Sieve** has best asymptotic behaviour\n",
    "> Superpolynomial scaling:\n",
    "> $\\displaystyle O(e^{(\\ln n)^\\frac{1}{3}(\\ln\\ln n)^{\\frac{2}{3}}})$\n",
    "\n",
    "Shor's Algorthim\n",
    "> Factorization algorithm with poylnomial complexity <br/>\n",
    "> Partially on Quantum processor, pre & post processing is classical\n",
    "> Quantum complexity: $O\\big( (\\log n)^2 (\\log \\log n) (\\log \\log \\log n) \\big)$\n",
    "> Polynomial time achieved with Quantum Forier Transform\n",
    "\n"
   ]
  },
  {
   "cell_type": "markdown",
   "metadata": {},
   "source": [
    "----\n",
    "\n",
    "## Algorithm\n"
   ]
  },
  {
   "cell_type": "markdown",
   "metadata": {},
   "source": [
    "### 1. Preconditions of $n$\n",
    "\n",
    "Exit if $n$ is any of the following\n",
    "- even\n",
    "- prime \n",
    "- prime power"
   ]
  },
  {
   "cell_type": "markdown",
   "metadata": {},
   "source": [
    "### 2. Attempt brute-force solution\n",
    "\n",
    "Pick a random integer $x \\lt n$, and calculate $\\gcd(x, n)$.\n",
    "\n",
    "If this is not 1, then we have a factor of $n$."
   ]
  },
  {
   "cell_type": "markdown",
   "metadata": {},
   "source": [
    "### 3. Quantum Algorithm\n",
    "\n",
    "1. Pick q as the smallest power of 2 where $n^2 \\leq q \\leq 2n^2$\n",
    "\n",
    "2. Find the period $r$ of $x^a \\mod n$\n",
    "\n",
    "3. Measure $c$ which has property $\\displaystyle \\frac{c}{q} \\approx \\frac{d}{r}$, where $d \\in \\mathbb{N}$\n",
    "\n"
   ]
  },
  {
   "cell_type": "markdown",
   "metadata": {},
   "source": [
    "### 4. Determine ratio\n",
    "\n",
    "$r, d$ can be determined if $gcd(d, r) = 1$ using fraction expansion algorithm"
   ]
  },
  {
   "cell_type": "markdown",
   "metadata": {},
   "source": [
    "### 5. Try to obtain factors\n",
    "\n",
    "Return to step 2\n",
    "> if $r$ is odd <br/>\n",
    "> if $x^{\\frac{r}{2}} \\equiv -1 \\mod n$\n",
    "\n",
    "Factors are \n",
    ">$\\displaystyle p, q = \\gcd(x^{\\frac{r}{2}} \\pm 1, n)$"
   ]
  },
  {
   "cell_type": "markdown",
   "metadata": {},
   "source": [
    "----\n",
    "\n",
    "\n",
    "### Quantum Fourier Transform (QFT)\n",
    "\n",
    "Define QFT with respect to an ONB $\\left\\{\\ket{x}\\right\\} = {\\ket{0}, \\dots, \\ket{q-1}}$\n",
    "> $\\ds QFT: \\ket{x} \\mapsto \\frac{1}{\\sqrt{q}} \\sum\\limits_{y=0}^{q-1} \\exp \\left\\{ \\frac{2\\pi i}{q}x \\cdot y \\right\\} \\ket{y} = \\frac{1}{\\sqrt{q}} \\sum\\limits_{y=0}^{q-1} \\omega^{x \\cdot y} \\ket{y}$\n",
    "\n",
    "Apply QFT to a general state $\\ds\\ket{\\psi} = \\sum_x \\alpha_x\\ket{x}$ :\n",
    "> $\\ds QFT(\\ket{\\psi}) = \\frac{1}{\\sqrt{q}} \\sum\\limits_{y=0}^{q-1} \\beta_y\\ket{y}$ <br/>\n",
    "> where the $\\beta_y$'s are the discrete Fourier tansform of the amplitudes $\\alpha_x$\n",
    "\n",
    "The QFT is unitary\n",
    "> $QFT^\\dagger QFT\\ket{x} = \\ket{x}$\n"
   ]
  },
  {
   "cell_type": "markdown",
   "metadata": {},
   "source": [
    "----\n",
    "\n",
    "## References\n",
    "\n",
    "- [Lecture Notes - Shor's Algorithm][1]\n",
    "- [Continued Fraction Expansion][2]\n",
    "\n",
    " [1]: https://qudev.phys.ethz.ch/content/QSIT15/Shors%20Algorithm.pdf\n",
    " [2]: https://www.math.u-bordeaux.fr/~pjaming/M1/exposes/MA2.pdf"
   ]
  },
  {
   "cell_type": "markdown",
   "metadata": {},
   "source": [
    "----\n",
    "\n",
    "## Addendum I - Euclidean Algorithm\n",
    "\n",
    "$\n",
    "\\gcd(a,b) = \n",
    "\\Bigg\\{\\begin{split}\n",
    "&b  & \\text{ if } a \\bmod b = 0 \\\\\n",
    "&\\gcd(b, a \\bmod b) & \\text{ else } \\\\\n",
    "\\end{split}\n",
    "$\n",
    "\n",
    "### References\n",
    "\n",
    "- [Euclidean Algorithm][1]\n",
    "\n",
    " [1]: https://www.khanacademy.org/computing/computer-science/cryptography/modarithmetic/a/the-euclidean-algorithm"
   ]
  },
  {
   "cell_type": "code",
   "execution_count": null,
   "metadata": {},
   "outputs": [],
   "source": [
    "# Euclidian Algorithm\n",
    "def gcd(a, b):\n",
    "    h,l = (max(a,b),min(a,b))\n",
    "    q = h % l\n",
    "    if q == 0:\n",
    "        return l\n",
    "    return gcd(l,q)\n",
    "\n",
    "def is_coprime(a, b):\n",
    "    return (gcd(a, b) == 1)\n",
    "        "
   ]
  },
  {
   "cell_type": "markdown",
   "metadata": {},
   "source": [
    "----\n",
    "$\\newcommand{\\ds}{\\displaystyle}$\n",
    "## Addendum II - Continued Fractions\n",
    "\n",
    "Tools to approximate a Real number to a Rational number.\n",
    "\n",
    "### Example 1 - 1 and 2\n",
    "\n",
    "'1' can be written as a fraction\n",
    "> $\\ds1 = \\frac{2}{3-1}$\n",
    "\n",
    "and as a continued/infinite fraction\n",
    "> $\\ds1 = \\frac{2}{3-\\frac{2}{3-\\frac{2}{3-\\dots}}}$\n",
    "\n",
    "interestingly, using 2 instead would suggest the contradiction $1=2$\n",
    "> $\\ds2 = \\frac{2}{3-\\frac{2}{3-\\frac{2}{3-\\dots}}}$\n",
    "\n",
    "### Example 2 - $\\sqrt{2}$\n",
    "\n",
    "> $\n",
    "\\begin{split}\n",
    "\\sqrt{2} &= 1.414213  \\\\\n",
    "&= 1 + 0.41421  \\\\\n",
    "&= 1 + \\frac{1}{\\frac{1}{0.41421 }} \\\\\n",
    "&= 1 + \\frac{1}{2+ 0.41421 } \\\\\n",
    "&= 1 + \\frac{1}{2+ \\frac{1}{2 + \\frac{1}{2 + \\dots}}} \\\\\n",
    "\\end{split}\n",
    "$ <br/>\n",
    "> Sequence `11111111...`\n",
    "\n",
    "### Example 3 - $\\phi$ (Golden Ratio)\n",
    "> $\n",
    "\\begin{split}\n",
    "\\phi &= \\frac{1 + \\sqrt{5}}{2} \\\\\n",
    "&= 1 + \\frac{1}{1+ \\frac{1}{1 + \\frac{1}{1 + \\dots}}}\n",
    "\\end{split}\n",
    "$ <br/>\n",
    "> Sequence `11111111...`\n",
    "\n",
    "### Example 4 - $e$ (2.718)\n",
    "> $\n",
    "\\begin{split}\n",
    "e &= \\frac{1 + \\sqrt{5}}{2} \\\\\n",
    "&= 2 + \\frac{1}{1+ \\frac{1}{2 + \\frac{1}{1 + \\frac{1}{1 + \\frac{1}{4 + \\dots}}}}}\n",
    "\\end{split}\n",
    "$ <br/>\n",
    "> Sequence - `2114116118...`\n",
    "\n",
    "### Example 5 - Rational $\\frac{1473}{50}$\n",
    "*Rational numbers tend to be finite*\n",
    "> $29 + \\frac{1}{2 + \\frac{1}{5 + \\frac{1}{1 + \\frac{1}{3}}}}$\n",
    "\n",
    "### Example 5 -$\\pi$\n",
    "> $\n",
    "\\begin{split}\n",
    "\\pi &= 3.14159265358979 \\\\\n",
    "&= 3 + \\frac{1}{7+ \\frac{1}{15 + \\frac{1}{1 + \\frac{1}{292 + \\dots}}}} \\\\\n",
    "3 &= 3.0 \\\\\n",
    "3 + \\frac{1}{7} = \\frac{22}{7} &= 3.14 \\\\\n",
    "3 + \\frac{1}{7+\\frac{1}{15}} = \\frac{333}{106} &= 3.1415 \\\\\n",
    "3 + \\frac{1}{7+\\frac{1}{15 + 1}} = \\frac{355}{113} &= 3.141592 \\\\\n",
    "3 + \\frac{1}{7+\\frac{1}{15 + \\frac{1}{1 + \\frac{1}{292}}}} = \\frac{103993}{33102} &= 3.14159265 \\\\\n",
    "\\end{split}\n",
    "$"
   ]
  },
  {
   "cell_type": "markdown",
   "metadata": {},
   "source": [
    "----\n",
    "\n",
    "## Addendum III - Example, Factoring n=21\n",
    "\n",
    "### 1. Choose a random integer $x$, where $1 < x < n$\n",
    "\n",
    "> if x *is **not** coprime* with n (i.e. x=6) <br/>\n",
    "> $\\gcd(x,n) = \\gcd(6, 21) = 3$ <br/>\n",
    "> $\\therefore \\frac{21}{3} = 7$ <br/>\n",
    "> The factors are 7 and 3 \n",
    "\n",
    "> if x *is coprime* with n (i.e. x=11) <br/>\n",
    "> $\\gcd(11,21) = 1$ <br/>\n",
    "> then continue...\n",
    "\n",
    "### 2. Determine q\n",
    "\n",
    "> Where q is the smallest power of 2 between $n^2$ and $2n^2$ <br/>\n",
    "> $441 \\leq q < 882 \\land \\log_2(q) = l : l \\in \\mathbb{N}$ <br/>\n",
    "> $l=9, q=512$\n",
    "\n",
    "> Initial state for 2 registers with length of 'l' <br/>\n",
    "> $\\ket{\\Phi_i} = \\ket{0}_{r_1} \\ket{0}_{r_2} = \\ket{0}^{\\otimes 2^l}$\n",
    "\n",
    "### 3. Initialize first register ($r_1$)\n",
    "\n",
    "> Initialize first register with superposition of all stats $a \\pmod{q}$ \n",
    "> $\\ds\\ket{\\Phi_0} = \\frac{1}{\\sqrt{512}} \\sum\\limits_{a=0}^{511} \\ket{a}\\ket{0} $ <br/>\n",
    "> therefore all bits are $\\frac{1}{\\sqrt{2}}\\Big(\\ket{0} + \\ket{1}\\Big)$\n",
    "\n",
    "\n",
    "### 4. Initialize second register ($r_2$)\n",
    "\n",
    "> Initialize Register with superposition of all states $x^a \\pmod{n}$\n",
    "> $\\ds\n",
    "\\begin{split}\n",
    "\\ket{\\Phi_1} &= \\frac{1}{\\sqrt{512}} \\sum\\limits_{a=0}^{511} \\ket{a}\\ket{11^a(\\bmod{21})} \\\\\n",
    "&= \\frac{1}{\\sqrt{512}} \\Big( \\ket{0}\\ket{1} + \\ket{1}\\ket{11} + \\ket{2}\\ket{16} + \\ket{3}\\ket{8} \\dots \\Big)\n",
    "\\end{split}$ <br/><br/>\n",
    "> The sequence looks like this\n",
    ">$ \n",
    "\\begin{matrix}\n",
    "0 & 1 & 2 & 3 & 4 & 5 & 6 & 7 & 8 & 9 & 10 & \\dots \\\\\n",
    "1 & 11 & 16 & 8 & 4 & 2 & 1 & 11 & 16 & 8 & 4 & \\dots \\\\\n",
    "\\end{matrix}\n",
    "$ <br/>\n",
    "> *The period is 6, but not yet observable*\n",
    "\n",
    "### 5. Quantum Fourier Transform\n",
    "> $\\ds \\overset{\\sim}{\\ket{\\Phi}} = \\frac{1}{512} \\sum\\limits_{a=0}^{511} \\sum\\limits_{c=0}^{511} e^{\\big(\\frac{1}{512} 2\\pi i a c\\big)} \\ket{c}\\ket{11^a(\\bmod{21})}$\n",
    "\n",
    "### 6. Measurement\n",
    "> Probability for state $\\ket{c, x^k\\pmod{n}}$ e.g. $k=2 \\rightarrow \\ket{c,16}$ <br/>\n",
    "> $\\ds\n",
    "\\begin{split}\n",
    "p(c) &= \\Bigg| {\\frac{1}{512}}_{a:11^a} \\sum\\limits_{\\bmod{21}=16}^{511} e^{\\big(\\frac{1}{512} 2\\pi iac\\big)} \\Bigg|^2 \\\\\n",
    "&= \\Bigg| {\\frac{1}{512}}_{a:11^a} \\sum\\limits_{b} e^{\\big(\\frac{1}{512} 2\\pi i(6b+2)c\\big)} \\Bigg|^2\\\\\n",
    "\\end{split}$ <br/>\n",
    ">\n",
    "> Simulation of the probability amplitude of a period of 6"
   ]
  },
  {
   "cell_type": "code",
   "execution_count": 104,
   "metadata": {},
   "outputs": [
    {
     "data": {
      "image/png": "[encoded data removed]",
      "text/plain": [
       "<Figure size 576x360 with 1 Axes>"
      ]
     },
     "metadata": {},
     "output_type": "display_data"
    }
   ],
   "source": [
    "PERIOD=6\n",
    "\n",
    "import sympy as sm\n",
    "import numpy as np\n",
    "import matplotlib.pyplot as plt\n",
    "\n",
    "fig = plt.gcf()\n",
    "fig.set_size_inches(8,5)\n",
    "\n",
    "sm.var('x')\n",
    "# This function is a simulation, it does not \n",
    "# reflect a multi-modal normal distribution \n",
    "f = lambda x: ((sm.cos((x*PERIOD*2*sm.pi)/512)+1)/2)**80/PERIOD\n",
    "\n",
    "x = np.linspace(0,512,1000)\n",
    "y = np.array([f(v) for v in x],dtype='float')\n",
    "\n",
    "plt.title(r\"Probaility Amplitudes with a period of 6 peaks fro $c =\\frac{512}{6} \\cdot d, d \\in \\mathbb{Z}$\")\n",
    "plt.plot(x,y,color='gray')\n",
    "plt.fill_between(x,y,0,color='#c0f0c0')\n",
    "\n",
    "plt.show()"
   ]
  },
  {
   "cell_type": "markdown",
   "metadata": {},
   "source": []
  },
  {
   "cell_type": "markdown",
   "metadata": {},
   "source": [
    "### 7. Determine the period\n",
    "Continued Fraction Expansion (determine r) \n",
    "> $\\ds \\Bigg| \\frac{c}{q} - \\frac{d}{r} \\Bigg| = \\overset{!}{\\leq} \\frac{1}{1024}$ <br/><br/>\n",
    "> Use continued fraction expansion <br/>\n",
    "> $\\ds\n",
    "\\begin{split}\n",
    "\\frac{c}{q} &= a_0 + \\frac{1}{a_1 + \\frac{1}{a_2 + \\dots}}  \\\\\n",
    "\\tfrac{d_0}{r_0} &= \\tfrac{a_0}{1} \\\\\n",
    "\\tfrac{d_1}{r_1} &= \\tfrac{1+a_0a_1}{a_1} \\\\\n",
    "\\tfrac{d_n}{r_n} &= \\tfrac{a_nd_{n-1} + d_{n-2}}{a_nr_{n-1} + r_{n-2}} \\\\\n",
    "&\\dots \\\\\n",
    "\\end{split}\n",
    "$\n",
    "\n",
    "Assume the reading was **427** <br/> \n",
    "> So <br/>\n",
    "> e = $\\ds \\Bigg| \\frac{427}{512} - \\frac{d}{r} \\Bigg| \\overset{!}{\\leq} \\frac{1}{1024}$ <br/><br/>\n",
    "> Use continued fraction expansion <br/>\n",
    "> $\\ds\n",
    "\\begin{split}\n",
    "\\frac{427}{512} &= 0.83398\\dots \\\\\n",
    "&= 0 + \\frac{1}{1 + \\frac{1}{5 + \\frac{1}{42 + \\frac{1}{2}}}} \\\\\n",
    "\\tfrac{d_0}{r_0} &= \\tfrac{0}{1} = 0 \\;\\;\\; &e = \\tfrac{427}{512} > \\tfrac{1}{1204} \\text{  no match}\\\\\n",
    "\\tfrac{d_1}{r_1} &= \\tfrac{1}{1} = 1 \\;\\;\\; &e = \\tfrac{85}{512} > \\tfrac{1}{1204} \\text{  no match}\\\\\n",
    "\\tfrac{d_2}{r_2} &= \\tfrac{5}{6} = 0.8\\dot{3} \\;\\;\\; &e = \\tfrac{2}{3072} < \\tfrac{1}{1204} \\text{  match!}\\\\\n",
    "\\tfrac{d_3}{r_3} &= \\tfrac{427}{512} = 0.83398\\dots \\;\\;\\; &e = 0 \\\\\n",
    "\\end{split}\n",
    "$ <br/><br/>\n",
    "> $\\frac{5}{6}$ is a match, &#x2003; $d(427)$ and $r(6)$ are coprime, &#x2003; therefore the period **r = 6**\n",
    "\n",
    "Assume the reading was **171** <br/>\n",
    "> we would get $\\frac{d}{r} = \\frac{1}{3}$, &#x2003; $d(171)$ and $r(3)$ are *not* coprime, therefore this does not work, try again."
   ]
  },
  {
   "cell_type": "markdown",
   "metadata": {},
   "source": [
    "### 8. Check r (determine factors)\n",
    "\n",
    "Check r is even\n",
    "> $6 \\pmod{2} = 0$\n",
    "\n",
    "Check if $x^{\\tfrac{r}{2}} \\pmod{n} \\ne -1$\n",
    "> $11^{\\tfrac{6}{2}} \\pmod{21} = 11^3 \\pmod{21} = 1331 \\pmod{21} = 8 \\ne 1330$\n",
    "\n",
    "Calculate factors via $x^{\\tfrac{r}{2}}\\pmod{n} \\pm 1$\n",
    "> $1331 \\pmod{21} - 1 = 7$ <br/>\n",
    "> $1331 \\pmod{21} + 1 = 9$ <br/>"
   ]
  },
  {
   "cell_type": "code",
   "execution_count": null,
   "metadata": {},
   "outputs": [],
   "source": []
  }
 ],
 "metadata": {
  "kernelspec": {
   "display_name": "Python 3",
   "language": "python",
   "name": "python3"
  },
  "language_info": {
   "codemirror_mode": {
    "name": "ipython",
    "version": 3
   },
   "file_extension": ".py",
   "mimetype": "text/x-python",
   "name": "python",
   "nbconvert_exporter": "python",
   "pygments_lexer": "ipython3",
   "version": "3.6.5"
  }
 },
 "nbformat": 4,
 "nbformat_minor": 2
}

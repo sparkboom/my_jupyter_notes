{
 "cells": [
  {
   "cell_type": "markdown",
   "metadata": {},
   "source": [
    "# IPython \n",
    "\n",
    "**Resources**\n",
    "- [IPython docs](http://ipython.readthedocs.io/en/stable/index.html)\n"
   ]
  },
  {
   "cell_type": "markdown",
   "metadata": {},
   "source": [
    "----\n",
    "## <a name=\"display\"></a>IPython display\n",
    "\n",
    "### Resources\n",
    "- [docs](http://ipython.readthedocs.io/en/stable/api/generated/IPython.display.html)\n",
    "- content based on [demos by tiao.io](http://tiao.io/posts/demos/ipython-notebook-demo/)\n",
    "\n",
    "----\n",
    "\n",
    "### IPython.display.display\n",
    "```python\n",
    "from IPython.display import display\n",
    "# or from IPython.core.display import display\n",
    "```\n",
    "- Calling display on an object will send all possible representations to the Notebook.\n",
    "- These representations are stored in the Notebook document.\n",
    "- In general the Notebook will display the richest available representation.\n",
    "\n",
    "Some 'displayable' objects are:\n",
    "> Audio - [Code](#code) - [FileLink](#link) - [FileLinks](#link) - GeoJSON - [HTML](#html) - IFrame - [Image](#image) - [JSON](#json) - Javascript - [Latex](#latex) - [Markdown](#markdown) - [Math](#math) - Pretty - ProgressBar - [SVG](#images) - ScribdDocument  - Video - VimeoVideo - YouTubeVideo\n",
    "\n",
    "base objects are:\n",
    "> DisplayHandle - DisplayObject - TextDisplayObject\n",
    "\n",
    "\n",
    "if you'd like to be specific, you can use one of the many display functions\n",
    "```python\n",
    "from IPython.display import \n",
    "# or from IPython.core.display import \n",
    "display, display_pretty\n",
    "display_html, display_javascript, display_json\n",
    "display_markdown, display_latex, display_pdf\n",
    "display_jpeg, display_png, display_svg\n",
    "```"
   ]
  },
  {
   "cell_type": "code",
   "execution_count": 2,
   "metadata": {},
   "outputs": [],
   "source": [
    "# import\n",
    "from IPython.display import *"
   ]
  },
  {
   "cell_type": "markdown",
   "metadata": {},
   "source": [
    "----\n",
    "IPython display\n",
    "#### <a name=\"math\"></a>Math\n",
    "`IPython.display.Math` can render mathematical symbols in output"
   ]
  },
  {
   "cell_type": "code",
   "execution_count": 48,
   "metadata": {},
   "outputs": [
    {
     "data": {
      "text/latex": [
       "$$F(k) = \\int_{-\\infty}^{\\infty} f(k) e^{2\\pi i k} dx$$"
      ],
      "text/plain": [
       "<IPython.core.display.Math object>"
      ]
     },
     "metadata": {},
     "output_type": "display_data"
    }
   ],
   "source": [
    "latex = r'F(k) = \\int_{-\\infty}^{\\infty} f(k) e^{2\\pi i k} dx'\n",
    "display(Math(latex))"
   ]
  },
  {
   "cell_type": "markdown",
   "metadata": {},
   "source": [
    "----\n",
    "IPython display\n",
    "\n",
    "#### <a name=\"markdown\"></a>Markdown\n",
    "`IPython.display.Markdown` can render markdown"
   ]
  },
  {
   "cell_type": "code",
   "execution_count": 6,
   "metadata": {},
   "outputs": [
    {
     "data": {
      "text/markdown": [
       "**bold** *italic* `monospaced` normal"
      ],
      "text/plain": [
       "<IPython.core.display.Markdown object>"
      ]
     },
     "metadata": {},
     "output_type": "display_data"
    }
   ],
   "source": [
    "display(Markdown(r'**bold** *italic* `monospaced` normal'))"
   ]
  },
  {
   "cell_type": "markdown",
   "metadata": {},
   "source": [
    "----\n",
    "IPython display\n",
    "#### <a name=\"html\"></a>HTML\n",
    "[`IPython.core.display.HTML`, `IPython.display.HTML`](http://ipython.readthedocs.io/en/stable/api/generated/IPython.display.html#IPython.display.HTML) can render html\n"
   ]
  },
  {
   "cell_type": "code",
   "execution_count": 35,
   "metadata": {},
   "outputs": [
    {
     "data": {
      "text/html": [
       "<b>This is HTML</b>"
      ],
      "text/plain": [
       "<IPython.core.display.HTML object>"
      ]
     },
     "metadata": {},
     "output_type": "display_data"
    }
   ],
   "source": [
    "display(HTML(r'<b>This is HTML</b>'))"
   ]
  },
  {
   "cell_type": "markdown",
   "metadata": {},
   "source": [
    "----\n",
    "IPython display\n",
    "#### <a name=\"json\"></a>JSON\n",
    "[`IPython.display.Json`](http://ipython.readthedocs.io/en/stable/api/generated/IPython.display.html#IPython.display.Image) can render json\n"
   ]
  },
  {
   "cell_type": "code",
   "execution_count": 56,
   "metadata": {},
   "outputs": [
    {
     "data": {
      "application/json": {
       "age": 35,
       "children": [
        {
         "age": 6,
         "firstName": "Alice"
        },
        {
         "age": 8,
         "firstName": "Bob"
        }
       ],
       "firstName": "Jane",
       "hobbies": [
        "running",
        "sky diving",
        "singing"
       ],
       "lastName": "Doe"
      },
      "text/plain": [
       "<IPython.core.display.JSON object>"
      ]
     },
     "metadata": {
      "application/json": {
       "expanded": false
      }
     },
     "output_type": "display_data"
    }
   ],
   "source": [
    "import json\n",
    "json_str = '{\"firstName\":\"Jane\",\"lastName\":\"Doe\",\"hobbies\":[\"running\",\"sky diving\",\"singing\"],\"age\":35,\"children\":[{\"firstName\":\"Alice\",\"age\":6},{\"firstName\":\"Bob\",\"age\":8}]}'\n",
    "dict_obj = json.loads(json_str)\n",
    "display(JSON(dict_obj))"
   ]
  },
  {
   "cell_type": "markdown",
   "metadata": {},
   "source": [
    "----\n",
    "IPython display\n",
    "#### <a name=\"code\"></a>Code\n",
    "[`IPython.display.Code`](http://ipython.readthedocs.io/en/stable/api/generated/IPython.display.html#IPython.display.Code) can render formatted and syntax-highlighted code.\n",
    "\n",
    "This uses Pygments Lexers http://pygments.org/docs/lexers/\n",
    "\n",
    "It seems the code is not highlighted below. \n",
    "\n",
    "Alternatively you may use Markdown codeblock, or HTML & Pygment Lexer"
   ]
  },
  {
   "cell_type": "code",
   "execution_count": null,
   "metadata": {},
   "outputs": [],
   "source": [
    "cd = In[56]"
   ]
  },
  {
   "cell_type": "code",
   "execution_count": 101,
   "metadata": {},
   "outputs": [
    {
     "data": {
      "text/html": [
       "<style>.output_html .hll { background-color: #ffffcc }\n",
       ".output_html  { background: #f8f8f8; }\n",
       ".output_html .c { color: #408080; font-style: italic } /* Comment */\n",
       ".output_html .err { border: 1px solid #FF0000 } /* Error */\n",
       ".output_html .k { color: #008000; font-weight: bold } /* Keyword */\n",
       ".output_html .o { color: #666666 } /* Operator */\n",
       ".output_html .ch { color: #408080; font-style: italic } /* Comment.Hashbang */\n",
       ".output_html .cm { color: #408080; font-style: italic } /* Comment.Multiline */\n",
       ".output_html .cp { color: #BC7A00 } /* Comment.Preproc */\n",
       ".output_html .cpf { color: #408080; font-style: italic } /* Comment.PreprocFile */\n",
       ".output_html .c1 { color: #408080; font-style: italic } /* Comment.Single */\n",
       ".output_html .cs { color: #408080; font-style: italic } /* Comment.Special */\n",
       ".output_html .gd { color: #A00000 } /* Generic.Deleted */\n",
       ".output_html .ge { font-style: italic } /* Generic.Emph */\n",
       ".output_html .gr { color: #FF0000 } /* Generic.Error */\n",
       ".output_html .gh { color: #000080; font-weight: bold } /* Generic.Heading */\n",
       ".output_html .gi { color: #00A000 } /* Generic.Inserted */\n",
       ".output_html .go { color: #888888 } /* Generic.Output */\n",
       ".output_html .gp { color: #000080; font-weight: bold } /* Generic.Prompt */\n",
       ".output_html .gs { font-weight: bold } /* Generic.Strong */\n",
       ".output_html .gu { color: #800080; font-weight: bold } /* Generic.Subheading */\n",
       ".output_html .gt { color: #0044DD } /* Generic.Traceback */\n",
       ".output_html .kc { color: #008000; font-weight: bold } /* Keyword.Constant */\n",
       ".output_html .kd { color: #008000; font-weight: bold } /* Keyword.Declaration */\n",
       ".output_html .kn { color: #008000; font-weight: bold } /* Keyword.Namespace */\n",
       ".output_html .kp { color: #008000 } /* Keyword.Pseudo */\n",
       ".output_html .kr { color: #008000; font-weight: bold } /* Keyword.Reserved */\n",
       ".output_html .kt { color: #B00040 } /* Keyword.Type */\n",
       ".output_html .m { color: #666666 } /* Literal.Number */\n",
       ".output_html .s { color: #BA2121 } /* Literal.String */\n",
       ".output_html .na { color: #7D9029 } /* Name.Attribute */\n",
       ".output_html .nb { color: #008000 } /* Name.Builtin */\n",
       ".output_html .nc { color: #0000FF; font-weight: bold } /* Name.Class */\n",
       ".output_html .no { color: #880000 } /* Name.Constant */\n",
       ".output_html .nd { color: #AA22FF } /* Name.Decorator */\n",
       ".output_html .ni { color: #999999; font-weight: bold } /* Name.Entity */\n",
       ".output_html .ne { color: #D2413A; font-weight: bold } /* Name.Exception */\n",
       ".output_html .nf { color: #0000FF } /* Name.Function */\n",
       ".output_html .nl { color: #A0A000 } /* Name.Label */\n",
       ".output_html .nn { color: #0000FF; font-weight: bold } /* Name.Namespace */\n",
       ".output_html .nt { color: #008000; font-weight: bold } /* Name.Tag */\n",
       ".output_html .nv { color: #19177C } /* Name.Variable */\n",
       ".output_html .ow { color: #AA22FF; font-weight: bold } /* Operator.Word */\n",
       ".output_html .w { color: #bbbbbb } /* Text.Whitespace */\n",
       ".output_html .mb { color: #666666 } /* Literal.Number.Bin */\n",
       ".output_html .mf { color: #666666 } /* Literal.Number.Float */\n",
       ".output_html .mh { color: #666666 } /* Literal.Number.Hex */\n",
       ".output_html .mi { color: #666666 } /* Literal.Number.Integer */\n",
       ".output_html .mo { color: #666666 } /* Literal.Number.Oct */\n",
       ".output_html .sa { color: #BA2121 } /* Literal.String.Affix */\n",
       ".output_html .sb { color: #BA2121 } /* Literal.String.Backtick */\n",
       ".output_html .sc { color: #BA2121 } /* Literal.String.Char */\n",
       ".output_html .dl { color: #BA2121 } /* Literal.String.Delimiter */\n",
       ".output_html .sd { color: #BA2121; font-style: italic } /* Literal.String.Doc */\n",
       ".output_html .s2 { color: #BA2121 } /* Literal.String.Double */\n",
       ".output_html .se { color: #BB6622; font-weight: bold } /* Literal.String.Escape */\n",
       ".output_html .sh { color: #BA2121 } /* Literal.String.Heredoc */\n",
       ".output_html .si { color: #BB6688; font-weight: bold } /* Literal.String.Interpol */\n",
       ".output_html .sx { color: #008000 } /* Literal.String.Other */\n",
       ".output_html .sr { color: #BB6688 } /* Literal.String.Regex */\n",
       ".output_html .s1 { color: #BA2121 } /* Literal.String.Single */\n",
       ".output_html .ss { color: #19177C } /* Literal.String.Symbol */\n",
       ".output_html .bp { color: #008000 } /* Name.Builtin.Pseudo */\n",
       ".output_html .fm { color: #0000FF } /* Name.Function.Magic */\n",
       ".output_html .vc { color: #19177C } /* Name.Variable.Class */\n",
       ".output_html .vg { color: #19177C } /* Name.Variable.Global */\n",
       ".output_html .vi { color: #19177C } /* Name.Variable.Instance */\n",
       ".output_html .vm { color: #19177C } /* Name.Variable.Magic */\n",
       ".output_html .il { color: #666666 } /* Literal.Number.Integer.Long */</style><div class=\"highlight\"><pre><span></span><span class=\"kn\">import</span> <span class=\"nn\">json</span>\n",
       "<span class=\"n\">json_str</span> <span class=\"o\">=</span> <span class=\"s1\">&#39;{&quot;firstName&quot;:&quot;Jane&quot;,&quot;lastName&quot;:&quot;Doe&quot;,&quot;hobbies&quot;:[&quot;running&quot;,&quot;sky diving&quot;,&quot;singing&quot;],&quot;age&quot;:35,&quot;children&quot;:[{&quot;firstName&quot;:&quot;Alice&quot;,&quot;age&quot;:6},{&quot;firstName&quot;:&quot;Bob&quot;,&quot;age&quot;:8}]}&#39;</span>\n",
       "<span class=\"n\">dict_obj</span> <span class=\"o\">=</span> <span class=\"n\">json</span><span class=\"o\">.</span><span class=\"n\">loads</span><span class=\"p\">(</span><span class=\"n\">json_str</span><span class=\"p\">)</span>\n",
       "<span class=\"n\">display</span><span class=\"p\">(</span><span class=\"n\">JSON</span><span class=\"p\">(</span><span class=\"n\">dict_obj</span><span class=\"p\">))</span>\n",
       "</pre></div>\n"
      ],
      "text/latex": [
       "\\begin{Verbatim}[commandchars=\\\\\\{\\}]\n",
       "\\PY{k+kn}{import} \\PY{n+nn}{json}\n",
       "\\PY{n}{json\\PYZus{}str} \\PY{o}{=} \\PY{l+s+s1}{\\PYZsq{}}\\PY{l+s+s1}{\\PYZob{}}\\PY{l+s+s1}{\\PYZdq{}}\\PY{l+s+s1}{firstName}\\PY{l+s+s1}{\\PYZdq{}}\\PY{l+s+s1}{:}\\PY{l+s+s1}{\\PYZdq{}}\\PY{l+s+s1}{Jane}\\PY{l+s+s1}{\\PYZdq{}}\\PY{l+s+s1}{,}\\PY{l+s+s1}{\\PYZdq{}}\\PY{l+s+s1}{lastName}\\PY{l+s+s1}{\\PYZdq{}}\\PY{l+s+s1}{:}\\PY{l+s+s1}{\\PYZdq{}}\\PY{l+s+s1}{Doe}\\PY{l+s+s1}{\\PYZdq{}}\\PY{l+s+s1}{,}\\PY{l+s+s1}{\\PYZdq{}}\\PY{l+s+s1}{hobbies}\\PY{l+s+s1}{\\PYZdq{}}\\PY{l+s+s1}{:[}\\PY{l+s+s1}{\\PYZdq{}}\\PY{l+s+s1}{running}\\PY{l+s+s1}{\\PYZdq{}}\\PY{l+s+s1}{,}\\PY{l+s+s1}{\\PYZdq{}}\\PY{l+s+s1}{sky diving}\\PY{l+s+s1}{\\PYZdq{}}\\PY{l+s+s1}{,}\\PY{l+s+s1}{\\PYZdq{}}\\PY{l+s+s1}{singing}\\PY{l+s+s1}{\\PYZdq{}}\\PY{l+s+s1}{],}\\PY{l+s+s1}{\\PYZdq{}}\\PY{l+s+s1}{age}\\PY{l+s+s1}{\\PYZdq{}}\\PY{l+s+s1}{:35,}\\PY{l+s+s1}{\\PYZdq{}}\\PY{l+s+s1}{children}\\PY{l+s+s1}{\\PYZdq{}}\\PY{l+s+s1}{:[}\\PY{l+s+s1}{\\PYZob{}}\\PY{l+s+s1}{\\PYZdq{}}\\PY{l+s+s1}{firstName}\\PY{l+s+s1}{\\PYZdq{}}\\PY{l+s+s1}{:}\\PY{l+s+s1}{\\PYZdq{}}\\PY{l+s+s1}{Alice}\\PY{l+s+s1}{\\PYZdq{}}\\PY{l+s+s1}{,}\\PY{l+s+s1}{\\PYZdq{}}\\PY{l+s+s1}{age}\\PY{l+s+s1}{\\PYZdq{}}\\PY{l+s+s1}{:6\\PYZcb{},}\\PY{l+s+s1}{\\PYZob{}}\\PY{l+s+s1}{\\PYZdq{}}\\PY{l+s+s1}{firstName}\\PY{l+s+s1}{\\PYZdq{}}\\PY{l+s+s1}{:}\\PY{l+s+s1}{\\PYZdq{}}\\PY{l+s+s1}{Bob}\\PY{l+s+s1}{\\PYZdq{}}\\PY{l+s+s1}{,}\\PY{l+s+s1}{\\PYZdq{}}\\PY{l+s+s1}{age}\\PY{l+s+s1}{\\PYZdq{}}\\PY{l+s+s1}{:8\\PYZcb{}]\\PYZcb{}}\\PY{l+s+s1}{\\PYZsq{}}\n",
       "\\PY{n}{dict\\PYZus{}obj} \\PY{o}{=} \\PY{n}{json}\\PY{o}{.}\\PY{n}{loads}\\PY{p}{(}\\PY{n}{json\\PYZus{}str}\\PY{p}{)}\n",
       "\\PY{n}{display}\\PY{p}{(}\\PY{n}{JSON}\\PY{p}{(}\\PY{n}{dict\\PYZus{}obj}\\PY{p}{)}\\PY{p}{)}\n",
       "\\end{Verbatim}\n"
      ],
      "text/plain": [
       "import json\n",
       "json_str = '{\"firstName\":\"Jane\",\"lastName\":\"Doe\",\"hobbies\":[\"running\",\"sky diving\",\"singing\"],\"age\":35,\"children\":[{\"firstName\":\"Alice\",\"age\":6},{\"firstName\":\"Bob\",\"age\":8}]}'\n",
       "dict_obj = json.loads(json_str)\n",
       "display(JSON(dict_obj))"
      ]
     },
     "metadata": {},
     "output_type": "display_data"
    }
   ],
   "source": [
    "display(Code(cd, language='py3'))"
   ]
  },
  {
   "cell_type": "code",
   "execution_count": 102,
   "metadata": {},
   "outputs": [
    {
     "data": {
      "text/markdown": [
       "```python\n",
       "import json\n",
       "json_str = '{\"firstName\":\"Jane\",\"lastName\":\"Doe\",\"hobbies\":[\"running\",\"sky diving\",\"singing\"],\"age\":35,\"children\":[{\"firstName\":\"Alice\",\"age\":6},{\"firstName\":\"Bob\",\"age\":8}]}'\n",
       "dict_obj = json.loads(json_str)\n",
       "display(JSON(dict_obj))```"
      ],
      "text/plain": [
       "<IPython.core.display.Markdown object>"
      ]
     },
     "metadata": {},
     "output_type": "display_data"
    }
   ],
   "source": [
    "display(Markdown('```python\\n' + cd + '```'))"
   ]
  },
  {
   "cell_type": "code",
   "execution_count": 100,
   "metadata": {},
   "outputs": [
    {
     "data": {
      "text/html": [
       "<!DOCTYPE html PUBLIC \"-//W3C//DTD HTML 4.01//EN\"\n",
       "   \"http://www.w3.org/TR/html4/strict.dtd\">\n",
       "\n",
       "<html>\n",
       "<head>\n",
       "  <title></title>\n",
       "  <meta http-equiv=\"content-type\" content=\"text/html; charset=None\">\n",
       "  <style type=\"text/css\">\n",
       "td.linenos { background-color: #f0f0f0; padding-right: 10px; }\n",
       "span.lineno { background-color: #f0f0f0; padding: 0 5px 0 5px; }\n",
       "pre { line-height: 125%; }\n",
       "body .hll { background-color: #ffffcc }\n",
       "body  { background: #f8f8f8; }\n",
       "body .c { color: #408080; font-style: italic } /* Comment */\n",
       "body .err { border: 1px solid #FF0000 } /* Error */\n",
       "body .k { color: #008000; font-weight: bold } /* Keyword */\n",
       "body .o { color: #666666 } /* Operator */\n",
       "body .ch { color: #408080; font-style: italic } /* Comment.Hashbang */\n",
       "body .cm { color: #408080; font-style: italic } /* Comment.Multiline */\n",
       "body .cp { color: #BC7A00 } /* Comment.Preproc */\n",
       "body .cpf { color: #408080; font-style: italic } /* Comment.PreprocFile */\n",
       "body .c1 { color: #408080; font-style: italic } /* Comment.Single */\n",
       "body .cs { color: #408080; font-style: italic } /* Comment.Special */\n",
       "body .gd { color: #A00000 } /* Generic.Deleted */\n",
       "body .ge { font-style: italic } /* Generic.Emph */\n",
       "body .gr { color: #FF0000 } /* Generic.Error */\n",
       "body .gh { color: #000080; font-weight: bold } /* Generic.Heading */\n",
       "body .gi { color: #00A000 } /* Generic.Inserted */\n",
       "body .go { color: #888888 } /* Generic.Output */\n",
       "body .gp { color: #000080; font-weight: bold } /* Generic.Prompt */\n",
       "body .gs { font-weight: bold } /* Generic.Strong */\n",
       "body .gu { color: #800080; font-weight: bold } /* Generic.Subheading */\n",
       "body .gt { color: #0044DD } /* Generic.Traceback */\n",
       "body .kc { color: #008000; font-weight: bold } /* Keyword.Constant */\n",
       "body .kd { color: #008000; font-weight: bold } /* Keyword.Declaration */\n",
       "body .kn { color: #008000; font-weight: bold } /* Keyword.Namespace */\n",
       "body .kp { color: #008000 } /* Keyword.Pseudo */\n",
       "body .kr { color: #008000; font-weight: bold } /* Keyword.Reserved */\n",
       "body .kt { color: #B00040 } /* Keyword.Type */\n",
       "body .m { color: #666666 } /* Literal.Number */\n",
       "body .s { color: #BA2121 } /* Literal.String */\n",
       "body .na { color: #7D9029 } /* Name.Attribute */\n",
       "body .nb { color: #008000 } /* Name.Builtin */\n",
       "body .nc { color: #0000FF; font-weight: bold } /* Name.Class */\n",
       "body .no { color: #880000 } /* Name.Constant */\n",
       "body .nd { color: #AA22FF } /* Name.Decorator */\n",
       "body .ni { color: #999999; font-weight: bold } /* Name.Entity */\n",
       "body .ne { color: #D2413A; font-weight: bold } /* Name.Exception */\n",
       "body .nf { color: #0000FF } /* Name.Function */\n",
       "body .nl { color: #A0A000 } /* Name.Label */\n",
       "body .nn { color: #0000FF; font-weight: bold } /* Name.Namespace */\n",
       "body .nt { color: #008000; font-weight: bold } /* Name.Tag */\n",
       "body .nv { color: #19177C } /* Name.Variable */\n",
       "body .ow { color: #AA22FF; font-weight: bold } /* Operator.Word */\n",
       "body .w { color: #bbbbbb } /* Text.Whitespace */\n",
       "body .mb { color: #666666 } /* Literal.Number.Bin */\n",
       "body .mf { color: #666666 } /* Literal.Number.Float */\n",
       "body .mh { color: #666666 } /* Literal.Number.Hex */\n",
       "body .mi { color: #666666 } /* Literal.Number.Integer */\n",
       "body .mo { color: #666666 } /* Literal.Number.Oct */\n",
       "body .sa { color: #BA2121 } /* Literal.String.Affix */\n",
       "body .sb { color: #BA2121 } /* Literal.String.Backtick */\n",
       "body .sc { color: #BA2121 } /* Literal.String.Char */\n",
       "body .dl { color: #BA2121 } /* Literal.String.Delimiter */\n",
       "body .sd { color: #BA2121; font-style: italic } /* Literal.String.Doc */\n",
       "body .s2 { color: #BA2121 } /* Literal.String.Double */\n",
       "body .se { color: #BB6622; font-weight: bold } /* Literal.String.Escape */\n",
       "body .sh { color: #BA2121 } /* Literal.String.Heredoc */\n",
       "body .si { color: #BB6688; font-weight: bold } /* Literal.String.Interpol */\n",
       "body .sx { color: #008000 } /* Literal.String.Other */\n",
       "body .sr { color: #BB6688 } /* Literal.String.Regex */\n",
       "body .s1 { color: #BA2121 } /* Literal.String.Single */\n",
       "body .ss { color: #19177C } /* Literal.String.Symbol */\n",
       "body .bp { color: #008000 } /* Name.Builtin.Pseudo */\n",
       "body .fm { color: #0000FF } /* Name.Function.Magic */\n",
       "body .vc { color: #19177C } /* Name.Variable.Class */\n",
       "body .vg { color: #19177C } /* Name.Variable.Global */\n",
       "body .vi { color: #19177C } /* Name.Variable.Instance */\n",
       "body .vm { color: #19177C } /* Name.Variable.Magic */\n",
       "body .il { color: #666666 } /* Literal.Number.Integer.Long */\n",
       "\n",
       "  </style>\n",
       "</head>\n",
       "<body>\n",
       "<h2></h2>\n",
       "\n",
       "<div class=\"highlight\"><pre><span></span><span class=\"kn\">import</span> <span class=\"nn\">json</span>\n",
       "<span class=\"n\">json_str</span> <span class=\"o\">=</span> <span class=\"s1\">&#39;{&quot;firstName&quot;:&quot;Jane&quot;,&quot;lastName&quot;:&quot;Doe&quot;,&quot;hobbies&quot;:[&quot;running&quot;,&quot;sky diving&quot;,&quot;singing&quot;],&quot;age&quot;:35,&quot;children&quot;:[{&quot;firstName&quot;:&quot;Alice&quot;,&quot;age&quot;:6},{&quot;firstName&quot;:&quot;Bob&quot;,&quot;age&quot;:8}]}&#39;</span>\n",
       "<span class=\"n\">dict_obj</span> <span class=\"o\">=</span> <span class=\"n\">json</span><span class=\"o\">.</span><span class=\"n\">loads</span><span class=\"p\">(</span><span class=\"n\">json_str</span><span class=\"p\">)</span>\n",
       "<span class=\"n\">display</span><span class=\"p\">(</span><span class=\"n\">JSON</span><span class=\"p\">(</span><span class=\"n\">dict_obj</span><span class=\"p\">))</span>\n",
       "</pre></div>\n",
       "</body>\n",
       "</html>\n"
      ],
      "text/plain": [
       "<IPython.core.display.HTML object>"
      ]
     },
     "metadata": {},
     "output_type": "display_data"
    }
   ],
   "source": [
    "from pygments import highlight\n",
    "from pygments.lexers import Python3Lexer\n",
    "from pygments.formatters import HtmlFormatter\n",
    "display(HTML(highlight(cd, Python3Lexer(), HtmlFormatter(full=True))))"
   ]
  },
  {
   "cell_type": "markdown",
   "metadata": {},
   "source": [
    "----\n",
    "IPython display\n",
    "#### <a name=\"images\"></a>Images\n",
    "[`IPython.display.Image`](http://ipython.readthedocs.io/en/stable/api/generated/IPython.display.html#IPython.display.Image) can render jpg, gif, png images\n"
   ]
  },
  {
   "cell_type": "code",
   "execution_count": 83,
   "metadata": {},
   "outputs": [
    {
     "data": {
      "text/html": [
       "<img src=\"http://python.org/images/python-logo.gif\"/>"
      ],
      "text/plain": [
       "<IPython.core.display.Image object>"
      ]
     },
     "metadata": {},
     "output_type": "display_data"
    }
   ],
   "source": [
    "# by url\n",
    "display(Image(url='http://python.org/images/python-logo.gif'))"
   ]
  },
  {
   "cell_type": "code",
   "execution_count": 4,
   "metadata": {},
   "outputs": [
    {
     "data": {
      "image/jpeg": "[encoded data removed]",
      "text/plain": [
       "<IPython.core.display.Image object>"
      ]
     },
     "metadata": {},
     "output_type": "display_data"
    }
   ],
   "source": [
    "# by filename\n",
    "display(Image(filename='pug.jpg'))"
   ]
  },
  {
   "cell_type": "code",
   "execution_count": 6,
   "metadata": {},
   "outputs": [
    {
     "data": {
      "image/svg+xml": [
       "<svg height=\"256px\" version=\"1.1\" viewBox=\"0 0 256 256\" width=\"256px\" xmlns=\"http://www.w3.org/2000/svg\" xmlns:sketch=\"http://www.bohemiancoding.com/sketch/ns\" xmlns:xlink=\"http://www.w3.org/1999/xlink\">\n",
       "    <!-- Generator: Sketch 3.5.1 (25234) - http://www.bohemiancoding.com/sketch -->\n",
       "    <title>frameworks/logo_python</title>\n",
       "    <desc>Created with Sketch.</desc>\n",
       "    <defs>\n",
       "        <linearGradient id=\"linearGradient-1\" x1=\"12.9593594%\" x2=\"79.6388325%\" y1=\"11.6996305%\" y2=\"78.4532626%\">\n",
       "            <stop offset=\"0%\" stop-color=\"#387EB8\"/>\n",
       "            <stop offset=\"100%\" stop-color=\"#366994\"/>\n",
       "        </linearGradient>\n",
       "        <linearGradient id=\"linearGradient-2\" x1=\"19.127525%\" x2=\"90.7415328%\" y1=\"20.315846%\" y2=\"88.7730019%\">\n",
       "            <stop offset=\"0%\" stop-color=\"#FFE052\"/>\n",
       "            <stop offset=\"100%\" stop-color=\"#FFC331\"/>\n",
       "        </linearGradient>\n",
       "    </defs>\n",
       "    <g fill=\"none\" fill-rule=\"evenodd\" id=\"Page-1\" sketch:type=\"MSPage\" stroke=\"none\" stroke-width=\"1\">\n",
       "        <g id=\"frameworks/logo_python\" sketch:type=\"MSArtboardGroup\">\n",
       "            <g id=\"logo_python\" sketch:type=\"MSLayerGroup\" transform=\"translate(58.000000, 59.000000)\">\n",
       "                <g id=\"svg2169\" sketch:type=\"MSShapeGroup\">\n",
       "                    <g id=\"layer1\" transform=\"translate(0.784884, 0.338459)\">\n",
       "                        <g id=\"g1894\" transform=\"translate(0.519940, 0.315026)\">\n",
       "                            <path d=\"M68.4649123,0.576603982 C34.0399782,0.576606442 36.189693,15.5298673 36.189693,15.5298673 L36.2280702,31.0212942 L69.0789474,31.0212942 L69.0789474,35.6725664 L23.1798246,35.6725664 C23.1798246,35.6725664 1.15131579,33.1702269 1.15131579,67.9623894 C1.15131333,102.754545 20.3782895,101.520741 20.3782895,101.520741 L31.8530702,101.520741 L31.8530702,85.3758296 C31.8530702,85.3758296 31.2345502,66.1172566 50.7730263,66.1172566 L83.3552632,66.1172566 C83.3552632,66.1172566 101.661184,66.4136588 101.661184,48.3962942 L101.661184,18.6050885 C101.661184,18.605086 104.440528,0.576603982 68.4649123,0.576603982 L68.4649123,0.576603982 Z M50.3508772,10.9939159 C53.6192988,10.9939135 56.2609649,13.6399236 56.2609649,16.9137168 C56.2609674,20.18751 53.6192988,22.8335177 50.3508772,22.8335177 C47.0824556,22.8335202 44.4407895,20.18751 44.4407895,16.9137168 C44.440787,13.6399236 47.0824556,10.9939159 50.3508772,10.9939159 L50.3508772,10.9939159 Z\" fill=\"url(#linearGradient-1)\" id=\"path8615\"/>\n",
       "                            <path d=\"M69.4425789,135.697028 C103.867523,135.697028 101.717798,120.743765 101.717798,120.743765 L101.679421,105.252338 L68.8285439,105.252338 L68.8285439,100.601065 L114.727667,100.601065 C114.727667,100.601065 136.756175,103.103398 136.756175,68.3112302 C136.756188,33.5190787 117.529202,34.7528821 117.529202,34.7528821 L106.054421,34.7528821 L106.054421,50.8977899 C106.054421,50.8977899 106.672951,70.1563629 87.1344649,70.1563629 L54.5522256,70.1563629 C54.5522256,70.1563629 36.2463046,69.8599608 36.2463046,87.8773376 L36.2463046,117.668543 C36.2463046,117.668543 33.4669607,135.697028 69.4425789,135.697028 L69.4425789,135.697028 Z M87.556614,125.279716 C84.2881912,125.279716 81.6465263,122.633709 81.6465263,119.359915 C81.6465263,116.086121 84.2881912,113.440114 87.556614,113.440114 C90.8250368,113.440114 93.4667018,116.086121 93.4667018,119.359915 C93.466714,122.633709 90.8250368,125.279716 87.556614,125.279716 L87.556614,125.279716 Z\" fill=\"url(#linearGradient-2)\" id=\"path8620\"/>\n",
       "                        </g>\n",
       "                    </g>\n",
       "                </g>\n",
       "            </g>\n",
       "        </g>\n",
       "    </g>\n",
       "</svg>"
      ],
      "text/plain": [
       "<IPython.core.display.SVG object>"
      ]
     },
     "metadata": {},
     "output_type": "display_data"
    }
   ],
   "source": [
    "# svg\n",
    "display(SVG(url='https://opbeat.com/docs/static/images/stacks/logo_python.svg'))"
   ]
  },
  {
   "cell_type": "code",
   "execution_count": 5,
   "metadata": {},
   "outputs": [
    {
     "data": {
      "text/markdown": [
       "| Local | HTTP |\n",
       "|-|-|\n",
       "| ![](pug.jpg) | ![](https://www.python.org/static/opengraph-icon-200x200.png) |"
      ],
      "text/plain": [
       "<IPython.core.display.Markdown object>"
      ]
     },
     "metadata": {},
     "output_type": "display_data"
    }
   ],
   "source": [
    "# by markdown\n",
    "md = \"\"\"| Local | HTTP |\n",
    "|-|-|\n",
    "| ![](pug.jpg) | ![](https://www.python.org/static/opengraph-icon-200x200.png) |\"\"\"\n",
    "\n",
    "display(Markdown(md))"
   ]
  },
  {
   "cell_type": "markdown",
   "metadata": {},
   "source": [
    "----\n",
    "IPython display\n",
    "#### <a name=\"link\"></a>File Link(s)\n",
    "- [`IPython.display.FileLink`](http://ipython.readthedocs.io/en/stable/api/generated/IPython.display.html#IPython.display.FileLink) links to a specific relative local file\n",
    "- [`IPython.display.FileLinks`](http://ipython.readthedocs.io/en/stable/api/generated/IPython.display.html#IPython.display.FileLinks) links to a specific relative local folder content"
   ]
  },
  {
   "cell_type": "code",
   "execution_count": 8,
   "metadata": {},
   "outputs": [
    {
     "data": {
      "text/html": [
       "<a href='pug.jpg' target='_blank'>pug.jpg</a><br>"
      ],
      "text/plain": [
       "/Users/mmcleod/Desktop/local-repos/samples/python/jupyter/notebooks/notebook/pug.jpg"
      ]
     },
     "metadata": {},
     "output_type": "display_data"
    }
   ],
   "source": [
    "display(FileLink('pug.jpg'))"
   ]
  },
  {
   "cell_type": "code",
   "execution_count": 9,
   "metadata": {},
   "outputs": [
    {
     "data": {
      "text/html": [
       "./<br>\n",
       "&nbsp;&nbsp;<a href='./my_magic.py' target='_blank'>my_magic.py</a><br>\n",
       "&nbsp;&nbsp;<a href='./.DS_Store' target='_blank'>.DS_Store</a><br>\n",
       "&nbsp;&nbsp;<a href='./ipython.ipynb' target='_blank'>ipython.ipynb</a><br>\n",
       "&nbsp;&nbsp;<a href='./notebook.ipynb' target='_blank'>notebook.ipynb</a><br>\n",
       "&nbsp;&nbsp;<a href='./pug.jpg' target='_blank'>pug.jpg</a><br>\n",
       "&nbsp;&nbsp;<a href='./web-tools.ipynb' target='_blank'>web-tools.ipynb</a><br>\n",
       "&nbsp;&nbsp;<a href='./example.py' target='_blank'>example.py</a><br>\n",
       "./.ipynb_checkpoints/<br>\n",
       "&nbsp;&nbsp;<a href='./.ipynb_checkpoints/ipython-checkpoint.ipynb' target='_blank'>ipython-checkpoint.ipynb</a><br>\n",
       "&nbsp;&nbsp;<a href='./.ipynb_checkpoints/notebook-checkpoint.ipynb' target='_blank'>notebook-checkpoint.ipynb</a><br>\n",
       "&nbsp;&nbsp;<a href='./.ipynb_checkpoints/pug-checkpoint.jpg' target='_blank'>pug-checkpoint.jpg</a><br>"
      ],
      "text/plain": [
       "./\n",
       "  my_magic.py\n",
       "  .DS_Store\n",
       "  ipython.ipynb\n",
       "  notebook.ipynb\n",
       "  pug.jpg\n",
       "  web-tools.ipynb\n",
       "  example.py\n",
       "./.ipynb_checkpoints/\n",
       "  ipython-checkpoint.ipynb\n",
       "  notebook-checkpoint.ipynb\n",
       "  pug-checkpoint.jpg"
      ]
     },
     "metadata": {},
     "output_type": "display_data"
    }
   ],
   "source": [
    "display(FileLinks('.'))"
   ]
  },
  {
   "cell_type": "code",
   "execution_count": null,
   "metadata": {},
   "outputs": [],
   "source": []
  }
 ],
 "metadata": {
  "kernelspec": {
   "display_name": "Python 3",
   "language": "python",
   "name": "python3"
  },
  "language_info": {
   "codemirror_mode": {
    "name": "ipython",
    "version": 3
   },
   "file_extension": ".py",
   "mimetype": "text/x-python",
   "name": "python",
   "nbconvert_exporter": "python",
   "pygments_lexer": "ipython3",
   "version": "3.6.5"
  }
 },
 "nbformat": 4,
 "nbformat_minor": 2
}

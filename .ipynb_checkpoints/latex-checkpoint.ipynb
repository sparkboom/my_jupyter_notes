{
 "cells": [
  {
   "cell_type": "markdown",
   "metadata": {},
   "source": [
    "# Example LaTeX notation\n",
    "https://en.wikibooks.org/wiki/LaTeX/Mathematics\n",
    "\n"
   ]
  },
  {
   "cell_type": "markdown",
   "metadata": {},
   "source": [
    "|||||\n",
    "|-|-|-|-|\n",
    "|\\alpha<br/>$\\alpha$ | A<br/>$A$| \\beta<br/>$\\beta$ | B<br/>$B$ | \\gamma<br/>$\\gamma$ | \\Gamma<br/>$\\Gamma$ | \\delta<br/>$\\delta$ | \\Delta<br/>$\\Delta$ |\n",
    "| \\epsilon<br/>$\\epsilon$ | \\varepsilon<br/>$\\varepsilon$ | E<br/>$E$ | \\zeta<br/>$\\zeta$ |  Z<br/>$Z$ |  \\eta<br/>$\\eta$ | H<br/>$H$ | \\theta<br/>$\\theta$ |\n",
    "| \\vartheta<br/>$\\vartheta$ | \\Theta<br/>$\\Theta$ | \\iota<br/>$\\iota$ | I<br/>$I$ | \\kappa<br/>$\\kappa$ | \\varkappa<br/>$\\varkappa$ | K<br/>$K$ | \\lambda<br/>$\\lambda$ |\n",
    "| \\lambda<br/>$\\lambda$ | \\mu<br/>$\\mu$ | M<br/>$M$ | \\nu<br/>$\\nu$ | N<br/>$N$ | \\xi<br/>$\\xi$ | \\Xi<br/>$\\Xi$ | \\omicron<br/>$\\omicron$ |\n",
    "| O<br/>$O$ | \\pi $\\pi$ | \\varpi<br/>$\\varpi$ | \\Pi<br/>$\\Pi$ | \\rho<br/>$\\rho$ | \\varrho<br/>$\\varrho$ | P<br/>$P$ | \\sigma<br/>$\\sigma$ |\n",
    "| \\varsigma<br/>$\\varsigma$ | \\Sigma<br/>$\\Sigma$ | \\tau<br/>$\\tau$ | T<br/>$T$ | \\upsilon<br/>$\\upsilon$ | \\Upsilon<br/>$\\Upsilon$ | \\phi<br/>$\\phi$ | \\varphi<br/>$\\varphi$ |\n",
    "| \\Phi<br/>$\\Phi$ | \\chi<br/>$\\chi$ | X<br/>$X$ | \\psi<br/>$\\psi$ | \\Psi<br/>$\\Psi$ | \\omega<br/>$\\omega$ | \\Omega<br/>$\\Omega$ |\n"
   ]
  },
  {
   "cell_type": "markdown",
   "metadata": {},
   "source": [
    "| Example Description | Example LaTeX Notation | Example LaTeX-Rendered Symbols |\n",
    "| ---- | ---- | ----- |\n",
    "| Horiz Fraction | \\frac{x}{y} | $\\frac{x}{y}$ |\n",
    "| Sloped Fraction | ^x/_y | $^x/_y$ |\n",
    "| Complex Fraction | \\frac{\\frac{a}{b}+\\frac{c}{d}}{e-f^g} | $\\frac{\\frac{a}{b}+\\frac{c}{d}}{e-f^g}$ |\n",
    "| Modulus| a \\bmod b | $a \\bmod b$ |\n",
    "| Factorial | \\frac{n!}{k!(n-k)!} | $\\frac{n!}{k!(n-k)!}$ |\n",
    "| Binomial | \\binom{x}{y} | $\\binom{x}{y}$ |\n",
    "| Polynomial | a.x^2 b.x + c | $a x^2+b x+c$ |\n",
    "| Limit | \\lim_{x \\to \\infty} | $\\lim_{x \\to \\infty}$|\n",
    "| Functions | f(n) | $f(n)$ |\n",
    "| Trig Functions | \\cos (2\\theta) = \\cos^2 \\theta - \\sin^2 \\theta | $\\cos (2\\theta) = \\cos^2 \\theta - \\sin^2 \\theta$ |\n",
    "| Exponential | \\exp(-x) = 0 | $\\exp(-x) = 0$ |\n",
    "| Natural Logarithmic | \\ln(y) = x | $\\ln(y) = x$ |\n",
    "| Logarithmic | \\log_{10}(y) = x | $\\log_{10}(y) = x$ |\n",
    "| For all x from set X | \\forall x \\in X | $\\forall x \\in X$ |\n",
    "| There exists y less than epsilon | \\exists y \\leq \\epsilon | $\\exists y \\leq \\epsilon$ |\n",
    "| Square Root | i = \\sqrt{-1} | $i = \\sqrt{-1}$ |\n",
    "| Quadratic Eq | \\over{-b\\pm\\sqrt{4ac + b^2}}{2a} | ${-b\\pm\\sqrt{4ac + b^2}}\\over{2a}$ |\n",
    "| Root | \\sqrt[n]{m} | $\\sqrt[n]{m}$ |"
   ]
  },
  {
   "cell_type": "markdown",
   "metadata": {},
   "source": [
    "### Symbols\n",
    " \n",
    "||||||||||||\n",
    "|-|-|-|-|-|-|-|-|-|-|-|\n",
    "| Addition/Subtraction | **a+b** $a+b$ | **a-b** $a-b$ | **\\pm** $\\pm$ | **\\mp** $\\mp$ |\n",
    "| Product/Divide | **ab** $ab$ | **a\\cdotb** $a\\cdot b$ | **^a/_b** $^a/_b$ | **\\frac{a}{b}** $\\frac{a}{b}$ |\n",
    "| Equality/Equivalence Relation | equal<br/>**a=b**<br/>$a=b$ | equivalent<br/>**a\\equiv b**<br/>$a\\equiv b$ | not equal<br/>**\\neq**<br/>$\\neq$ | proportional to<br/>**\\propto**<br/>$\\propto$ | approach to a limit<br/>**\\doteq**<br/>$\\doteq$ | approximate<br/>**\\approx**<br/>$\\approx$ | is isomorphic to<br/>**\\cong**<br/>$\\cong$ | similar<br/>**\\sim**<br/>$\\sim$ | similar or equal<br/>**\\simeq**<br/>$\\simeq$ |\n",
    "| Inequality Relation | less than<br/>**<**<br/>$<$ | less than or equal<br/>**\\leq**<br/>$\\leq$ | greater than<br/>**>**<br/>$>$ | greater than or equal<br/>**\\geq**<br/>$\\geq$ | ll<br/>**\\ll**<br/>$\\ll$ | gg<br/>**\\gg**<br/>$\\gg$ |\n",
    "| Trigonometry | sine<br/>**\\sin(\\theta)**<br/>$\\sin(\\theta)$ | cosine<br/>**\\cos(\\theta)**<br/>$\\cos(\\theta)$ | tangent<br/>**\\tan(\\theta)**<br/>$\\tan(\\theta)$ | secant<br/>**\\sec(\\theta)**<br/>$\\sec(\\theta)$ | cosecant<br/>**\\csc(\\theta)**<br/>$\\csc(\\theta)$ | cotangent<br/>**\\cot(\\theta)**<br/>$\\cot(\\theta)$ | arc sine<br/>**\\arcsin(\\theta)**<br/>$\\arcsin(\\theta)$ | arc cosine<br/>**\\arccos(\\theta)**<br/>$\\arccos(\\theta)$ | arc tangent<br/>**\\arctan(\\theta)**<br/>$\\arctan(\\theta)$ |\n",
    "| Hyperbolic | hyperbolic sine<br/>**\\sinh(\\theta)**<br/>$\\sinh(\\theta)$ | hyperbolic cosine<br/>**\\cosh(\\theta)**<br/>$\\cosh(\\theta)$ | hyperbolic tangent<br/>**\\tanh(\\theta)**<br/>$\\tanh(\\theta)$ | hyperbolic secant | hyperbolic cosecant | hyperbolic cotangent<br/>**\\coth(\\theta)**<br/>$\\coth(\\theta)$ |\n",
    "| Set Relation | subset<br/>**\\subset**<br/>$\\subset$ | subset or equal<br/>**\\subseteq**<br/>$\\subseteq$ | n subset or equal<br/>**\\nsubseteq**<br/>$\\nsubseteq$ | superset<br/>**\\supset**<br/>$\\supset$ | superset or equal<br/>**\\supseteq**<br/>$\\supseteq$ | n superset or equal<br/>**\\nsupseteq**<br/>$\\nsupseteq$ | square subset<br/>**\\sqsubset**<br/>$\\sqsubset$ | square subset or equal<br/>**\\sqsubseteq**<br/>$\\sqsubseteq$ | square superset<br/>**\\sqsupset**<br/>$\\sqsupset$ | square superset or equal<br/>**\\sqsupseteq**<br/>$\\sqsupseteq$ |\n",
    "\n",
    "\n",
    "\n",
    "\n"
   ]
  },
  {
   "cell_type": "markdown",
   "metadata": {},
   "source": [
    "( ) [ ]| ' :\n",
    "\n",
    "\\parallel → $\\parallel$\n",
    "\\nparallel → $\\nparallel$\n",
    "\n",
    "factorial<br/>**!**<br/>$!$\n",
    "factorial<br/>**!**<br/>$!$\n",
    "\n",
    "| hyperbolic sine<br/>**\\sinh(\\theta)**<br/>$\\sinh(\\theta)$ | hyperbolic cosine<br/>**\\cosh(\\theta)**<br/>$\\cosh(\\theta)$ | hyperbolic tangent<br/>**\\tanh(\\theta)**<br/>$\\tanh(\\theta)$ | hyperbolic secant<br/>**\\sech**<br/>$\\sech$ | hyperbolic cosecant<br/>**\\csch**<br/>$\\csch$ | hyperbolic cotangent<br/>**\\coth**<br/>$\\coth$ |\n",
    "\n",
    "\n",
    "\n",
    "\\parallel → $\\parallel$"
   ]
  },
  {
   "cell_type": "code",
   "execution_count": null,
   "metadata": {},
   "outputs": [],
   "source": []
  }
 ],
 "metadata": {
  "kernelspec": {
   "display_name": "Python 3",
   "language": "python",
   "name": "python3"
  },
  "language_info": {
   "codemirror_mode": {
    "name": "ipython",
    "version": 3
   },
   "file_extension": ".py",
   "mimetype": "text/x-python",
   "name": "python",
   "nbconvert_exporter": "python",
   "pygments_lexer": "ipython3",
   "version": "3.6.4"
  }
 },
 "nbformat": 4,
 "nbformat_minor": 2
}

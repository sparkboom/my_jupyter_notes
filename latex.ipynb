{
 "cells": [
  {
   "cell_type": "markdown",
   "metadata": {},
   "source": [
    "# Example LaTeX notation\n",
    "https://en.wikibooks.org/wiki/LaTeX/Mathematics\n",
    "\n"
   ]
  },
  {
   "cell_type": "markdown",
   "metadata": {},
   "source": [
    "|||||\n",
    "|-|-|-|-|\n",
    "|\\alpha  $\\alpha$ | A  $A$| \\beta $\\beta$ | B $B$ | \\gamma $\\gamma$ | \\Gamma $\\Gamma$ | \\delta $\\delta$ | \\Delta $\\Delta$ |\n",
    "| \\epsilon $\\epsilon$ | \\varepsilon $\\varepsilon$ | E $E$ | \\zeta $\\zeta$ |  Z $Z$ |  \\eta $\\eta$ | H $H$ | \\theta $\\theta$ |\n",
    "| \\vartheta $\\vartheta$ | \\Theta $\\Theta$ | \\iota $\\iota$ | I $I$ | \\kappa $\\kappa$ | \\varkappa $\\varkappa$ | K $K$ | \\lambda $\\lambda$ |\n",
    "| \\lambda $\\lambda$ | \\mu $\\mu$ | M $M$ | \\nu $\\nu$ | N $N$ | \\xi $\\xi$ | \\Xi $\\Xi$ | \\omicron $\\omicron$ |\n",
    "| O $O$ | \\pi $\\pi$ | \\varpi $\\varpi$ | \\Pi $\\Pi$ | \\rho $\\rho$ | \\varrho $\\varrho$ | P $P$ | \\sigma $\\sigma$ |\n",
    "| \\varsigma $\\varsigma$ | \\Sigma $\\Sigma$ | \\tau $\\tau$ | T $T$ | \\upsilon $\\upsilon$ | \\Upsilon $\\Upsilon$ | \\phi $\\phi$ | \\varphi $\\varphi$ |\n",
    "| \\Phi $\\Phi$ | \\chi $\\chi$ | X $X$ | \\psi $\\psi$ | \\Psi $\\Psi$ | \\omega $\\omega$ | \\Omega $\\Omega$ |\n"
   ]
  },
  {
   "cell_type": "markdown",
   "metadata": {},
   "source": [
    "| Example Description | Example LaTeX Notation | Example LaTeX-Rendered Symbols |\n",
    "| ---- | ---- | ----- |\n",
    "| Horiz Fraction | \\frac{x}{y} | $\\frac{x}{y}$ |\n",
    "| Sloped Fraction | ^x/_y | $^x/_y$ |\n",
    "| Complex Fraction | \\frac{\\frac{a}{b}+\\frac{c}{d}}{e-f^g} | $\\frac{\\frac{a}{b}+\\frac{c}{d}}{e-f^g}$ |\n",
    "| Modulus| a \\bmod b | $a \\bmod b$ |\n",
    "| Factorial | \\frac{n!}{k!(n-k)!} | $\\frac{n!}{k!(n-k)!}$ |\n",
    "| Binomial | \\binom{x}{y} | $\\binom{x}{y}$ |\n",
    "| Polynomial | a.x^2 b.x + c | $a x^2+b x+c$ |\n",
    "| Limit | \\lim_{x \\to \\infty} | $\\lim_{x \\to \\infty}$ |\n",
    "| Functions | f(n) | $f(n)$ |\n",
    "| Trig Functions | \\cos (2\\theta) = \\cos^2 \\theta - \\sin^2 \\theta | $\\cos (2\\theta) = \\cos^2 \\theta - \\sin^2 \\theta$ |\n",
    "| Exponential | \\exp(-x) = 0 | $\\exp(-x) = 0$ |\n",
    "| Natural Logarithmic | \\ln(y) = x | $\\ln(y) = x$ |\n",
    "| Logarithmic | \\log_{10}(y) = x | $\\log_{10}(y) = x$ |\n",
    "| For all x from set X | \\forall x \\in X | $\\forall x \\in X$ |\n",
    "| There exists y less than epsilon | \\exists y \\leq \\epsilon | $\\exists y \\leq \\epsilon$ |"
   ]
  },
  {
   "cell_type": "code",
   "execution_count": null,
   "metadata": {},
   "outputs": [],
   "source": []
  }
 ],
 "metadata": {
  "kernelspec": {
   "display_name": "Python 3",
   "language": "python",
   "name": "python3"
  },
  "language_info": {
   "codemirror_mode": {
    "name": "ipython",
    "version": 3
   },
   "file_extension": ".py",
   "mimetype": "text/x-python",
   "name": "python",
   "nbconvert_exporter": "python",
   "pygments_lexer": "ipython3",
   "version": "3.6.4"
  }
 },
 "nbformat": 4,
 "nbformat_minor": 2
}

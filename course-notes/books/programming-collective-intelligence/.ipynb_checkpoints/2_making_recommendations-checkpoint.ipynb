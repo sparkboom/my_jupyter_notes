{
 "cells": [
  {
   "cell_type": "markdown",
   "metadata": {},
   "source": [
    "# Chapter 2 Making Recommendations\n",
    "\n",
    "Recommender systems can make suggestions based on things that other people like\n",
    "\n",
    "Examples\n",
    "- Amazon - people also liked/bought etc\n",
    "\n",
    "Recommendations can be made on other mediums, even if there is no previous history of purchases of that medium - likeness score can be established in many ways"
   ]
  },
  {
   "cell_type": "markdown",
   "metadata": {},
   "source": [
    "----\n",
    "\n",
    "## Collaborative Filtering\n",
    "\n",
    "Typically, to obtain a recommendation you would ask friends who have your 'taste'. It can be impractical to ask a few people when there are lots of options (the recommenders may not be aware of all options)\n",
    "\n",
    "This algorithm works by seaching a large group of people to find a smaller set with tastes similar to yours, and combines them to create a ranked list of suggestions.\n",
    "\n",
    "There are many ways to measure 'likeness' \n",
    "\n",
    "> The term collaborative filtering was first used by David Goldberg at Xerox PARC in 1992 in a paper called “Using collaborative filtering to weave an information tapestry.”"
   ]
  }
 ],
 "metadata": {
  "kernelspec": {
   "display_name": "Python 3",
   "language": "python",
   "name": "python3"
  },
  "language_info": {
   "codemirror_mode": {
    "name": "ipython",
    "version": 3
   },
   "file_extension": ".py",
   "mimetype": "text/x-python",
   "name": "python",
   "nbconvert_exporter": "python",
   "pygments_lexer": "ipython3",
   "version": "3.6.6"
  }
 },
 "nbformat": 4,
 "nbformat_minor": 2
}

{
 "cells": [
  {
   "cell_type": "markdown",
   "metadata": {},
   "source": [
    "# Outputting Data\n",
    "\n",
    "- Excel \n",
    "- SQL dupe_titles_df\n",
    "- JSON\n",
    "\n",
    "----"
   ]
  },
  {
   "cell_type": "code",
   "execution_count": 6,
   "metadata": {},
   "outputs": [],
   "source": [
    "import pandas as pd\n",
    "import numpy as np\n",
    "import os"
   ]
  },
  {
   "cell_type": "code",
   "execution_count": 7,
   "metadata": {},
   "outputs": [
    {
     "data": {
      "text/html": [
       "<div>\n",
       "<style scoped>\n",
       "    .dataframe tbody tr th:only-of-type {\n",
       "        vertical-align: middle;\n",
       "    }\n",
       "\n",
       "    .dataframe tbody tr th {\n",
       "        vertical-align: top;\n",
       "    }\n",
       "\n",
       "    .dataframe thead th {\n",
       "        text-align: right;\n",
       "    }\n",
       "</style>\n",
       "<table border=\"1\" class=\"dataframe\">\n",
       "  <thead>\n",
       "    <tr style=\"text-align: right;\">\n",
       "      <th></th>\n",
       "      <th>artist</th>\n",
       "      <th>title</th>\n",
       "      <th>medium</th>\n",
       "      <th>year</th>\n",
       "      <th>acquisitionYear</th>\n",
       "      <th>width</th>\n",
       "      <th>height</th>\n",
       "      <th>units</th>\n",
       "    </tr>\n",
       "    <tr>\n",
       "      <th>id</th>\n",
       "      <th></th>\n",
       "      <th></th>\n",
       "      <th></th>\n",
       "      <th></th>\n",
       "      <th></th>\n",
       "      <th></th>\n",
       "      <th></th>\n",
       "      <th></th>\n",
       "    </tr>\n",
       "  </thead>\n",
       "  <tbody>\n",
       "    <tr>\n",
       "      <th>1035</th>\n",
       "      <td>Blake, Robert</td>\n",
       "      <td>A Figure Bowing before a Seated Old Man with h...</td>\n",
       "      <td>Watercolour, ink, chalk and graphite on paper....</td>\n",
       "      <td>NaN</td>\n",
       "      <td>1922.0</td>\n",
       "      <td>394</td>\n",
       "      <td>419</td>\n",
       "      <td>mm</td>\n",
       "    </tr>\n",
       "    <tr>\n",
       "      <th>1036</th>\n",
       "      <td>Blake, Robert</td>\n",
       "      <td>Two Drawings of Frightened Figures, Probably f...</td>\n",
       "      <td>Graphite on paper</td>\n",
       "      <td>NaN</td>\n",
       "      <td>1922.0</td>\n",
       "      <td>311</td>\n",
       "      <td>213</td>\n",
       "      <td>mm</td>\n",
       "    </tr>\n",
       "    <tr>\n",
       "      <th>1037</th>\n",
       "      <td>Blake, Robert</td>\n",
       "      <td>The Preaching of Warning. Verso: An Old Man En...</td>\n",
       "      <td>Graphite on paper. Verso: graphite on paper</td>\n",
       "      <td>1785</td>\n",
       "      <td>1922.0</td>\n",
       "      <td>343</td>\n",
       "      <td>467</td>\n",
       "      <td>mm</td>\n",
       "    </tr>\n",
       "    <tr>\n",
       "      <th>1038</th>\n",
       "      <td>Blake, Robert</td>\n",
       "      <td>Six Drawings of Figures with Outstretched Arms</td>\n",
       "      <td>Graphite on paper</td>\n",
       "      <td>NaN</td>\n",
       "      <td>1922.0</td>\n",
       "      <td>318</td>\n",
       "      <td>394</td>\n",
       "      <td>mm</td>\n",
       "    </tr>\n",
       "    <tr>\n",
       "      <th>1039</th>\n",
       "      <td>Blake, William</td>\n",
       "      <td>The Circle of the Lustful: Francesca da Rimini...</td>\n",
       "      <td>Line engraving on paper</td>\n",
       "      <td>1826</td>\n",
       "      <td>1919.0</td>\n",
       "      <td>243</td>\n",
       "      <td>335</td>\n",
       "      <td>mm</td>\n",
       "    </tr>\n",
       "  </tbody>\n",
       "</table>\n",
       "</div>"
      ],
      "text/plain": [
       "              artist                                              title  \\\n",
       "id                                                                        \n",
       "1035   Blake, Robert  A Figure Bowing before a Seated Old Man with h...   \n",
       "1036   Blake, Robert  Two Drawings of Frightened Figures, Probably f...   \n",
       "1037   Blake, Robert  The Preaching of Warning. Verso: An Old Man En...   \n",
       "1038   Blake, Robert     Six Drawings of Figures with Outstretched Arms   \n",
       "1039  Blake, William  The Circle of the Lustful: Francesca da Rimini...   \n",
       "\n",
       "                                                 medium  year  \\\n",
       "id                                                              \n",
       "1035  Watercolour, ink, chalk and graphite on paper....   NaN   \n",
       "1036                                  Graphite on paper   NaN   \n",
       "1037        Graphite on paper. Verso: graphite on paper  1785   \n",
       "1038                                  Graphite on paper   NaN   \n",
       "1039                            Line engraving on paper  1826   \n",
       "\n",
       "      acquisitionYear width height units  \n",
       "id                                        \n",
       "1035           1922.0   394    419    mm  \n",
       "1036           1922.0   311    213    mm  \n",
       "1037           1922.0   343    467    mm  \n",
       "1038           1922.0   318    394    mm  \n",
       "1039           1919.0   243    335    mm  "
      ]
     },
     "execution_count": 7,
     "metadata": {},
     "output_type": "execute_result"
    }
   ],
   "source": [
    "df = pd.read_pickle(\"data_frame.pickle\")\n",
    "df.head()"
   ]
  },
  {
   "cell_type": "code",
   "execution_count": 5,
   "metadata": {},
   "outputs": [],
   "source": [
    "small_df = df.iloc[49980:50019, :].copy()"
   ]
  },
  {
   "cell_type": "code",
   "execution_count": 8,
   "metadata": {},
   "outputs": [],
   "source": [
    "# to Excel\n",
    "small_df.to_excel('basics.xlsx')\n",
    "small_df.to_excel('basics-noindex.xlsx', index=False)\n",
    "small_df.to_excel('basics-cols.xlsx', columns=['artist', 'title', 'year'])"
   ]
  },
  {
   "cell_type": "code",
   "execution_count": 10,
   "metadata": {},
   "outputs": [],
   "source": [
    "# to Excel, more control\n",
    "\n",
    "# Multiple Worksheets\n",
    "writer = pd.ExcelWriter('multiple_sheets.xlsx', engine='xlsxwriter')\n",
    "small_df.to_excel(writer, sheet_name='Preview', index=False)\n",
    "df.to_excel(writer, sheet_name=\"Complete\", index=False)\n",
    "writer.save()\n",
    "\n",
    "# Conditional Formatting\n",
    "artist_counts = df['artist'].value_counts()\n",
    "artist_counts.head()\n",
    "writer = pd.ExcelWriter('colors.xlsx', engine='xlsxwriter')\n",
    "artist_counts.to_excel(writer, sheet_name='Artist Counts')\n",
    "sheet = writer.sheets['Artist Counts']\n",
    "cells_range = 'B2:B{}'.format(len(artist_counts.index))\n",
    "sheet.conditional_format(cells_range, {\n",
    "    'type' : '2_color_scale',\n",
    "    'min_value': '10',\n",
    "    'min_type': 'percentile',\n",
    "    'max_value' : '99',\n",
    "    'max_type': 'percentile'\n",
    "})\n",
    "writer.save()"
   ]
  },
  {
   "cell_type": "markdown",
   "metadata": {},
   "source": [
    "----\n",
    "SQL"
   ]
  },
  {
   "cell_type": "code",
   "execution_count": 11,
   "metadata": {},
   "outputs": [],
   "source": [
    "import sqlite3"
   ]
  },
  {
   "cell_type": "code",
   "execution_count": 12,
   "metadata": {},
   "outputs": [],
   "source": [
    "with sqlite3.connect('my_db.db') as conn:\n",
    "    small_df.to_sql('Tate', conn)"
   ]
  },
  {
   "cell_type": "markdown",
   "metadata": {},
   "source": [
    "You can read sqlite dbs with Navicat and other tools. \n",
    "\n",
    "Otherwise sqlalchemy is a popular python library, we can use this for postgresql"
   ]
  },
  {
   "cell_type": "code",
   "execution_count": 14,
   "metadata": {},
   "outputs": [],
   "source": [
    "import sqlalchemy as sa"
   ]
  },
  {
   "cell_type": "code",
   "execution_count": 16,
   "metadata": {},
   "outputs": [],
   "source": [
    "# with sa.create_engine('postgresql://localhost/my_data') as conn:\n",
    "#     small_df2.to_sql('Tate', conn)"
   ]
  },
  {
   "cell_type": "markdown",
   "metadata": {},
   "source": [
    "----\n",
    "JSON"
   ]
  },
  {
   "cell_type": "code",
   "execution_count": 17,
   "metadata": {},
   "outputs": [],
   "source": [
    "small_df.to_json('default.json')"
   ]
  },
  {
   "cell_type": "code",
   "execution_count": 18,
   "metadata": {},
   "outputs": [],
   "source": [
    "small_df.to_json('table.json', orient='table')"
   ]
  },
  {
   "cell_type": "code",
   "execution_count": null,
   "metadata": {},
   "outputs": [],
   "source": []
  }
 ],
 "metadata": {
  "kernelspec": {
   "display_name": "Python 3",
   "language": "python",
   "name": "python3"
  },
  "language_info": {
   "codemirror_mode": {
    "name": "ipython",
    "version": 3
   },
   "file_extension": ".py",
   "mimetype": "text/x-python",
   "name": "python",
   "nbconvert_exporter": "python",
   "pygments_lexer": "ipython3",
   "version": "3.6.5"
  }
 },
 "nbformat": 4,
 "nbformat_minor": 2
}
